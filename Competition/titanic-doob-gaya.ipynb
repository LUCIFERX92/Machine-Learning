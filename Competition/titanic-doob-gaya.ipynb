{
 "cells": [
  {
   "cell_type": "code",
   "execution_count": 1,
   "id": "8c6ad08a",
   "metadata": {
    "_cell_guid": "b1076dfc-b9ad-4769-8c92-a6c4dae69d19",
    "_uuid": "8f2839f25d086af736a60e9eeb907d3b93b6e0e5",
    "execution": {
     "iopub.execute_input": "2023-04-28T10:45:02.339350Z",
     "iopub.status.busy": "2023-04-28T10:45:02.338934Z",
     "iopub.status.idle": "2023-04-28T10:45:02.356439Z",
     "shell.execute_reply": "2023-04-28T10:45:02.355174Z"
    },
    "papermill": {
     "duration": 0.026749,
     "end_time": "2023-04-28T10:45:02.358987",
     "exception": false,
     "start_time": "2023-04-28T10:45:02.332238",
     "status": "completed"
    },
    "tags": []
   },
   "outputs": [
    {
     "name": "stdout",
     "output_type": "stream",
     "text": [
      "/kaggle/input/titanic/train.csv\n",
      "/kaggle/input/titanic/test.csv\n",
      "/kaggle/input/titanic/gender_submission.csv\n"
     ]
    }
   ],
   "source": [
    "# This Python 3 environment comes with many helpful analytics libraries installed\n",
    "# It is defined by the kaggle/python Docker image: https://github.com/kaggle/docker-python\n",
    "# For example, here's several helpful packages to load\n",
    "\n",
    "import numpy as np # linear algebra\n",
    "import pandas as pd # data processing, CSV file I/O (e.g. pd.read_csv)\n",
    "\n",
    "# Input data files are available in the read-only \"../input/\" directory\n",
    "# For example, running this (by clicking run or pressing Shift+Enter) will list all files under the input directory\n",
    "\n",
    "import os\n",
    "for dirname, _, filenames in os.walk('/kaggle/input'):\n",
    "    for filename in filenames:\n",
    "        print(os.path.join(dirname, filename))\n",
    "\n",
    "# You can write up to 20GB to the current directory (/kaggle/working/) that gets preserved as output when you create a version using \"Save & Run All\" \n",
    "# You can also write temporary files to /kaggle/temp/, but they won't be saved outside of the current session"
   ]
  },
  {
   "cell_type": "code",
   "execution_count": 2,
   "id": "5baef201",
   "metadata": {
    "execution": {
     "iopub.execute_input": "2023-04-28T10:45:02.369127Z",
     "iopub.status.busy": "2023-04-28T10:45:02.368812Z",
     "iopub.status.idle": "2023-04-28T10:45:02.406529Z",
     "shell.execute_reply": "2023-04-28T10:45:02.405130Z"
    },
    "papermill": {
     "duration": 0.046191,
     "end_time": "2023-04-28T10:45:02.409790",
     "exception": false,
     "start_time": "2023-04-28T10:45:02.363599",
     "status": "completed"
    },
    "tags": []
   },
   "outputs": [
    {
     "data": {
      "text/html": [
       "<div>\n",
       "<style scoped>\n",
       "    .dataframe tbody tr th:only-of-type {\n",
       "        vertical-align: middle;\n",
       "    }\n",
       "\n",
       "    .dataframe tbody tr th {\n",
       "        vertical-align: top;\n",
       "    }\n",
       "\n",
       "    .dataframe thead th {\n",
       "        text-align: right;\n",
       "    }\n",
       "</style>\n",
       "<table border=\"1\" class=\"dataframe\">\n",
       "  <thead>\n",
       "    <tr style=\"text-align: right;\">\n",
       "      <th></th>\n",
       "      <th>PassengerId</th>\n",
       "      <th>Survived</th>\n",
       "      <th>Pclass</th>\n",
       "      <th>Name</th>\n",
       "      <th>Sex</th>\n",
       "      <th>Age</th>\n",
       "      <th>SibSp</th>\n",
       "      <th>Parch</th>\n",
       "      <th>Ticket</th>\n",
       "      <th>Fare</th>\n",
       "      <th>Cabin</th>\n",
       "      <th>Embarked</th>\n",
       "    </tr>\n",
       "  </thead>\n",
       "  <tbody>\n",
       "    <tr>\n",
       "      <th>0</th>\n",
       "      <td>1</td>\n",
       "      <td>0</td>\n",
       "      <td>3</td>\n",
       "      <td>Braund, Mr. Owen Harris</td>\n",
       "      <td>male</td>\n",
       "      <td>22.0</td>\n",
       "      <td>1</td>\n",
       "      <td>0</td>\n",
       "      <td>A/5 21171</td>\n",
       "      <td>7.2500</td>\n",
       "      <td>NaN</td>\n",
       "      <td>S</td>\n",
       "    </tr>\n",
       "    <tr>\n",
       "      <th>1</th>\n",
       "      <td>2</td>\n",
       "      <td>1</td>\n",
       "      <td>1</td>\n",
       "      <td>Cumings, Mrs. John Bradley (Florence Briggs Th...</td>\n",
       "      <td>female</td>\n",
       "      <td>38.0</td>\n",
       "      <td>1</td>\n",
       "      <td>0</td>\n",
       "      <td>PC 17599</td>\n",
       "      <td>71.2833</td>\n",
       "      <td>C85</td>\n",
       "      <td>C</td>\n",
       "    </tr>\n",
       "    <tr>\n",
       "      <th>2</th>\n",
       "      <td>3</td>\n",
       "      <td>1</td>\n",
       "      <td>3</td>\n",
       "      <td>Heikkinen, Miss. Laina</td>\n",
       "      <td>female</td>\n",
       "      <td>26.0</td>\n",
       "      <td>0</td>\n",
       "      <td>0</td>\n",
       "      <td>STON/O2. 3101282</td>\n",
       "      <td>7.9250</td>\n",
       "      <td>NaN</td>\n",
       "      <td>S</td>\n",
       "    </tr>\n",
       "    <tr>\n",
       "      <th>3</th>\n",
       "      <td>4</td>\n",
       "      <td>1</td>\n",
       "      <td>1</td>\n",
       "      <td>Futrelle, Mrs. Jacques Heath (Lily May Peel)</td>\n",
       "      <td>female</td>\n",
       "      <td>35.0</td>\n",
       "      <td>1</td>\n",
       "      <td>0</td>\n",
       "      <td>113803</td>\n",
       "      <td>53.1000</td>\n",
       "      <td>C123</td>\n",
       "      <td>S</td>\n",
       "    </tr>\n",
       "    <tr>\n",
       "      <th>4</th>\n",
       "      <td>5</td>\n",
       "      <td>0</td>\n",
       "      <td>3</td>\n",
       "      <td>Allen, Mr. William Henry</td>\n",
       "      <td>male</td>\n",
       "      <td>35.0</td>\n",
       "      <td>0</td>\n",
       "      <td>0</td>\n",
       "      <td>373450</td>\n",
       "      <td>8.0500</td>\n",
       "      <td>NaN</td>\n",
       "      <td>S</td>\n",
       "    </tr>\n",
       "  </tbody>\n",
       "</table>\n",
       "</div>"
      ],
      "text/plain": [
       "   PassengerId  Survived  Pclass  \\\n",
       "0            1         0       3   \n",
       "1            2         1       1   \n",
       "2            3         1       3   \n",
       "3            4         1       1   \n",
       "4            5         0       3   \n",
       "\n",
       "                                                Name     Sex   Age  SibSp  \\\n",
       "0                            Braund, Mr. Owen Harris    male  22.0      1   \n",
       "1  Cumings, Mrs. John Bradley (Florence Briggs Th...  female  38.0      1   \n",
       "2                             Heikkinen, Miss. Laina  female  26.0      0   \n",
       "3       Futrelle, Mrs. Jacques Heath (Lily May Peel)  female  35.0      1   \n",
       "4                           Allen, Mr. William Henry    male  35.0      0   \n",
       "\n",
       "   Parch            Ticket     Fare Cabin Embarked  \n",
       "0      0         A/5 21171   7.2500   NaN        S  \n",
       "1      0          PC 17599  71.2833   C85        C  \n",
       "2      0  STON/O2. 3101282   7.9250   NaN        S  \n",
       "3      0            113803  53.1000  C123        S  \n",
       "4      0            373450   8.0500   NaN        S  "
      ]
     },
     "execution_count": 2,
     "metadata": {},
     "output_type": "execute_result"
    }
   ],
   "source": [
    "train_data = pd.read_csv(\"/kaggle/input/titanic/train.csv\")\n",
    "train_data.head()"
   ]
  },
  {
   "cell_type": "code",
   "execution_count": 3,
   "id": "1c68dc94",
   "metadata": {
    "execution": {
     "iopub.execute_input": "2023-04-28T10:45:02.420308Z",
     "iopub.status.busy": "2023-04-28T10:45:02.420022Z",
     "iopub.status.idle": "2023-04-28T10:45:02.442427Z",
     "shell.execute_reply": "2023-04-28T10:45:02.441098Z"
    },
    "papermill": {
     "duration": 0.030766,
     "end_time": "2023-04-28T10:45:02.445241",
     "exception": false,
     "start_time": "2023-04-28T10:45:02.414475",
     "status": "completed"
    },
    "tags": []
   },
   "outputs": [
    {
     "data": {
      "text/html": [
       "<div>\n",
       "<style scoped>\n",
       "    .dataframe tbody tr th:only-of-type {\n",
       "        vertical-align: middle;\n",
       "    }\n",
       "\n",
       "    .dataframe tbody tr th {\n",
       "        vertical-align: top;\n",
       "    }\n",
       "\n",
       "    .dataframe thead th {\n",
       "        text-align: right;\n",
       "    }\n",
       "</style>\n",
       "<table border=\"1\" class=\"dataframe\">\n",
       "  <thead>\n",
       "    <tr style=\"text-align: right;\">\n",
       "      <th></th>\n",
       "      <th>PassengerId</th>\n",
       "      <th>Pclass</th>\n",
       "      <th>Name</th>\n",
       "      <th>Sex</th>\n",
       "      <th>Age</th>\n",
       "      <th>SibSp</th>\n",
       "      <th>Parch</th>\n",
       "      <th>Ticket</th>\n",
       "      <th>Fare</th>\n",
       "      <th>Cabin</th>\n",
       "      <th>Embarked</th>\n",
       "    </tr>\n",
       "  </thead>\n",
       "  <tbody>\n",
       "    <tr>\n",
       "      <th>0</th>\n",
       "      <td>892</td>\n",
       "      <td>3</td>\n",
       "      <td>Kelly, Mr. James</td>\n",
       "      <td>male</td>\n",
       "      <td>34.5</td>\n",
       "      <td>0</td>\n",
       "      <td>0</td>\n",
       "      <td>330911</td>\n",
       "      <td>7.8292</td>\n",
       "      <td>NaN</td>\n",
       "      <td>Q</td>\n",
       "    </tr>\n",
       "    <tr>\n",
       "      <th>1</th>\n",
       "      <td>893</td>\n",
       "      <td>3</td>\n",
       "      <td>Wilkes, Mrs. James (Ellen Needs)</td>\n",
       "      <td>female</td>\n",
       "      <td>47.0</td>\n",
       "      <td>1</td>\n",
       "      <td>0</td>\n",
       "      <td>363272</td>\n",
       "      <td>7.0000</td>\n",
       "      <td>NaN</td>\n",
       "      <td>S</td>\n",
       "    </tr>\n",
       "    <tr>\n",
       "      <th>2</th>\n",
       "      <td>894</td>\n",
       "      <td>2</td>\n",
       "      <td>Myles, Mr. Thomas Francis</td>\n",
       "      <td>male</td>\n",
       "      <td>62.0</td>\n",
       "      <td>0</td>\n",
       "      <td>0</td>\n",
       "      <td>240276</td>\n",
       "      <td>9.6875</td>\n",
       "      <td>NaN</td>\n",
       "      <td>Q</td>\n",
       "    </tr>\n",
       "    <tr>\n",
       "      <th>3</th>\n",
       "      <td>895</td>\n",
       "      <td>3</td>\n",
       "      <td>Wirz, Mr. Albert</td>\n",
       "      <td>male</td>\n",
       "      <td>27.0</td>\n",
       "      <td>0</td>\n",
       "      <td>0</td>\n",
       "      <td>315154</td>\n",
       "      <td>8.6625</td>\n",
       "      <td>NaN</td>\n",
       "      <td>S</td>\n",
       "    </tr>\n",
       "    <tr>\n",
       "      <th>4</th>\n",
       "      <td>896</td>\n",
       "      <td>3</td>\n",
       "      <td>Hirvonen, Mrs. Alexander (Helga E Lindqvist)</td>\n",
       "      <td>female</td>\n",
       "      <td>22.0</td>\n",
       "      <td>1</td>\n",
       "      <td>1</td>\n",
       "      <td>3101298</td>\n",
       "      <td>12.2875</td>\n",
       "      <td>NaN</td>\n",
       "      <td>S</td>\n",
       "    </tr>\n",
       "  </tbody>\n",
       "</table>\n",
       "</div>"
      ],
      "text/plain": [
       "   PassengerId  Pclass                                          Name     Sex  \\\n",
       "0          892       3                              Kelly, Mr. James    male   \n",
       "1          893       3              Wilkes, Mrs. James (Ellen Needs)  female   \n",
       "2          894       2                     Myles, Mr. Thomas Francis    male   \n",
       "3          895       3                              Wirz, Mr. Albert    male   \n",
       "4          896       3  Hirvonen, Mrs. Alexander (Helga E Lindqvist)  female   \n",
       "\n",
       "    Age  SibSp  Parch   Ticket     Fare Cabin Embarked  \n",
       "0  34.5      0      0   330911   7.8292   NaN        Q  \n",
       "1  47.0      1      0   363272   7.0000   NaN        S  \n",
       "2  62.0      0      0   240276   9.6875   NaN        Q  \n",
       "3  27.0      0      0   315154   8.6625   NaN        S  \n",
       "4  22.0      1      1  3101298  12.2875   NaN        S  "
      ]
     },
     "execution_count": 3,
     "metadata": {},
     "output_type": "execute_result"
    }
   ],
   "source": [
    "test_data = pd.read_csv(\"/kaggle/input/titanic/test.csv\")\n",
    "test_data.head()"
   ]
  },
  {
   "cell_type": "code",
   "execution_count": 4,
   "id": "98825514",
   "metadata": {
    "execution": {
     "iopub.execute_input": "2023-04-28T10:45:02.456676Z",
     "iopub.status.busy": "2023-04-28T10:45:02.455792Z",
     "iopub.status.idle": "2023-04-28T10:45:02.468894Z",
     "shell.execute_reply": "2023-04-28T10:45:02.467645Z"
    },
    "papermill": {
     "duration": 0.021038,
     "end_time": "2023-04-28T10:45:02.471196",
     "exception": false,
     "start_time": "2023-04-28T10:45:02.450158",
     "status": "completed"
    },
    "tags": []
   },
   "outputs": [
    {
     "name": "stdout",
     "output_type": "stream",
     "text": [
      "% of men who survived : 0.7420382165605095\n"
     ]
    }
   ],
   "source": [
    "women = train_data.loc[train_data.Sex == 'female'][\"Survived\"]\n",
    "rate_women = sum(women)/len(women)\n",
    "\n",
    "print(\"% of men who survived :\", rate_women)"
   ]
  },
  {
   "cell_type": "code",
   "execution_count": 5,
   "id": "af4267eb",
   "metadata": {
    "execution": {
     "iopub.execute_input": "2023-04-28T10:45:02.483498Z",
     "iopub.status.busy": "2023-04-28T10:45:02.481756Z",
     "iopub.status.idle": "2023-04-28T10:45:02.490287Z",
     "shell.execute_reply": "2023-04-28T10:45:02.489086Z"
    },
    "papermill": {
     "duration": 0.016619,
     "end_time": "2023-04-28T10:45:02.492565",
     "exception": false,
     "start_time": "2023-04-28T10:45:02.475946",
     "status": "completed"
    },
    "tags": []
   },
   "outputs": [
    {
     "name": "stdout",
     "output_type": "stream",
     "text": [
      "% of men who survived : 0.18890814558058924\n"
     ]
    }
   ],
   "source": [
    "men = train_data.loc[train_data.Sex == 'male'][\"Survived\"]\n",
    "rate_men = sum(men)/len(men)\n",
    "\n",
    "print(\"% of men who survived :\", rate_men)"
   ]
  },
  {
   "cell_type": "markdown",
   "id": "8f72f86f",
   "metadata": {
    "papermill": {
     "duration": 0.004218,
     "end_time": "2023-04-28T10:45:02.501602",
     "exception": false,
     "start_time": "2023-04-28T10:45:02.497384",
     "status": "completed"
    },
    "tags": []
   },
   "source": [
    "> We are going to use the random forest model, in this we vote on whether the indivisual survived.\n",
    "Finally make a democratic decision with the most vote wins."
   ]
  },
  {
   "cell_type": "code",
   "execution_count": 6,
   "id": "bc2e3e20",
   "metadata": {
    "execution": {
     "iopub.execute_input": "2023-04-28T10:45:02.512821Z",
     "iopub.status.busy": "2023-04-28T10:45:02.511280Z",
     "iopub.status.idle": "2023-04-28T10:45:03.943035Z",
     "shell.execute_reply": "2023-04-28T10:45:03.941985Z"
    },
    "papermill": {
     "duration": 1.439939,
     "end_time": "2023-04-28T10:45:03.946071",
     "exception": false,
     "start_time": "2023-04-28T10:45:02.506132",
     "status": "completed"
    },
    "tags": []
   },
   "outputs": [],
   "source": [
    "from sklearn.ensemble import RandomForestClassifier\n",
    "\n",
    "#importing random forest classifier from the scikit-learn library"
   ]
  },
  {
   "cell_type": "code",
   "execution_count": 7,
   "id": "b9838b70",
   "metadata": {
    "execution": {
     "iopub.execute_input": "2023-04-28T10:45:03.957241Z",
     "iopub.status.busy": "2023-04-28T10:45:03.956901Z",
     "iopub.status.idle": "2023-04-28T10:45:03.961806Z",
     "shell.execute_reply": "2023-04-28T10:45:03.960649Z"
    },
    "papermill": {
     "duration": 0.013436,
     "end_time": "2023-04-28T10:45:03.964230",
     "exception": false,
     "start_time": "2023-04-28T10:45:03.950794",
     "status": "completed"
    },
    "tags": []
   },
   "outputs": [],
   "source": [
    "s = train_data[\"Survived\"]\n",
    "\n",
    "#Define the target variable for the training dataset as the \"Survived\" column of the train_data DataFrame.\n"
   ]
  },
  {
   "cell_type": "code",
   "execution_count": 8,
   "id": "3d0b669a",
   "metadata": {
    "execution": {
     "iopub.execute_input": "2023-04-28T10:45:03.975838Z",
     "iopub.status.busy": "2023-04-28T10:45:03.975518Z",
     "iopub.status.idle": "2023-04-28T10:45:03.994714Z",
     "shell.execute_reply": "2023-04-28T10:45:03.993759Z"
    },
    "papermill": {
     "duration": 0.027673,
     "end_time": "2023-04-28T10:45:03.997001",
     "exception": false,
     "start_time": "2023-04-28T10:45:03.969328",
     "status": "completed"
    },
    "tags": []
   },
   "outputs": [],
   "source": [
    "features = [\"Pclass\", \"Sex\", \"SibSp\", \"Parch\", \"Embarked\"]\n",
    "\n",
    "#Define the list of features to use for training the model.\n",
    "\n",
    "X = pd.get_dummies(train_data[features])\n",
    "\n",
    "#Create a new DataFrame X with one-hot encoded features for the training dataset."
   ]
  },
  {
   "cell_type": "code",
   "execution_count": 9,
   "id": "e377c474",
   "metadata": {
    "execution": {
     "iopub.execute_input": "2023-04-28T10:45:04.008030Z",
     "iopub.status.busy": "2023-04-28T10:45:04.007142Z",
     "iopub.status.idle": "2023-04-28T10:45:04.016416Z",
     "shell.execute_reply": "2023-04-28T10:45:04.015415Z"
    },
    "papermill": {
     "duration": 0.017046,
     "end_time": "2023-04-28T10:45:04.018617",
     "exception": false,
     "start_time": "2023-04-28T10:45:04.001571",
     "status": "completed"
    },
    "tags": []
   },
   "outputs": [],
   "source": [
    "X_test = pd.get_dummies(test_data[features])\n",
    "\n",
    "#Create a new DataFrame X_test with one-hot encoded features for the test dataset."
   ]
  },
  {
   "cell_type": "code",
   "execution_count": 10,
   "id": "43c62029",
   "metadata": {
    "execution": {
     "iopub.execute_input": "2023-04-28T10:45:04.029932Z",
     "iopub.status.busy": "2023-04-28T10:45:04.029054Z",
     "iopub.status.idle": "2023-04-28T10:45:04.196112Z",
     "shell.execute_reply": "2023-04-28T10:45:04.194796Z"
    },
    "papermill": {
     "duration": 0.175621,
     "end_time": "2023-04-28T10:45:04.199014",
     "exception": false,
     "start_time": "2023-04-28T10:45:04.023393",
     "status": "completed"
    },
    "tags": []
   },
   "outputs": [
    {
     "data": {
      "text/plain": [
       "RandomForestClassifier(max_depth=5, random_state=1)"
      ]
     },
     "execution_count": 10,
     "metadata": {},
     "output_type": "execute_result"
    }
   ],
   "source": [
    "model = RandomForestClassifier(n_estimators = 100, max_depth = 5, random_state = 1)\n",
    "model.fit(X,s)\n",
    "# In the code you provided, the random forest classifier is instantiated with 100 trees (n_estimators=100), a maximum depth of 5 (max_depth=5), and a random seed of 1 (random_state=1). \n",
    "#These values were likely chosen based on experimentation and tuning to find the best combination of performance and model complexity for the specific problem at hand."
   ]
  },
  {
   "cell_type": "code",
   "execution_count": 11,
   "id": "243a4938",
   "metadata": {
    "execution": {
     "iopub.execute_input": "2023-04-28T10:45:04.209849Z",
     "iopub.status.busy": "2023-04-28T10:45:04.209555Z",
     "iopub.status.idle": "2023-04-28T10:45:04.362827Z",
     "shell.execute_reply": "2023-04-28T10:45:04.361511Z"
    },
    "papermill": {
     "duration": 0.16112,
     "end_time": "2023-04-28T10:45:04.364981",
     "exception": false,
     "start_time": "2023-04-28T10:45:04.203861",
     "status": "completed"
    },
    "tags": []
   },
   "outputs": [
    {
     "data": {
      "text/plain": [
       "RandomForestClassifier(max_depth=5, random_state=1)"
      ]
     },
     "execution_count": 11,
     "metadata": {},
     "output_type": "execute_result"
    }
   ],
   "source": [
    "model.fit(X,s)\n",
    "\n",
    "# The model will train on training data(X, s)"
   ]
  },
  {
   "cell_type": "code",
   "execution_count": 12,
   "id": "1258ec17",
   "metadata": {
    "execution": {
     "iopub.execute_input": "2023-04-28T10:45:04.378399Z",
     "iopub.status.busy": "2023-04-28T10:45:04.376754Z",
     "iopub.status.idle": "2023-04-28T10:45:04.400083Z",
     "shell.execute_reply": "2023-04-28T10:45:04.399192Z"
    },
    "papermill": {
     "duration": 0.031058,
     "end_time": "2023-04-28T10:45:04.402148",
     "exception": false,
     "start_time": "2023-04-28T10:45:04.371090",
     "status": "completed"
    },
    "tags": []
   },
   "outputs": [],
   "source": [
    "predictions = model.predict(X_test)\n",
    "\n",
    "# Making predictions out of train data."
   ]
  },
  {
   "cell_type": "code",
   "execution_count": 13,
   "id": "9ab9de2f",
   "metadata": {
    "execution": {
     "iopub.execute_input": "2023-04-28T10:45:04.412772Z",
     "iopub.status.busy": "2023-04-28T10:45:04.412147Z",
     "iopub.status.idle": "2023-04-28T10:45:04.417494Z",
     "shell.execute_reply": "2023-04-28T10:45:04.416512Z"
    },
    "papermill": {
     "duration": 0.012735,
     "end_time": "2023-04-28T10:45:04.419569",
     "exception": false,
     "start_time": "2023-04-28T10:45:04.406834",
     "status": "completed"
    },
    "tags": []
   },
   "outputs": [],
   "source": [
    "output = pd.DataFrame({'PassengerId': test_data.PassengerId, 'Survived': predictions})"
   ]
  },
  {
   "cell_type": "markdown",
   "id": "1635912a",
   "metadata": {
    "papermill": {
     "duration": 0.004653,
     "end_time": "2023-04-28T10:45:04.428647",
     "exception": false,
     "start_time": "2023-04-28T10:45:04.423994",
     "status": "completed"
    },
    "tags": []
   },
   "source": [
    "Creating a new DataFrame output with the passenger IDs from the test dataset and the predicted survival outcomes."
   ]
  },
  {
   "cell_type": "code",
   "execution_count": 14,
   "id": "22d96116",
   "metadata": {
    "execution": {
     "iopub.execute_input": "2023-04-28T10:45:04.439492Z",
     "iopub.status.busy": "2023-04-28T10:45:04.438685Z",
     "iopub.status.idle": "2023-04-28T10:45:04.445837Z",
     "shell.execute_reply": "2023-04-28T10:45:04.444817Z"
    },
    "papermill": {
     "duration": 0.014733,
     "end_time": "2023-04-28T10:45:04.447972",
     "exception": false,
     "start_time": "2023-04-28T10:45:04.433239",
     "status": "completed"
    },
    "tags": []
   },
   "outputs": [],
   "source": [
    "output.to_csv('submission.csv', index = False)\n",
    "\n",
    "#Data frame to CSV file: submission.csv"
   ]
  },
  {
   "cell_type": "code",
   "execution_count": 15,
   "id": "9c66519e",
   "metadata": {
    "execution": {
     "iopub.execute_input": "2023-04-28T10:45:04.458657Z",
     "iopub.status.busy": "2023-04-28T10:45:04.457879Z",
     "iopub.status.idle": "2023-04-28T10:45:04.463748Z",
     "shell.execute_reply": "2023-04-28T10:45:04.462382Z"
    },
    "papermill": {
     "duration": 0.013618,
     "end_time": "2023-04-28T10:45:04.466108",
     "exception": false,
     "start_time": "2023-04-28T10:45:04.452490",
     "status": "completed"
    },
    "tags": []
   },
   "outputs": [
    {
     "name": "stdout",
     "output_type": "stream",
     "text": [
      "Your submission is saved successfully!!\n"
     ]
    }
   ],
   "source": [
    "print(\"Your submission is saved successfully!!\")"
   ]
  },
  {
   "cell_type": "code",
   "execution_count": null,
   "id": "735f33db",
   "metadata": {
    "papermill": {
     "duration": 0.004374,
     "end_time": "2023-04-28T10:45:04.474935",
     "exception": false,
     "start_time": "2023-04-28T10:45:04.470561",
     "status": "completed"
    },
    "tags": []
   },
   "outputs": [],
   "source": []
  }
 ],
 "metadata": {
  "kernelspec": {
   "display_name": "Python 3",
   "language": "python",
   "name": "python3"
  },
  "language_info": {
   "codemirror_mode": {
    "name": "ipython",
    "version": 3
   },
   "file_extension": ".py",
   "mimetype": "text/x-python",
   "name": "python",
   "nbconvert_exporter": "python",
   "pygments_lexer": "ipython3",
   "version": "3.7.12"
  },
  "papermill": {
   "default_parameters": {},
   "duration": 13.33419,
   "end_time": "2023-04-28T10:45:04.998989",
   "environment_variables": {},
   "exception": null,
   "input_path": "__notebook__.ipynb",
   "output_path": "__notebook__.ipynb",
   "parameters": {},
   "start_time": "2023-04-28T10:44:51.664799",
   "version": "2.4.0"
  }
 },
 "nbformat": 4,
 "nbformat_minor": 5
}
