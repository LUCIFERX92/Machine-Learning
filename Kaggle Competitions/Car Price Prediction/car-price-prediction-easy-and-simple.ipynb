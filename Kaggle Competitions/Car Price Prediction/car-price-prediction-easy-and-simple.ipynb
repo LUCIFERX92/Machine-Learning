{
 "cells": [
  {
   "cell_type": "code",
   "execution_count": 1,
   "id": "15fd706f",
   "metadata": {
    "_cell_guid": "b1076dfc-b9ad-4769-8c92-a6c4dae69d19",
    "_uuid": "8f2839f25d086af736a60e9eeb907d3b93b6e0e5",
    "execution": {
     "iopub.execute_input": "2023-05-17T21:39:00.854147Z",
     "iopub.status.busy": "2023-05-17T21:39:00.852956Z",
     "iopub.status.idle": "2023-05-17T21:39:00.871229Z",
     "shell.execute_reply": "2023-05-17T21:39:00.870105Z"
    },
    "papermill": {
     "duration": 0.036469,
     "end_time": "2023-05-17T21:39:00.873981",
     "exception": false,
     "start_time": "2023-05-17T21:39:00.837512",
     "status": "completed"
    },
    "tags": []
   },
   "outputs": [
    {
     "name": "stdout",
     "output_type": "stream",
     "text": [
      "/kaggle/input/car-price-prediction-ru/sample_submission.csv\n",
      "/kaggle/input/car-price-prediction-ru/train.csv\n",
      "/kaggle/input/car-price-prediction-ru/test.csv\n"
     ]
    }
   ],
   "source": [
    "# This Python 3 environment comes with many helpful analytics libraries installed\n",
    "# It is defined by the kaggle/python Docker image: https://github.com/kaggle/docker-python\n",
    "# For example, here's several helpful packages to load\n",
    "\n",
    "import numpy as np # linear algebra\n",
    "import pandas as pd # data processing, CSV file I/O (e.g. pd.read_csv)\n",
    "\n",
    "# Input data files are available in the read-only \"../input/\" directory\n",
    "# For example, running this (by clicking run or pressing Shift+Enter) will list all files under the input directory\n",
    "\n",
    "import os\n",
    "for dirname, _, filenames in os.walk('/kaggle/input'):\n",
    "    for filename in filenames:\n",
    "        print(os.path.join(dirname, filename))\n",
    "\n",
    "# You can write up to 20GB to the current directory (/kaggle/working/) that gets preserved as output when you create a version using \"Save & Run All\" \n",
    "# You can also write temporary files to /kaggle/temp/, but they won't be saved outside of the current session"
   ]
  },
  {
   "cell_type": "code",
   "execution_count": 2,
   "id": "b43dfdda",
   "metadata": {
    "execution": {
     "iopub.execute_input": "2023-05-17T21:39:00.904476Z",
     "iopub.status.busy": "2023-05-17T21:39:00.903625Z",
     "iopub.status.idle": "2023-05-17T21:39:02.272874Z",
     "shell.execute_reply": "2023-05-17T21:39:02.271532Z"
    },
    "papermill": {
     "duration": 1.386554,
     "end_time": "2023-05-17T21:39:02.276105",
     "exception": false,
     "start_time": "2023-05-17T21:39:00.889551",
     "status": "completed"
    },
    "tags": []
   },
   "outputs": [
    {
     "name": "stderr",
     "output_type": "stream",
     "text": [
      "/opt/conda/lib/python3.10/site-packages/scipy/__init__.py:146: UserWarning: A NumPy version >=1.16.5 and <1.23.0 is required for this version of SciPy (detected version 1.23.5\n",
      "  warnings.warn(f\"A NumPy version >={np_minversion} and <{np_maxversion}\"\n"
     ]
    }
   ],
   "source": [
    "import numpy as np\n",
    "import pandas as pd\n",
    "import matplotlib.pyplot as plt\n",
    "import seaborn as sns"
   ]
  },
  {
   "cell_type": "code",
   "execution_count": 3,
   "id": "a87216e4",
   "metadata": {
    "execution": {
     "iopub.execute_input": "2023-05-17T21:39:02.304782Z",
     "iopub.status.busy": "2023-05-17T21:39:02.304143Z",
     "iopub.status.idle": "2023-05-17T21:39:02.982801Z",
     "shell.execute_reply": "2023-05-17T21:39:02.981601Z"
    },
    "papermill": {
     "duration": 0.696641,
     "end_time": "2023-05-17T21:39:02.985763",
     "exception": false,
     "start_time": "2023-05-17T21:39:02.289122",
     "status": "completed"
    },
    "tags": []
   },
   "outputs": [],
   "source": [
    "from sklearn.metrics import r2_score\n",
    "from sklearn.linear_model import LinearRegression\n",
    "from sklearn.preprocessing import LabelEncoder\n",
    "from sklearn.ensemble import RandomForestRegressor\n",
    "from sklearn.metrics import mean_squared_error, r2_score, mean_absolute_error, accuracy_score\n",
    "from sklearn.ensemble import RandomForestClassifier\n",
    "from sklearn.model_selection import train_test_split"
   ]
  },
  {
   "cell_type": "code",
   "execution_count": 4,
   "id": "c388a6a9",
   "metadata": {
    "execution": {
     "iopub.execute_input": "2023-05-17T21:39:03.014044Z",
     "iopub.status.busy": "2023-05-17T21:39:03.013395Z",
     "iopub.status.idle": "2023-05-17T21:39:03.450607Z",
     "shell.execute_reply": "2023-05-17T21:39:03.449297Z"
    },
    "papermill": {
     "duration": 0.454798,
     "end_time": "2023-05-17T21:39:03.453497",
     "exception": false,
     "start_time": "2023-05-17T21:39:02.998699",
     "status": "completed"
    },
    "tags": []
   },
   "outputs": [
    {
     "data": {
      "text/html": [
       "<div>\n",
       "<style scoped>\n",
       "    .dataframe tbody tr th:only-of-type {\n",
       "        vertical-align: middle;\n",
       "    }\n",
       "\n",
       "    .dataframe tbody tr th {\n",
       "        vertical-align: top;\n",
       "    }\n",
       "\n",
       "    .dataframe thead th {\n",
       "        text-align: right;\n",
       "    }\n",
       "</style>\n",
       "<table border=\"1\" class=\"dataframe\">\n",
       "  <thead>\n",
       "    <tr style=\"text-align: right;\">\n",
       "      <th></th>\n",
       "      <th>car_id</th>\n",
       "      <th>car_mark</th>\n",
       "      <th>year</th>\n",
       "      <th>mileage</th>\n",
       "      <th>engine</th>\n",
       "      <th>drive</th>\n",
       "      <th>body</th>\n",
       "      <th>color</th>\n",
       "      <th>transmission</th>\n",
       "      <th>brand</th>\n",
       "      <th>price</th>\n",
       "    </tr>\n",
       "  </thead>\n",
       "  <tbody>\n",
       "    <tr>\n",
       "      <th>0</th>\n",
       "      <td>63407</td>\n",
       "      <td>Subaru Legacy I</td>\n",
       "      <td>1994</td>\n",
       "      <td>250 000 км</td>\n",
       "      <td>2.2 л / 136 л.с. / Бензин</td>\n",
       "      <td>полный</td>\n",
       "      <td>седан</td>\n",
       "      <td>серебристый</td>\n",
       "      <td>автомат</td>\n",
       "      <td>Subaru</td>\n",
       "      <td>85000</td>\n",
       "    </tr>\n",
       "    <tr>\n",
       "      <th>1</th>\n",
       "      <td>15174</td>\n",
       "      <td>Daewoo Nexia I</td>\n",
       "      <td>1998</td>\n",
       "      <td>262 000 км</td>\n",
       "      <td>1.5 л / 75 л.с. / Бензин</td>\n",
       "      <td>передний</td>\n",
       "      <td>седан</td>\n",
       "      <td>красный</td>\n",
       "      <td>механика</td>\n",
       "      <td>Daewoo</td>\n",
       "      <td>90000</td>\n",
       "    </tr>\n",
       "    <tr>\n",
       "      <th>2</th>\n",
       "      <td>40267</td>\n",
       "      <td>Mazda CX-5 I Рестайлинг</td>\n",
       "      <td>2016</td>\n",
       "      <td>95 000 км</td>\n",
       "      <td>2.0 л / 150 л.с. / Бензин</td>\n",
       "      <td>полный</td>\n",
       "      <td>внедорожник 5 дв.</td>\n",
       "      <td>белый</td>\n",
       "      <td>автомат</td>\n",
       "      <td>Mazda</td>\n",
       "      <td>1695000</td>\n",
       "    </tr>\n",
       "    <tr>\n",
       "      <th>3</th>\n",
       "      <td>31131</td>\n",
       "      <td>Kia Seltos I</td>\n",
       "      <td>2022</td>\n",
       "      <td>Новый</td>\n",
       "      <td>2.0 л / 149 л.с. / Бензин</td>\n",
       "      <td>передний</td>\n",
       "      <td>внедорожник 5 дв.</td>\n",
       "      <td>Prestige</td>\n",
       "      <td>вариатор</td>\n",
       "      <td>Kia</td>\n",
       "      <td>2284900</td>\n",
       "    </tr>\n",
       "    <tr>\n",
       "      <th>4</th>\n",
       "      <td>55806</td>\n",
       "      <td>Renault Logan II Рестайлинг</td>\n",
       "      <td>2022</td>\n",
       "      <td>Новый</td>\n",
       "      <td>1.6 л / 82 л.с. / Бензин</td>\n",
       "      <td>передний</td>\n",
       "      <td>седан</td>\n",
       "      <td>Life</td>\n",
       "      <td>механика</td>\n",
       "      <td>Renault</td>\n",
       "      <td>921300</td>\n",
       "    </tr>\n",
       "    <tr>\n",
       "      <th>5</th>\n",
       "      <td>40215</td>\n",
       "      <td>Mazda 6 I (GG) Рестайлинг</td>\n",
       "      <td>2006</td>\n",
       "      <td>189 600 км</td>\n",
       "      <td>2.0 л / 147 л.с. / Бензин</td>\n",
       "      <td>передний</td>\n",
       "      <td>лифтбек</td>\n",
       "      <td>серебристый</td>\n",
       "      <td>автомат</td>\n",
       "      <td>Mazda</td>\n",
       "      <td>369000</td>\n",
       "    </tr>\n",
       "    <tr>\n",
       "      <th>6</th>\n",
       "      <td>19362</td>\n",
       "      <td>Ford S-MAX I</td>\n",
       "      <td>2008</td>\n",
       "      <td>200 000 км</td>\n",
       "      <td>2.3 л / 161 л.с. / Бензин</td>\n",
       "      <td>передний</td>\n",
       "      <td>минивэн</td>\n",
       "      <td>серый</td>\n",
       "      <td>автомат</td>\n",
       "      <td>Ford</td>\n",
       "      <td>700000</td>\n",
       "    </tr>\n",
       "    <tr>\n",
       "      <th>7</th>\n",
       "      <td>50302</td>\n",
       "      <td>Nissan Primera III (P12)</td>\n",
       "      <td>2004</td>\n",
       "      <td>300 000 км</td>\n",
       "      <td>1.8 л / 116 л.с. / Бензин</td>\n",
       "      <td>передний</td>\n",
       "      <td>седан</td>\n",
       "      <td>синий</td>\n",
       "      <td>автомат</td>\n",
       "      <td>Nissan</td>\n",
       "      <td>300000</td>\n",
       "    </tr>\n",
       "    <tr>\n",
       "      <th>8</th>\n",
       "      <td>25455</td>\n",
       "      <td>Hyundai Solaris II</td>\n",
       "      <td>2019</td>\n",
       "      <td>115 094 км</td>\n",
       "      <td>1.6 л / 123 л.с. / Бензин</td>\n",
       "      <td>передний</td>\n",
       "      <td>седан</td>\n",
       "      <td>белый</td>\n",
       "      <td>автомат</td>\n",
       "      <td>Hyundai</td>\n",
       "      <td>978000</td>\n",
       "    </tr>\n",
       "    <tr>\n",
       "      <th>9</th>\n",
       "      <td>7374</td>\n",
       "      <td>BMW X5 30d II (E70)</td>\n",
       "      <td>2008</td>\n",
       "      <td>272 000 км</td>\n",
       "      <td>3.0 л / 235 л.с. / Дизель</td>\n",
       "      <td>полный</td>\n",
       "      <td>внедорожник 5 дв.</td>\n",
       "      <td>серый</td>\n",
       "      <td>автомат</td>\n",
       "      <td>BMW</td>\n",
       "      <td>1560000</td>\n",
       "    </tr>\n",
       "  </tbody>\n",
       "</table>\n",
       "</div>"
      ],
      "text/plain": [
       "   car_id                     car_mark  year     mileage  \\\n",
       "0   63407              Subaru Legacy I  1994  250 000 км   \n",
       "1   15174               Daewoo Nexia I  1998  262 000 км   \n",
       "2   40267      Mazda CX-5 I Рестайлинг  2016   95 000 км   \n",
       "3   31131                 Kia Seltos I  2022       Новый   \n",
       "4   55806  Renault Logan II Рестайлинг  2022       Новый   \n",
       "5   40215    Mazda 6 I (GG) Рестайлинг  2006  189 600 км   \n",
       "6   19362                 Ford S-MAX I  2008  200 000 км   \n",
       "7   50302     Nissan Primera III (P12)  2004  300 000 км   \n",
       "8   25455           Hyundai Solaris II  2019  115 094 км   \n",
       "9    7374          BMW X5 30d II (E70)  2008  272 000 км   \n",
       "\n",
       "                      engine     drive               body        color  \\\n",
       "0  2.2 л / 136 л.с. / Бензин    полный              седан  серебристый   \n",
       "1   1.5 л / 75 л.с. / Бензин  передний              седан      красный   \n",
       "2  2.0 л / 150 л.с. / Бензин    полный  внедорожник 5 дв.        белый   \n",
       "3  2.0 л / 149 л.с. / Бензин  передний  внедорожник 5 дв.     Prestige   \n",
       "4   1.6 л / 82 л.с. / Бензин  передний              седан         Life   \n",
       "5  2.0 л / 147 л.с. / Бензин  передний            лифтбек  серебристый   \n",
       "6  2.3 л / 161 л.с. / Бензин  передний            минивэн        серый   \n",
       "7  1.8 л / 116 л.с. / Бензин  передний              седан        синий   \n",
       "8  1.6 л / 123 л.с. / Бензин  передний              седан        белый   \n",
       "9  3.0 л / 235 л.с. / Дизель    полный  внедорожник 5 дв.        серый   \n",
       "\n",
       "  transmission    brand    price  \n",
       "0      автомат   Subaru    85000  \n",
       "1     механика   Daewoo    90000  \n",
       "2      автомат    Mazda  1695000  \n",
       "3     вариатор      Kia  2284900  \n",
       "4     механика  Renault   921300  \n",
       "5      автомат    Mazda   369000  \n",
       "6      автомат     Ford   700000  \n",
       "7      автомат   Nissan   300000  \n",
       "8      автомат  Hyundai   978000  \n",
       "9      автомат      BMW  1560000  "
      ]
     },
     "execution_count": 4,
     "metadata": {},
     "output_type": "execute_result"
    }
   ],
   "source": [
    "train_data = pd.read_csv(\"/kaggle/input/car-price-prediction-ru/train.csv\")\n",
    "train_data.head(10)"
   ]
  },
  {
   "cell_type": "code",
   "execution_count": 5,
   "id": "9dc431c6",
   "metadata": {
    "execution": {
     "iopub.execute_input": "2023-05-17T21:39:03.482678Z",
     "iopub.status.busy": "2023-05-17T21:39:03.482260Z",
     "iopub.status.idle": "2023-05-17T21:39:03.634560Z",
     "shell.execute_reply": "2023-05-17T21:39:03.633241Z"
    },
    "papermill": {
     "duration": 0.170385,
     "end_time": "2023-05-17T21:39:03.637641",
     "exception": false,
     "start_time": "2023-05-17T21:39:03.467256",
     "status": "completed"
    },
    "tags": []
   },
   "outputs": [
    {
     "data": {
      "text/plain": [
       "car_id          0\n",
       "car_mark        0\n",
       "year            0\n",
       "mileage         0\n",
       "engine          0\n",
       "drive           0\n",
       "body            0\n",
       "color           0\n",
       "transmission    0\n",
       "brand           0\n",
       "price           0\n",
       "dtype: int64"
      ]
     },
     "execution_count": 5,
     "metadata": {},
     "output_type": "execute_result"
    }
   ],
   "source": [
    "train_data.isnull().sum()"
   ]
  },
  {
   "cell_type": "code",
   "execution_count": 6,
   "id": "85b73017",
   "metadata": {
    "execution": {
     "iopub.execute_input": "2023-05-17T21:39:03.667674Z",
     "iopub.status.busy": "2023-05-17T21:39:03.667240Z",
     "iopub.status.idle": "2023-05-17T21:39:03.675156Z",
     "shell.execute_reply": "2023-05-17T21:39:03.673799Z"
    },
    "papermill": {
     "duration": 0.026287,
     "end_time": "2023-05-17T21:39:03.677712",
     "exception": false,
     "start_time": "2023-05-17T21:39:03.651425",
     "status": "completed"
    },
    "tags": []
   },
   "outputs": [
    {
     "data": {
      "text/plain": [
       "Index(['car_id', 'car_mark', 'year', 'mileage', 'engine', 'drive', 'body',\n",
       "       'color', 'transmission', 'brand', 'price'],\n",
       "      dtype='object')"
      ]
     },
     "execution_count": 6,
     "metadata": {},
     "output_type": "execute_result"
    }
   ],
   "source": [
    "train_data.columns"
   ]
  },
  {
   "cell_type": "code",
   "execution_count": 7,
   "id": "6230b6dc",
   "metadata": {
    "execution": {
     "iopub.execute_input": "2023-05-17T21:39:03.706921Z",
     "iopub.status.busy": "2023-05-17T21:39:03.706495Z",
     "iopub.status.idle": "2023-05-17T21:39:03.718896Z",
     "shell.execute_reply": "2023-05-17T21:39:03.718021Z"
    },
    "papermill": {
     "duration": 0.030292,
     "end_time": "2023-05-17T21:39:03.721746",
     "exception": false,
     "start_time": "2023-05-17T21:39:03.691454",
     "status": "completed"
    },
    "tags": []
   },
   "outputs": [],
   "source": [
    "train_data = train_data[['mileage', 'car_id', 'brand', 'transmission', 'price']]"
   ]
  },
  {
   "cell_type": "code",
   "execution_count": 8,
   "id": "ae241ad5",
   "metadata": {
    "execution": {
     "iopub.execute_input": "2023-05-17T21:39:03.751082Z",
     "iopub.status.busy": "2023-05-17T21:39:03.750628Z",
     "iopub.status.idle": "2023-05-17T21:39:03.759729Z",
     "shell.execute_reply": "2023-05-17T21:39:03.758617Z"
    },
    "papermill": {
     "duration": 0.0266,
     "end_time": "2023-05-17T21:39:03.762144",
     "exception": false,
     "start_time": "2023-05-17T21:39:03.735544",
     "status": "completed"
    },
    "tags": []
   },
   "outputs": [
    {
     "data": {
      "text/plain": [
       "0        250 000 км\n",
       "1        262 000 км\n",
       "2         95 000 км\n",
       "3             Новый\n",
       "4             Новый\n",
       "            ...    \n",
       "57061     47 224 км\n",
       "57062         Новый\n",
       "57063         Новый\n",
       "57064    170 000 км\n",
       "57065    164 000 км\n",
       "Name: mileage, Length: 57066, dtype: object"
      ]
     },
     "execution_count": 8,
     "metadata": {},
     "output_type": "execute_result"
    }
   ],
   "source": [
    "train_data.mileage"
   ]
  },
  {
   "cell_type": "code",
   "execution_count": 9,
   "id": "14d0257d",
   "metadata": {
    "execution": {
     "iopub.execute_input": "2023-05-17T21:39:03.792194Z",
     "iopub.status.busy": "2023-05-17T21:39:03.791353Z",
     "iopub.status.idle": "2023-05-17T21:39:04.007393Z",
     "shell.execute_reply": "2023-05-17T21:39:04.005557Z"
    },
    "papermill": {
     "duration": 0.23414,
     "end_time": "2023-05-17T21:39:04.010177",
     "exception": false,
     "start_time": "2023-05-17T21:39:03.776037",
     "status": "completed"
    },
    "tags": []
   },
   "outputs": [
    {
     "name": "stdout",
     "output_type": "stream",
     "text": [
      "0        250000.0\n",
      "1        262000.0\n",
      "2         95000.0\n",
      "3             NaN\n",
      "4             NaN\n",
      "           ...   \n",
      "57061     47224.0\n",
      "57062         NaN\n",
      "57063         NaN\n",
      "57064    170000.0\n",
      "57065    164000.0\n",
      "Name: mileage, Length: 57066, dtype: float64\n"
     ]
    }
   ],
   "source": [
    "# Assuming your train data is stored in a pandas DataFrame called 'train_data'\n",
    "# and the column containing the mileage data is named 'mileage'\n",
    "mileage_series = train_data['mileage']\n",
    "mileage_series = mileage_series.astype(str).str.replace('[^0-9]', '', regex=True)\n",
    "mileage_series = pd.to_numeric(mileage_series, errors='coerce')\n",
    "\n",
    "print(mileage_series)"
   ]
  },
  {
   "cell_type": "code",
   "execution_count": 10,
   "id": "c84f7b35",
   "metadata": {
    "execution": {
     "iopub.execute_input": "2023-05-17T21:39:04.040704Z",
     "iopub.status.busy": "2023-05-17T21:39:04.040272Z",
     "iopub.status.idle": "2023-05-17T21:39:04.050125Z",
     "shell.execute_reply": "2023-05-17T21:39:04.048693Z"
    },
    "papermill": {
     "duration": 0.028137,
     "end_time": "2023-05-17T21:39:04.052766",
     "exception": false,
     "start_time": "2023-05-17T21:39:04.024629",
     "status": "completed"
    },
    "tags": []
   },
   "outputs": [
    {
     "name": "stdout",
     "output_type": "stream",
     "text": [
      "0        250000\n",
      "1        262000\n",
      "2         95000\n",
      "3        127346\n",
      "4        127346\n",
      "          ...  \n",
      "57061     47224\n",
      "57062    127346\n",
      "57063    127346\n",
      "57064    170000\n",
      "57065    164000\n",
      "Name: mileage, Length: 57066, dtype: int64\n"
     ]
    }
   ],
   "source": [
    "# Calculate the average of non-NaN values\n",
    "average_value = mileage_series.mean()\n",
    "\n",
    "# Fill NaN values with the average value\n",
    "mileage_series = mileage_series.fillna(average_value)\n",
    "mileage_series = mileage_series.astype('int64')\n",
    "print(mileage_series)\n"
   ]
  },
  {
   "cell_type": "code",
   "execution_count": 11,
   "id": "39fe6e09",
   "metadata": {
    "execution": {
     "iopub.execute_input": "2023-05-17T21:39:04.083546Z",
     "iopub.status.busy": "2023-05-17T21:39:04.083127Z",
     "iopub.status.idle": "2023-05-17T21:39:04.089792Z",
     "shell.execute_reply": "2023-05-17T21:39:04.088455Z"
    },
    "papermill": {
     "duration": 0.025407,
     "end_time": "2023-05-17T21:39:04.092289",
     "exception": false,
     "start_time": "2023-05-17T21:39:04.066882",
     "status": "completed"
    },
    "tags": []
   },
   "outputs": [],
   "source": [
    "train_data[\"mileage\"] = mileage_series"
   ]
  },
  {
   "cell_type": "code",
   "execution_count": 12,
   "id": "6615815b",
   "metadata": {
    "execution": {
     "iopub.execute_input": "2023-05-17T21:39:04.123208Z",
     "iopub.status.busy": "2023-05-17T21:39:04.122182Z",
     "iopub.status.idle": "2023-05-17T21:39:04.138674Z",
     "shell.execute_reply": "2023-05-17T21:39:04.137439Z"
    },
    "papermill": {
     "duration": 0.034722,
     "end_time": "2023-05-17T21:39:04.141221",
     "exception": false,
     "start_time": "2023-05-17T21:39:04.106499",
     "status": "completed"
    },
    "tags": []
   },
   "outputs": [
    {
     "data": {
      "text/html": [
       "<div>\n",
       "<style scoped>\n",
       "    .dataframe tbody tr th:only-of-type {\n",
       "        vertical-align: middle;\n",
       "    }\n",
       "\n",
       "    .dataframe tbody tr th {\n",
       "        vertical-align: top;\n",
       "    }\n",
       "\n",
       "    .dataframe thead th {\n",
       "        text-align: right;\n",
       "    }\n",
       "</style>\n",
       "<table border=\"1\" class=\"dataframe\">\n",
       "  <thead>\n",
       "    <tr style=\"text-align: right;\">\n",
       "      <th></th>\n",
       "      <th>mileage</th>\n",
       "      <th>car_id</th>\n",
       "      <th>brand</th>\n",
       "      <th>transmission</th>\n",
       "      <th>price</th>\n",
       "    </tr>\n",
       "  </thead>\n",
       "  <tbody>\n",
       "    <tr>\n",
       "      <th>0</th>\n",
       "      <td>250000</td>\n",
       "      <td>63407</td>\n",
       "      <td>Subaru</td>\n",
       "      <td>автомат</td>\n",
       "      <td>85000</td>\n",
       "    </tr>\n",
       "    <tr>\n",
       "      <th>1</th>\n",
       "      <td>262000</td>\n",
       "      <td>15174</td>\n",
       "      <td>Daewoo</td>\n",
       "      <td>механика</td>\n",
       "      <td>90000</td>\n",
       "    </tr>\n",
       "    <tr>\n",
       "      <th>2</th>\n",
       "      <td>95000</td>\n",
       "      <td>40267</td>\n",
       "      <td>Mazda</td>\n",
       "      <td>автомат</td>\n",
       "      <td>1695000</td>\n",
       "    </tr>\n",
       "    <tr>\n",
       "      <th>3</th>\n",
       "      <td>127346</td>\n",
       "      <td>31131</td>\n",
       "      <td>Kia</td>\n",
       "      <td>вариатор</td>\n",
       "      <td>2284900</td>\n",
       "    </tr>\n",
       "    <tr>\n",
       "      <th>4</th>\n",
       "      <td>127346</td>\n",
       "      <td>55806</td>\n",
       "      <td>Renault</td>\n",
       "      <td>механика</td>\n",
       "      <td>921300</td>\n",
       "    </tr>\n",
       "    <tr>\n",
       "      <th>...</th>\n",
       "      <td>...</td>\n",
       "      <td>...</td>\n",
       "      <td>...</td>\n",
       "      <td>...</td>\n",
       "      <td>...</td>\n",
       "    </tr>\n",
       "    <tr>\n",
       "      <th>57061</th>\n",
       "      <td>47224</td>\n",
       "      <td>25365</td>\n",
       "      <td>Hyundai</td>\n",
       "      <td>автомат</td>\n",
       "      <td>1079000</td>\n",
       "    </tr>\n",
       "    <tr>\n",
       "      <th>57062</th>\n",
       "      <td>127346</td>\n",
       "      <td>48056</td>\n",
       "      <td>Mitsubishi</td>\n",
       "      <td>вариатор</td>\n",
       "      <td>2818000</td>\n",
       "    </tr>\n",
       "    <tr>\n",
       "      <th>57063</th>\n",
       "      <td>127346</td>\n",
       "      <td>59011</td>\n",
       "      <td>Skoda</td>\n",
       "      <td>механика</td>\n",
       "      <td>1253050</td>\n",
       "    </tr>\n",
       "    <tr>\n",
       "      <th>57064</th>\n",
       "      <td>170000</td>\n",
       "      <td>67224</td>\n",
       "      <td>Toyota</td>\n",
       "      <td>механика</td>\n",
       "      <td>600000</td>\n",
       "    </tr>\n",
       "    <tr>\n",
       "      <th>57065</th>\n",
       "      <td>164000</td>\n",
       "      <td>71530</td>\n",
       "      <td>Volkswagen</td>\n",
       "      <td>механика</td>\n",
       "      <td>2300000</td>\n",
       "    </tr>\n",
       "  </tbody>\n",
       "</table>\n",
       "<p>57066 rows × 5 columns</p>\n",
       "</div>"
      ],
      "text/plain": [
       "       mileage  car_id       brand transmission    price\n",
       "0       250000   63407      Subaru      автомат    85000\n",
       "1       262000   15174      Daewoo     механика    90000\n",
       "2        95000   40267       Mazda      автомат  1695000\n",
       "3       127346   31131         Kia     вариатор  2284900\n",
       "4       127346   55806     Renault     механика   921300\n",
       "...        ...     ...         ...          ...      ...\n",
       "57061    47224   25365     Hyundai      автомат  1079000\n",
       "57062   127346   48056  Mitsubishi     вариатор  2818000\n",
       "57063   127346   59011       Skoda     механика  1253050\n",
       "57064   170000   67224      Toyota     механика   600000\n",
       "57065   164000   71530  Volkswagen     механика  2300000\n",
       "\n",
       "[57066 rows x 5 columns]"
      ]
     },
     "execution_count": 12,
     "metadata": {},
     "output_type": "execute_result"
    }
   ],
   "source": [
    "train_data"
   ]
  },
  {
   "cell_type": "code",
   "execution_count": 13,
   "id": "e63a73b0",
   "metadata": {
    "execution": {
     "iopub.execute_input": "2023-05-17T21:39:04.171881Z",
     "iopub.status.busy": "2023-05-17T21:39:04.171431Z",
     "iopub.status.idle": "2023-05-17T21:39:04.181444Z",
     "shell.execute_reply": "2023-05-17T21:39:04.180273Z"
    },
    "papermill": {
     "duration": 0.028437,
     "end_time": "2023-05-17T21:39:04.184029",
     "exception": false,
     "start_time": "2023-05-17T21:39:04.155592",
     "status": "completed"
    },
    "tags": []
   },
   "outputs": [
    {
     "data": {
      "text/plain": [
       "0        63407\n",
       "1        15174\n",
       "2        40267\n",
       "3        31131\n",
       "4        55806\n",
       "         ...  \n",
       "57061    25365\n",
       "57062    48056\n",
       "57063    59011\n",
       "57064    67224\n",
       "57065    71530\n",
       "Name: car_id, Length: 57066, dtype: int64"
      ]
     },
     "execution_count": 13,
     "metadata": {},
     "output_type": "execute_result"
    }
   ],
   "source": [
    "train_data.car_id"
   ]
  },
  {
   "cell_type": "code",
   "execution_count": 14,
   "id": "659c0656",
   "metadata": {
    "execution": {
     "iopub.execute_input": "2023-05-17T21:39:04.215442Z",
     "iopub.status.busy": "2023-05-17T21:39:04.214988Z",
     "iopub.status.idle": "2023-05-17T21:39:04.236261Z",
     "shell.execute_reply": "2023-05-17T21:39:04.234839Z"
    },
    "papermill": {
     "duration": 0.04038,
     "end_time": "2023-05-17T21:39:04.238999",
     "exception": false,
     "start_time": "2023-05-17T21:39:04.198619",
     "status": "completed"
    },
    "tags": []
   },
   "outputs": [
    {
     "name": "stdout",
     "output_type": "stream",
     "text": [
      "0        47541.0\n",
      "1        11390.0\n",
      "2        30241.0\n",
      "3        23434.0\n",
      "4        41895.0\n",
      "          ...   \n",
      "57061    19092.0\n",
      "57062    36075.0\n",
      "57063    44273.0\n",
      "57064    50367.0\n",
      "57065    53610.0\n",
      "Name: car_id, Length: 57066, dtype: float64\n"
     ]
    }
   ],
   "source": [
    "# Assuming your 'car_id' column is stored in a pandas Series called 'car_id_series'\n",
    "car_id_series = train_data['car_id']\n",
    "\n",
    "# Convert 'car_id' to a sequential basis\n",
    "sequential_car_id = car_id_series.rank(method='dense')\n",
    "\n",
    "print(sequential_car_id)"
   ]
  },
  {
   "cell_type": "code",
   "execution_count": 15,
   "id": "94adfe9e",
   "metadata": {
    "execution": {
     "iopub.execute_input": "2023-05-17T21:39:04.270441Z",
     "iopub.status.busy": "2023-05-17T21:39:04.270017Z",
     "iopub.status.idle": "2023-05-17T21:39:04.275634Z",
     "shell.execute_reply": "2023-05-17T21:39:04.274540Z"
    },
    "papermill": {
     "duration": 0.024129,
     "end_time": "2023-05-17T21:39:04.277895",
     "exception": false,
     "start_time": "2023-05-17T21:39:04.253766",
     "status": "completed"
    },
    "tags": []
   },
   "outputs": [],
   "source": [
    "train_data[\"car_id\"] = sequential_car_id "
   ]
  },
  {
   "cell_type": "code",
   "execution_count": 16,
   "id": "f57822dc",
   "metadata": {
    "execution": {
     "iopub.execute_input": "2023-05-17T21:39:04.309879Z",
     "iopub.status.busy": "2023-05-17T21:39:04.308860Z",
     "iopub.status.idle": "2023-05-17T21:39:04.335627Z",
     "shell.execute_reply": "2023-05-17T21:39:04.334406Z"
    },
    "papermill": {
     "duration": 0.045701,
     "end_time": "2023-05-17T21:39:04.338518",
     "exception": false,
     "start_time": "2023-05-17T21:39:04.292817",
     "status": "completed"
    },
    "tags": []
   },
   "outputs": [],
   "source": [
    "label_encoder = LabelEncoder()\n",
    "train_data['brand'] = label_encoder.fit_transform(train_data['brand'])"
   ]
  },
  {
   "cell_type": "code",
   "execution_count": 17,
   "id": "46317942",
   "metadata": {
    "execution": {
     "iopub.execute_input": "2023-05-17T21:39:04.369947Z",
     "iopub.status.busy": "2023-05-17T21:39:04.369528Z",
     "iopub.status.idle": "2023-05-17T21:39:04.396004Z",
     "shell.execute_reply": "2023-05-17T21:39:04.394734Z"
    },
    "papermill": {
     "duration": 0.045217,
     "end_time": "2023-05-17T21:39:04.398723",
     "exception": false,
     "start_time": "2023-05-17T21:39:04.353506",
     "status": "completed"
    },
    "tags": []
   },
   "outputs": [],
   "source": [
    "label_encoder = LabelEncoder()\n",
    "train_data['transmission'] = label_encoder.fit_transform(train_data['transmission'])"
   ]
  },
  {
   "cell_type": "code",
   "execution_count": 18,
   "id": "b6a7a263",
   "metadata": {
    "execution": {
     "iopub.execute_input": "2023-05-17T21:39:04.430357Z",
     "iopub.status.busy": "2023-05-17T21:39:04.429937Z",
     "iopub.status.idle": "2023-05-17T21:39:04.446239Z",
     "shell.execute_reply": "2023-05-17T21:39:04.445073Z"
    },
    "papermill": {
     "duration": 0.035202,
     "end_time": "2023-05-17T21:39:04.448895",
     "exception": false,
     "start_time": "2023-05-17T21:39:04.413693",
     "status": "completed"
    },
    "tags": []
   },
   "outputs": [
    {
     "data": {
      "text/html": [
       "<div>\n",
       "<style scoped>\n",
       "    .dataframe tbody tr th:only-of-type {\n",
       "        vertical-align: middle;\n",
       "    }\n",
       "\n",
       "    .dataframe tbody tr th {\n",
       "        vertical-align: top;\n",
       "    }\n",
       "\n",
       "    .dataframe thead th {\n",
       "        text-align: right;\n",
       "    }\n",
       "</style>\n",
       "<table border=\"1\" class=\"dataframe\">\n",
       "  <thead>\n",
       "    <tr style=\"text-align: right;\">\n",
       "      <th></th>\n",
       "      <th>mileage</th>\n",
       "      <th>car_id</th>\n",
       "      <th>brand</th>\n",
       "      <th>transmission</th>\n",
       "      <th>price</th>\n",
       "    </tr>\n",
       "  </thead>\n",
       "  <tbody>\n",
       "    <tr>\n",
       "      <th>0</th>\n",
       "      <td>250000</td>\n",
       "      <td>47541.0</td>\n",
       "      <td>104</td>\n",
       "      <td>62</td>\n",
       "      <td>85000</td>\n",
       "    </tr>\n",
       "    <tr>\n",
       "      <th>1</th>\n",
       "      <td>262000</td>\n",
       "      <td>11390.0</td>\n",
       "      <td>23</td>\n",
       "      <td>64</td>\n",
       "      <td>90000</td>\n",
       "    </tr>\n",
       "    <tr>\n",
       "      <th>2</th>\n",
       "      <td>95000</td>\n",
       "      <td>30241.0</td>\n",
       "      <td>75</td>\n",
       "      <td>62</td>\n",
       "      <td>1695000</td>\n",
       "    </tr>\n",
       "    <tr>\n",
       "      <th>3</th>\n",
       "      <td>127346</td>\n",
       "      <td>23434.0</td>\n",
       "      <td>61</td>\n",
       "      <td>63</td>\n",
       "      <td>2284900</td>\n",
       "    </tr>\n",
       "    <tr>\n",
       "      <th>4</th>\n",
       "      <td>127346</td>\n",
       "      <td>41895.0</td>\n",
       "      <td>93</td>\n",
       "      <td>64</td>\n",
       "      <td>921300</td>\n",
       "    </tr>\n",
       "    <tr>\n",
       "      <th>...</th>\n",
       "      <td>...</td>\n",
       "      <td>...</td>\n",
       "      <td>...</td>\n",
       "      <td>...</td>\n",
       "      <td>...</td>\n",
       "    </tr>\n",
       "    <tr>\n",
       "      <th>57061</th>\n",
       "      <td>47224</td>\n",
       "      <td>19092.0</td>\n",
       "      <td>53</td>\n",
       "      <td>62</td>\n",
       "      <td>1079000</td>\n",
       "    </tr>\n",
       "    <tr>\n",
       "      <th>57062</th>\n",
       "      <td>127346</td>\n",
       "      <td>36075.0</td>\n",
       "      <td>79</td>\n",
       "      <td>63</td>\n",
       "      <td>2818000</td>\n",
       "    </tr>\n",
       "    <tr>\n",
       "      <th>57063</th>\n",
       "      <td>127346</td>\n",
       "      <td>44273.0</td>\n",
       "      <td>101</td>\n",
       "      <td>64</td>\n",
       "      <td>1253050</td>\n",
       "    </tr>\n",
       "    <tr>\n",
       "      <th>57064</th>\n",
       "      <td>170000</td>\n",
       "      <td>50367.0</td>\n",
       "      <td>108</td>\n",
       "      <td>64</td>\n",
       "      <td>600000</td>\n",
       "    </tr>\n",
       "    <tr>\n",
       "      <th>57065</th>\n",
       "      <td>164000</td>\n",
       "      <td>53610.0</td>\n",
       "      <td>111</td>\n",
       "      <td>64</td>\n",
       "      <td>2300000</td>\n",
       "    </tr>\n",
       "  </tbody>\n",
       "</table>\n",
       "<p>57066 rows × 5 columns</p>\n",
       "</div>"
      ],
      "text/plain": [
       "       mileage   car_id  brand  transmission    price\n",
       "0       250000  47541.0    104            62    85000\n",
       "1       262000  11390.0     23            64    90000\n",
       "2        95000  30241.0     75            62  1695000\n",
       "3       127346  23434.0     61            63  2284900\n",
       "4       127346  41895.0     93            64   921300\n",
       "...        ...      ...    ...           ...      ...\n",
       "57061    47224  19092.0     53            62  1079000\n",
       "57062   127346  36075.0     79            63  2818000\n",
       "57063   127346  44273.0    101            64  1253050\n",
       "57064   170000  50367.0    108            64   600000\n",
       "57065   164000  53610.0    111            64  2300000\n",
       "\n",
       "[57066 rows x 5 columns]"
      ]
     },
     "execution_count": 18,
     "metadata": {},
     "output_type": "execute_result"
    }
   ],
   "source": [
    "train_data"
   ]
  },
  {
   "cell_type": "code",
   "execution_count": 19,
   "id": "5de9edcd",
   "metadata": {
    "execution": {
     "iopub.execute_input": "2023-05-17T21:39:04.480904Z",
     "iopub.status.busy": "2023-05-17T21:39:04.480475Z",
     "iopub.status.idle": "2023-05-17T21:39:04.629931Z",
     "shell.execute_reply": "2023-05-17T21:39:04.628802Z"
    },
    "papermill": {
     "duration": 0.168628,
     "end_time": "2023-05-17T21:39:04.632477",
     "exception": false,
     "start_time": "2023-05-17T21:39:04.463849",
     "status": "completed"
    },
    "tags": []
   },
   "outputs": [
    {
     "data": {
      "text/html": [
       "<div>\n",
       "<style scoped>\n",
       "    .dataframe tbody tr th:only-of-type {\n",
       "        vertical-align: middle;\n",
       "    }\n",
       "\n",
       "    .dataframe tbody tr th {\n",
       "        vertical-align: top;\n",
       "    }\n",
       "\n",
       "    .dataframe thead th {\n",
       "        text-align: right;\n",
       "    }\n",
       "</style>\n",
       "<table border=\"1\" class=\"dataframe\">\n",
       "  <thead>\n",
       "    <tr style=\"text-align: right;\">\n",
       "      <th></th>\n",
       "      <th>car_id</th>\n",
       "      <th>car_mark</th>\n",
       "      <th>year</th>\n",
       "      <th>mileage</th>\n",
       "      <th>engine</th>\n",
       "      <th>drive</th>\n",
       "      <th>body</th>\n",
       "      <th>color</th>\n",
       "      <th>transmission</th>\n",
       "      <th>brand</th>\n",
       "    </tr>\n",
       "  </thead>\n",
       "  <tbody>\n",
       "    <tr>\n",
       "      <th>0</th>\n",
       "      <td>71542</td>\n",
       "      <td>Volkswagen Tiguan II</td>\n",
       "      <td>2017</td>\n",
       "      <td>80 277 км</td>\n",
       "      <td>2.0 л / 150 л.с. / Дизель</td>\n",
       "      <td>полный</td>\n",
       "      <td>внедорожник 5 дв.</td>\n",
       "      <td>белый</td>\n",
       "      <td>робот</td>\n",
       "      <td>Volkswagen</td>\n",
       "    </tr>\n",
       "    <tr>\n",
       "      <th>1</th>\n",
       "      <td>29263</td>\n",
       "      <td>Infiniti G G25 IV</td>\n",
       "      <td>2010</td>\n",
       "      <td>224 000 км</td>\n",
       "      <td>2.5 л / 222 л.с. / Бензин</td>\n",
       "      <td>задний</td>\n",
       "      <td>седан</td>\n",
       "      <td>серый</td>\n",
       "      <td>автомат</td>\n",
       "      <td>Infiniti</td>\n",
       "    </tr>\n",
       "    <tr>\n",
       "      <th>2</th>\n",
       "      <td>27118</td>\n",
       "      <td>Hyundai Creta II</td>\n",
       "      <td>2022</td>\n",
       "      <td>Новый</td>\n",
       "      <td>2.0 л / 150 л.с. / Бензин</td>\n",
       "      <td>передний</td>\n",
       "      <td>внедорожник 5 дв.</td>\n",
       "      <td>Family</td>\n",
       "      <td>автомат</td>\n",
       "      <td>Hyundai</td>\n",
       "    </tr>\n",
       "    <tr>\n",
       "      <th>3</th>\n",
       "      <td>24436</td>\n",
       "      <td>Honda Civic VII</td>\n",
       "      <td>2001</td>\n",
       "      <td>194 000 км</td>\n",
       "      <td>1.7 л / 125 л.с. / Бензин</td>\n",
       "      <td>передний</td>\n",
       "      <td>седан</td>\n",
       "      <td>зелёный</td>\n",
       "      <td>автомат</td>\n",
       "      <td>Honda</td>\n",
       "    </tr>\n",
       "    <tr>\n",
       "      <th>4</th>\n",
       "      <td>28254</td>\n",
       "      <td>Hyundai Creta I Рестайлинг</td>\n",
       "      <td>2021</td>\n",
       "      <td>15 500 км</td>\n",
       "      <td>1.6 л / 121 л.с. / Бензин</td>\n",
       "      <td>полный</td>\n",
       "      <td>внедорожник 5 дв.</td>\n",
       "      <td>серебристый</td>\n",
       "      <td>механика</td>\n",
       "      <td>Hyundai</td>\n",
       "    </tr>\n",
       "  </tbody>\n",
       "</table>\n",
       "</div>"
      ],
      "text/plain": [
       "   car_id                    car_mark  year     mileage  \\\n",
       "0   71542        Volkswagen Tiguan II  2017   80 277 км   \n",
       "1   29263           Infiniti G G25 IV  2010  224 000 км   \n",
       "2   27118            Hyundai Creta II  2022       Новый   \n",
       "3   24436             Honda Civic VII  2001  194 000 км   \n",
       "4   28254  Hyundai Creta I Рестайлинг  2021   15 500 км   \n",
       "\n",
       "                      engine     drive               body        color  \\\n",
       "0  2.0 л / 150 л.с. / Дизель    полный  внедорожник 5 дв.        белый   \n",
       "1  2.5 л / 222 л.с. / Бензин    задний              седан        серый   \n",
       "2  2.0 л / 150 л.с. / Бензин  передний  внедорожник 5 дв.       Family   \n",
       "3  1.7 л / 125 л.с. / Бензин  передний              седан      зелёный   \n",
       "4  1.6 л / 121 л.с. / Бензин    полный  внедорожник 5 дв.  серебристый   \n",
       "\n",
       "  transmission       brand  \n",
       "0        робот  Volkswagen  \n",
       "1      автомат    Infiniti  \n",
       "2      автомат     Hyundai  \n",
       "3      автомат       Honda  \n",
       "4     механика     Hyundai  "
      ]
     },
     "execution_count": 19,
     "metadata": {},
     "output_type": "execute_result"
    }
   ],
   "source": [
    "test_data = pd.read_csv(\"/kaggle/input/car-price-prediction-ru/test.csv\")\n",
    "test_data.head()"
   ]
  },
  {
   "cell_type": "code",
   "execution_count": 20,
   "id": "00173387",
   "metadata": {
    "execution": {
     "iopub.execute_input": "2023-05-17T21:39:04.664738Z",
     "iopub.status.busy": "2023-05-17T21:39:04.664302Z",
     "iopub.status.idle": "2023-05-17T21:39:04.671606Z",
     "shell.execute_reply": "2023-05-17T21:39:04.670433Z"
    },
    "papermill": {
     "duration": 0.026288,
     "end_time": "2023-05-17T21:39:04.674089",
     "exception": false,
     "start_time": "2023-05-17T21:39:04.647801",
     "status": "completed"
    },
    "tags": []
   },
   "outputs": [],
   "source": [
    "test_data = test_data[['car_id', 'mileage', 'transmission', 'brand']]"
   ]
  },
  {
   "cell_type": "code",
   "execution_count": 21,
   "id": "9bad33be",
   "metadata": {
    "execution": {
     "iopub.execute_input": "2023-05-17T21:39:04.708006Z",
     "iopub.status.busy": "2023-05-17T21:39:04.707596Z",
     "iopub.status.idle": "2023-05-17T21:39:04.719703Z",
     "shell.execute_reply": "2023-05-17T21:39:04.717842Z"
    },
    "papermill": {
     "duration": 0.0324,
     "end_time": "2023-05-17T21:39:04.722411",
     "exception": false,
     "start_time": "2023-05-17T21:39:04.690011",
     "status": "completed"
    },
    "tags": []
   },
   "outputs": [
    {
     "data": {
      "text/plain": [
       "mileage         0\n",
       "car_id          0\n",
       "brand           0\n",
       "transmission    0\n",
       "price           0\n",
       "dtype: int64"
      ]
     },
     "execution_count": 21,
     "metadata": {},
     "output_type": "execute_result"
    }
   ],
   "source": [
    "train_data.isnull().sum()"
   ]
  },
  {
   "cell_type": "code",
   "execution_count": 22,
   "id": "522ed3a8",
   "metadata": {
    "execution": {
     "iopub.execute_input": "2023-05-17T21:39:04.755506Z",
     "iopub.status.busy": "2023-05-17T21:39:04.755095Z",
     "iopub.status.idle": "2023-05-17T21:39:04.833660Z",
     "shell.execute_reply": "2023-05-17T21:39:04.831809Z"
    },
    "papermill": {
     "duration": 0.098147,
     "end_time": "2023-05-17T21:39:04.836269",
     "exception": false,
     "start_time": "2023-05-17T21:39:04.738122",
     "status": "completed"
    },
    "tags": []
   },
   "outputs": [
    {
     "name": "stdout",
     "output_type": "stream",
     "text": [
      "0         80277.0\n",
      "1        224000.0\n",
      "2             NaN\n",
      "3        194000.0\n",
      "4         15500.0\n",
      "           ...   \n",
      "19018    139000.0\n",
      "19019    105000.0\n",
      "19020    218000.0\n",
      "19021        16.0\n",
      "19022    136726.0\n",
      "Name: mileage, Length: 19023, dtype: float64\n"
     ]
    }
   ],
   "source": [
    "# Assuming your test data is stored in a pandas DataFrame called 'test_data'\n",
    "# and the column containing the mileage data is named 'mileage'\n",
    "# I named it milage_seri \n",
    "mileage_seri = test_data['mileage']\n",
    "mileage_seri = mileage_seri.astype(str).str.replace('[^0-9]', '', regex=True)\n",
    "mileage_seri = pd.to_numeric(mileage_seri, errors='coerce')\n",
    "\n",
    "print(mileage_seri)"
   ]
  },
  {
   "cell_type": "code",
   "execution_count": 23,
   "id": "a85359af",
   "metadata": {
    "execution": {
     "iopub.execute_input": "2023-05-17T21:39:04.870034Z",
     "iopub.status.busy": "2023-05-17T21:39:04.869241Z",
     "iopub.status.idle": "2023-05-17T21:39:04.879123Z",
     "shell.execute_reply": "2023-05-17T21:39:04.877961Z"
    },
    "papermill": {
     "duration": 0.029498,
     "end_time": "2023-05-17T21:39:04.881763",
     "exception": false,
     "start_time": "2023-05-17T21:39:04.852265",
     "status": "completed"
    },
    "tags": []
   },
   "outputs": [
    {
     "name": "stdout",
     "output_type": "stream",
     "text": [
      "0         80277\n",
      "1        224000\n",
      "2        127746\n",
      "3        194000\n",
      "4         15500\n",
      "          ...  \n",
      "19018    139000\n",
      "19019    105000\n",
      "19020    218000\n",
      "19021        16\n",
      "19022    136726\n",
      "Name: mileage, Length: 19023, dtype: int64\n"
     ]
    }
   ],
   "source": [
    "# Calculate the average of non-NaN values\n",
    "average_value = mileage_seri.mean()\n",
    "\n",
    "# Fill NaN values with the average value\n",
    "mileage_seri = mileage_seri.fillna(average_value)\n",
    "mileage_seri = mileage_seri.astype('int64')\n",
    "print(mileage_seri)\n"
   ]
  },
  {
   "cell_type": "code",
   "execution_count": 24,
   "id": "4f869888",
   "metadata": {
    "execution": {
     "iopub.execute_input": "2023-05-17T21:39:04.914856Z",
     "iopub.status.busy": "2023-05-17T21:39:04.914443Z",
     "iopub.status.idle": "2023-05-17T21:39:04.920960Z",
     "shell.execute_reply": "2023-05-17T21:39:04.919775Z"
    },
    "papermill": {
     "duration": 0.026177,
     "end_time": "2023-05-17T21:39:04.923601",
     "exception": false,
     "start_time": "2023-05-17T21:39:04.897424",
     "status": "completed"
    },
    "tags": []
   },
   "outputs": [],
   "source": [
    "test_data[\"mileage\"] = mileage_seri"
   ]
  },
  {
   "cell_type": "code",
   "execution_count": 25,
   "id": "d37412e8",
   "metadata": {
    "execution": {
     "iopub.execute_input": "2023-05-17T21:39:04.956786Z",
     "iopub.status.busy": "2023-05-17T21:39:04.956356Z",
     "iopub.status.idle": "2023-05-17T21:39:04.969539Z",
     "shell.execute_reply": "2023-05-17T21:39:04.968364Z"
    },
    "papermill": {
     "duration": 0.032867,
     "end_time": "2023-05-17T21:39:04.972154",
     "exception": false,
     "start_time": "2023-05-17T21:39:04.939287",
     "status": "completed"
    },
    "tags": []
   },
   "outputs": [],
   "source": [
    "label_encoder = LabelEncoder()\n",
    "test_data['transmission'] = label_encoder.fit_transform(test_data['transmission'])"
   ]
  },
  {
   "cell_type": "code",
   "execution_count": 26,
   "id": "22c78c8f",
   "metadata": {
    "execution": {
     "iopub.execute_input": "2023-05-17T21:39:05.005342Z",
     "iopub.status.busy": "2023-05-17T21:39:05.004862Z",
     "iopub.status.idle": "2023-05-17T21:39:05.017443Z",
     "shell.execute_reply": "2023-05-17T21:39:05.016446Z"
    },
    "papermill": {
     "duration": 0.031962,
     "end_time": "2023-05-17T21:39:05.019676",
     "exception": false,
     "start_time": "2023-05-17T21:39:04.987714",
     "status": "completed"
    },
    "tags": []
   },
   "outputs": [],
   "source": [
    "label_encoder = LabelEncoder()\n",
    "test_data['brand'] = label_encoder.fit_transform(test_data['brand'])"
   ]
  },
  {
   "cell_type": "code",
   "execution_count": 27,
   "id": "45f7c065",
   "metadata": {
    "execution": {
     "iopub.execute_input": "2023-05-17T21:39:05.054167Z",
     "iopub.status.busy": "2023-05-17T21:39:05.053039Z",
     "iopub.status.idle": "2023-05-17T21:39:05.067073Z",
     "shell.execute_reply": "2023-05-17T21:39:05.065846Z"
    },
    "papermill": {
     "duration": 0.033603,
     "end_time": "2023-05-17T21:39:05.069482",
     "exception": false,
     "start_time": "2023-05-17T21:39:05.035879",
     "status": "completed"
    },
    "tags": []
   },
   "outputs": [
    {
     "data": {
      "text/html": [
       "<div>\n",
       "<style scoped>\n",
       "    .dataframe tbody tr th:only-of-type {\n",
       "        vertical-align: middle;\n",
       "    }\n",
       "\n",
       "    .dataframe tbody tr th {\n",
       "        vertical-align: top;\n",
       "    }\n",
       "\n",
       "    .dataframe thead th {\n",
       "        text-align: right;\n",
       "    }\n",
       "</style>\n",
       "<table border=\"1\" class=\"dataframe\">\n",
       "  <thead>\n",
       "    <tr style=\"text-align: right;\">\n",
       "      <th></th>\n",
       "      <th>car_id</th>\n",
       "      <th>mileage</th>\n",
       "      <th>transmission</th>\n",
       "      <th>brand</th>\n",
       "    </tr>\n",
       "  </thead>\n",
       "  <tbody>\n",
       "    <tr>\n",
       "      <th>0</th>\n",
       "      <td>71542</td>\n",
       "      <td>80277</td>\n",
       "      <td>50</td>\n",
       "      <td>99</td>\n",
       "    </tr>\n",
       "    <tr>\n",
       "      <th>1</th>\n",
       "      <td>29263</td>\n",
       "      <td>224000</td>\n",
       "      <td>47</td>\n",
       "      <td>46</td>\n",
       "    </tr>\n",
       "    <tr>\n",
       "      <th>2</th>\n",
       "      <td>27118</td>\n",
       "      <td>127746</td>\n",
       "      <td>47</td>\n",
       "      <td>45</td>\n",
       "    </tr>\n",
       "    <tr>\n",
       "      <th>3</th>\n",
       "      <td>24436</td>\n",
       "      <td>194000</td>\n",
       "      <td>47</td>\n",
       "      <td>42</td>\n",
       "    </tr>\n",
       "    <tr>\n",
       "      <th>4</th>\n",
       "      <td>28254</td>\n",
       "      <td>15500</td>\n",
       "      <td>49</td>\n",
       "      <td>45</td>\n",
       "    </tr>\n",
       "    <tr>\n",
       "      <th>...</th>\n",
       "      <td>...</td>\n",
       "      <td>...</td>\n",
       "      <td>...</td>\n",
       "      <td>...</td>\n",
       "    </tr>\n",
       "    <tr>\n",
       "      <th>19018</th>\n",
       "      <td>70809</td>\n",
       "      <td>139000</td>\n",
       "      <td>47</td>\n",
       "      <td>99</td>\n",
       "    </tr>\n",
       "    <tr>\n",
       "      <th>19019</th>\n",
       "      <td>51222</td>\n",
       "      <td>105000</td>\n",
       "      <td>49</td>\n",
       "      <td>74</td>\n",
       "    </tr>\n",
       "    <tr>\n",
       "      <th>19020</th>\n",
       "      <td>38951</td>\n",
       "      <td>218000</td>\n",
       "      <td>47</td>\n",
       "      <td>58</td>\n",
       "    </tr>\n",
       "    <tr>\n",
       "      <th>19021</th>\n",
       "      <td>66068</td>\n",
       "      <td>16</td>\n",
       "      <td>47</td>\n",
       "      <td>97</td>\n",
       "    </tr>\n",
       "    <tr>\n",
       "      <th>19022</th>\n",
       "      <td>28680</td>\n",
       "      <td>136726</td>\n",
       "      <td>47</td>\n",
       "      <td>46</td>\n",
       "    </tr>\n",
       "  </tbody>\n",
       "</table>\n",
       "<p>19023 rows × 4 columns</p>\n",
       "</div>"
      ],
      "text/plain": [
       "       car_id  mileage  transmission  brand\n",
       "0       71542    80277            50     99\n",
       "1       29263   224000            47     46\n",
       "2       27118   127746            47     45\n",
       "3       24436   194000            47     42\n",
       "4       28254    15500            49     45\n",
       "...       ...      ...           ...    ...\n",
       "19018   70809   139000            47     99\n",
       "19019   51222   105000            49     74\n",
       "19020   38951   218000            47     58\n",
       "19021   66068       16            47     97\n",
       "19022   28680   136726            47     46\n",
       "\n",
       "[19023 rows x 4 columns]"
      ]
     },
     "execution_count": 27,
     "metadata": {},
     "output_type": "execute_result"
    }
   ],
   "source": [
    "test_data"
   ]
  },
  {
   "cell_type": "code",
   "execution_count": 28,
   "id": "81650084",
   "metadata": {
    "execution": {
     "iopub.execute_input": "2023-05-17T21:39:05.103180Z",
     "iopub.status.busy": "2023-05-17T21:39:05.102710Z",
     "iopub.status.idle": "2023-05-17T21:39:05.111043Z",
     "shell.execute_reply": "2023-05-17T21:39:05.109568Z"
    },
    "papermill": {
     "duration": 0.028046,
     "end_time": "2023-05-17T21:39:05.113587",
     "exception": false,
     "start_time": "2023-05-17T21:39:05.085541",
     "status": "completed"
    },
    "tags": []
   },
   "outputs": [],
   "source": [
    "X_train = train_data.drop(columns=[\"price\"])\n",
    "y_train = train_data[\"price\"]"
   ]
  },
  {
   "cell_type": "code",
   "execution_count": 29,
   "id": "cc66fcd3",
   "metadata": {
    "execution": {
     "iopub.execute_input": "2023-05-17T21:39:05.148079Z",
     "iopub.status.busy": "2023-05-17T21:39:05.147264Z",
     "iopub.status.idle": "2023-05-17T21:39:05.152529Z",
     "shell.execute_reply": "2023-05-17T21:39:05.151307Z"
    },
    "papermill": {
     "duration": 0.024715,
     "end_time": "2023-05-17T21:39:05.154886",
     "exception": false,
     "start_time": "2023-05-17T21:39:05.130171",
     "status": "completed"
    },
    "tags": []
   },
   "outputs": [],
   "source": [
    "n_estimators = 100\n",
    "max_depth = 5\n",
    "min_samples_split = 10\n"
   ]
  },
  {
   "cell_type": "code",
   "execution_count": 30,
   "id": "a7642c40",
   "metadata": {
    "execution": {
     "iopub.execute_input": "2023-05-17T21:39:05.189484Z",
     "iopub.status.busy": "2023-05-17T21:39:05.188365Z",
     "iopub.status.idle": "2023-05-17T21:39:05.193960Z",
     "shell.execute_reply": "2023-05-17T21:39:05.193073Z"
    },
    "papermill": {
     "duration": 0.025342,
     "end_time": "2023-05-17T21:39:05.196366",
     "exception": false,
     "start_time": "2023-05-17T21:39:05.171024",
     "status": "completed"
    },
    "tags": []
   },
   "outputs": [],
   "source": [
    "rf = RandomForestClassifier(n_estimators=n_estimators, max_depth=max_depth, min_samples_split=min_samples_split)"
   ]
  },
  {
   "cell_type": "code",
   "execution_count": 31,
   "id": "73e57708",
   "metadata": {
    "execution": {
     "iopub.execute_input": "2023-05-17T21:39:05.231180Z",
     "iopub.status.busy": "2023-05-17T21:39:05.229974Z",
     "iopub.status.idle": "2023-05-17T21:42:11.971644Z",
     "shell.execute_reply": "2023-05-17T21:42:11.970336Z"
    },
    "papermill": {
     "duration": 186.776992,
     "end_time": "2023-05-17T21:42:11.989598",
     "exception": false,
     "start_time": "2023-05-17T21:39:05.212606",
     "status": "completed"
    },
    "tags": []
   },
   "outputs": [
    {
     "data": {
      "text/html": [
       "<style>#sk-container-id-1 {color: black;background-color: white;}#sk-container-id-1 pre{padding: 0;}#sk-container-id-1 div.sk-toggleable {background-color: white;}#sk-container-id-1 label.sk-toggleable__label {cursor: pointer;display: block;width: 100%;margin-bottom: 0;padding: 0.3em;box-sizing: border-box;text-align: center;}#sk-container-id-1 label.sk-toggleable__label-arrow:before {content: \"▸\";float: left;margin-right: 0.25em;color: #696969;}#sk-container-id-1 label.sk-toggleable__label-arrow:hover:before {color: black;}#sk-container-id-1 div.sk-estimator:hover label.sk-toggleable__label-arrow:before {color: black;}#sk-container-id-1 div.sk-toggleable__content {max-height: 0;max-width: 0;overflow: hidden;text-align: left;background-color: #f0f8ff;}#sk-container-id-1 div.sk-toggleable__content pre {margin: 0.2em;color: black;border-radius: 0.25em;background-color: #f0f8ff;}#sk-container-id-1 input.sk-toggleable__control:checked~div.sk-toggleable__content {max-height: 200px;max-width: 100%;overflow: auto;}#sk-container-id-1 input.sk-toggleable__control:checked~label.sk-toggleable__label-arrow:before {content: \"▾\";}#sk-container-id-1 div.sk-estimator input.sk-toggleable__control:checked~label.sk-toggleable__label {background-color: #d4ebff;}#sk-container-id-1 div.sk-label input.sk-toggleable__control:checked~label.sk-toggleable__label {background-color: #d4ebff;}#sk-container-id-1 input.sk-hidden--visually {border: 0;clip: rect(1px 1px 1px 1px);clip: rect(1px, 1px, 1px, 1px);height: 1px;margin: -1px;overflow: hidden;padding: 0;position: absolute;width: 1px;}#sk-container-id-1 div.sk-estimator {font-family: monospace;background-color: #f0f8ff;border: 1px dotted black;border-radius: 0.25em;box-sizing: border-box;margin-bottom: 0.5em;}#sk-container-id-1 div.sk-estimator:hover {background-color: #d4ebff;}#sk-container-id-1 div.sk-parallel-item::after {content: \"\";width: 100%;border-bottom: 1px solid gray;flex-grow: 1;}#sk-container-id-1 div.sk-label:hover label.sk-toggleable__label {background-color: #d4ebff;}#sk-container-id-1 div.sk-serial::before {content: \"\";position: absolute;border-left: 1px solid gray;box-sizing: border-box;top: 0;bottom: 0;left: 50%;z-index: 0;}#sk-container-id-1 div.sk-serial {display: flex;flex-direction: column;align-items: center;background-color: white;padding-right: 0.2em;padding-left: 0.2em;position: relative;}#sk-container-id-1 div.sk-item {position: relative;z-index: 1;}#sk-container-id-1 div.sk-parallel {display: flex;align-items: stretch;justify-content: center;background-color: white;position: relative;}#sk-container-id-1 div.sk-item::before, #sk-container-id-1 div.sk-parallel-item::before {content: \"\";position: absolute;border-left: 1px solid gray;box-sizing: border-box;top: 0;bottom: 0;left: 50%;z-index: -1;}#sk-container-id-1 div.sk-parallel-item {display: flex;flex-direction: column;z-index: 1;position: relative;background-color: white;}#sk-container-id-1 div.sk-parallel-item:first-child::after {align-self: flex-end;width: 50%;}#sk-container-id-1 div.sk-parallel-item:last-child::after {align-self: flex-start;width: 50%;}#sk-container-id-1 div.sk-parallel-item:only-child::after {width: 0;}#sk-container-id-1 div.sk-dashed-wrapped {border: 1px dashed gray;margin: 0 0.4em 0.5em 0.4em;box-sizing: border-box;padding-bottom: 0.4em;background-color: white;}#sk-container-id-1 div.sk-label label {font-family: monospace;font-weight: bold;display: inline-block;line-height: 1.2em;}#sk-container-id-1 div.sk-label-container {text-align: center;}#sk-container-id-1 div.sk-container {/* jupyter's `normalize.less` sets `[hidden] { display: none; }` but bootstrap.min.css set `[hidden] { display: none !important; }` so we also need the `!important` here to be able to override the default hidden behavior on the sphinx rendered scikit-learn.org. See: https://github.com/scikit-learn/scikit-learn/issues/21755 */display: inline-block !important;position: relative;}#sk-container-id-1 div.sk-text-repr-fallback {display: none;}</style><div id=\"sk-container-id-1\" class=\"sk-top-container\"><div class=\"sk-text-repr-fallback\"><pre>RandomForestClassifier(max_depth=5, min_samples_split=10)</pre><b>In a Jupyter environment, please rerun this cell to show the HTML representation or trust the notebook. <br />On GitHub, the HTML representation is unable to render, please try loading this page with nbviewer.org.</b></div><div class=\"sk-container\" hidden><div class=\"sk-item\"><div class=\"sk-estimator sk-toggleable\"><input class=\"sk-toggleable__control sk-hidden--visually\" id=\"sk-estimator-id-1\" type=\"checkbox\" checked><label for=\"sk-estimator-id-1\" class=\"sk-toggleable__label sk-toggleable__label-arrow\">RandomForestClassifier</label><div class=\"sk-toggleable__content\"><pre>RandomForestClassifier(max_depth=5, min_samples_split=10)</pre></div></div></div></div></div>"
      ],
      "text/plain": [
       "RandomForestClassifier(max_depth=5, min_samples_split=10)"
      ]
     },
     "execution_count": 31,
     "metadata": {},
     "output_type": "execute_result"
    }
   ],
   "source": [
    "rf.fit(X_train, y_train)"
   ]
  },
  {
   "cell_type": "code",
   "execution_count": 32,
   "id": "4f3bd18d",
   "metadata": {
    "execution": {
     "iopub.execute_input": "2023-05-17T21:42:12.024268Z",
     "iopub.status.busy": "2023-05-17T21:42:12.023813Z",
     "iopub.status.idle": "2023-05-17T21:42:12.030641Z",
     "shell.execute_reply": "2023-05-17T21:42:12.029476Z"
    },
    "papermill": {
     "duration": 0.027395,
     "end_time": "2023-05-17T21:42:12.033250",
     "exception": false,
     "start_time": "2023-05-17T21:42:12.005855",
     "status": "completed"
    },
    "tags": []
   },
   "outputs": [],
   "source": [
    "# Reorder the test_data columns to match the order of X_train columns\n",
    "test_data = test_data[X_train.columns]"
   ]
  },
  {
   "cell_type": "code",
   "execution_count": 33,
   "id": "5976b825",
   "metadata": {
    "execution": {
     "iopub.execute_input": "2023-05-17T21:42:12.068317Z",
     "iopub.status.busy": "2023-05-17T21:42:12.067228Z",
     "iopub.status.idle": "2023-05-17T21:43:33.937542Z",
     "shell.execute_reply": "2023-05-17T21:43:33.936236Z"
    },
    "papermill": {
     "duration": 81.891119,
     "end_time": "2023-05-17T21:43:33.940571",
     "exception": false,
     "start_time": "2023-05-17T21:42:12.049452",
     "status": "completed"
    },
    "tags": []
   },
   "outputs": [],
   "source": [
    "predictions = rf.predict(test_data)"
   ]
  },
  {
   "cell_type": "code",
   "execution_count": 34,
   "id": "574619be",
   "metadata": {
    "execution": {
     "iopub.execute_input": "2023-05-17T21:43:33.974881Z",
     "iopub.status.busy": "2023-05-17T21:43:33.974464Z",
     "iopub.status.idle": "2023-05-17T21:43:33.988695Z",
     "shell.execute_reply": "2023-05-17T21:43:33.987489Z"
    },
    "papermill": {
     "duration": 0.034663,
     "end_time": "2023-05-17T21:43:33.991563",
     "exception": false,
     "start_time": "2023-05-17T21:43:33.956900",
     "status": "completed"
    },
    "tags": []
   },
   "outputs": [],
   "source": [
    "X_train_split, X_val_split, y_train_split, y_val_split = train_test_split(X_train, y_train, test_size=0.2, random_state=42)"
   ]
  },
  {
   "cell_type": "code",
   "execution_count": 35,
   "id": "89212ed2",
   "metadata": {
    "execution": {
     "iopub.execute_input": "2023-05-17T21:43:34.026791Z",
     "iopub.status.busy": "2023-05-17T21:43:34.025905Z",
     "iopub.status.idle": "2023-05-17T21:43:34.030709Z",
     "shell.execute_reply": "2023-05-17T21:43:34.029720Z"
    },
    "papermill": {
     "duration": 0.025476,
     "end_time": "2023-05-17T21:43:34.033206",
     "exception": false,
     "start_time": "2023-05-17T21:43:34.007730",
     "status": "completed"
    },
    "tags": []
   },
   "outputs": [],
   "source": [
    "n_estimators = 100\n",
    "max_depth = 5\n",
    "min_samples_split = 10"
   ]
  },
  {
   "cell_type": "code",
   "execution_count": 36,
   "id": "dc4f8c19",
   "metadata": {
    "execution": {
     "iopub.execute_input": "2023-05-17T21:43:34.068240Z",
     "iopub.status.busy": "2023-05-17T21:43:34.067095Z",
     "iopub.status.idle": "2023-05-17T21:45:53.523202Z",
     "shell.execute_reply": "2023-05-17T21:45:53.521983Z"
    },
    "papermill": {
     "duration": 139.49161,
     "end_time": "2023-05-17T21:45:53.541215",
     "exception": false,
     "start_time": "2023-05-17T21:43:34.049605",
     "status": "completed"
    },
    "tags": []
   },
   "outputs": [
    {
     "data": {
      "text/html": [
       "<style>#sk-container-id-2 {color: black;background-color: white;}#sk-container-id-2 pre{padding: 0;}#sk-container-id-2 div.sk-toggleable {background-color: white;}#sk-container-id-2 label.sk-toggleable__label {cursor: pointer;display: block;width: 100%;margin-bottom: 0;padding: 0.3em;box-sizing: border-box;text-align: center;}#sk-container-id-2 label.sk-toggleable__label-arrow:before {content: \"▸\";float: left;margin-right: 0.25em;color: #696969;}#sk-container-id-2 label.sk-toggleable__label-arrow:hover:before {color: black;}#sk-container-id-2 div.sk-estimator:hover label.sk-toggleable__label-arrow:before {color: black;}#sk-container-id-2 div.sk-toggleable__content {max-height: 0;max-width: 0;overflow: hidden;text-align: left;background-color: #f0f8ff;}#sk-container-id-2 div.sk-toggleable__content pre {margin: 0.2em;color: black;border-radius: 0.25em;background-color: #f0f8ff;}#sk-container-id-2 input.sk-toggleable__control:checked~div.sk-toggleable__content {max-height: 200px;max-width: 100%;overflow: auto;}#sk-container-id-2 input.sk-toggleable__control:checked~label.sk-toggleable__label-arrow:before {content: \"▾\";}#sk-container-id-2 div.sk-estimator input.sk-toggleable__control:checked~label.sk-toggleable__label {background-color: #d4ebff;}#sk-container-id-2 div.sk-label input.sk-toggleable__control:checked~label.sk-toggleable__label {background-color: #d4ebff;}#sk-container-id-2 input.sk-hidden--visually {border: 0;clip: rect(1px 1px 1px 1px);clip: rect(1px, 1px, 1px, 1px);height: 1px;margin: -1px;overflow: hidden;padding: 0;position: absolute;width: 1px;}#sk-container-id-2 div.sk-estimator {font-family: monospace;background-color: #f0f8ff;border: 1px dotted black;border-radius: 0.25em;box-sizing: border-box;margin-bottom: 0.5em;}#sk-container-id-2 div.sk-estimator:hover {background-color: #d4ebff;}#sk-container-id-2 div.sk-parallel-item::after {content: \"\";width: 100%;border-bottom: 1px solid gray;flex-grow: 1;}#sk-container-id-2 div.sk-label:hover label.sk-toggleable__label {background-color: #d4ebff;}#sk-container-id-2 div.sk-serial::before {content: \"\";position: absolute;border-left: 1px solid gray;box-sizing: border-box;top: 0;bottom: 0;left: 50%;z-index: 0;}#sk-container-id-2 div.sk-serial {display: flex;flex-direction: column;align-items: center;background-color: white;padding-right: 0.2em;padding-left: 0.2em;position: relative;}#sk-container-id-2 div.sk-item {position: relative;z-index: 1;}#sk-container-id-2 div.sk-parallel {display: flex;align-items: stretch;justify-content: center;background-color: white;position: relative;}#sk-container-id-2 div.sk-item::before, #sk-container-id-2 div.sk-parallel-item::before {content: \"\";position: absolute;border-left: 1px solid gray;box-sizing: border-box;top: 0;bottom: 0;left: 50%;z-index: -1;}#sk-container-id-2 div.sk-parallel-item {display: flex;flex-direction: column;z-index: 1;position: relative;background-color: white;}#sk-container-id-2 div.sk-parallel-item:first-child::after {align-self: flex-end;width: 50%;}#sk-container-id-2 div.sk-parallel-item:last-child::after {align-self: flex-start;width: 50%;}#sk-container-id-2 div.sk-parallel-item:only-child::after {width: 0;}#sk-container-id-2 div.sk-dashed-wrapped {border: 1px dashed gray;margin: 0 0.4em 0.5em 0.4em;box-sizing: border-box;padding-bottom: 0.4em;background-color: white;}#sk-container-id-2 div.sk-label label {font-family: monospace;font-weight: bold;display: inline-block;line-height: 1.2em;}#sk-container-id-2 div.sk-label-container {text-align: center;}#sk-container-id-2 div.sk-container {/* jupyter's `normalize.less` sets `[hidden] { display: none; }` but bootstrap.min.css set `[hidden] { display: none !important; }` so we also need the `!important` here to be able to override the default hidden behavior on the sphinx rendered scikit-learn.org. See: https://github.com/scikit-learn/scikit-learn/issues/21755 */display: inline-block !important;position: relative;}#sk-container-id-2 div.sk-text-repr-fallback {display: none;}</style><div id=\"sk-container-id-2\" class=\"sk-top-container\"><div class=\"sk-text-repr-fallback\"><pre>RandomForestClassifier(max_depth=5, min_samples_split=10)</pre><b>In a Jupyter environment, please rerun this cell to show the HTML representation or trust the notebook. <br />On GitHub, the HTML representation is unable to render, please try loading this page with nbviewer.org.</b></div><div class=\"sk-container\" hidden><div class=\"sk-item\"><div class=\"sk-estimator sk-toggleable\"><input class=\"sk-toggleable__control sk-hidden--visually\" id=\"sk-estimator-id-2\" type=\"checkbox\" checked><label for=\"sk-estimator-id-2\" class=\"sk-toggleable__label sk-toggleable__label-arrow\">RandomForestClassifier</label><div class=\"sk-toggleable__content\"><pre>RandomForestClassifier(max_depth=5, min_samples_split=10)</pre></div></div></div></div></div>"
      ],
      "text/plain": [
       "RandomForestClassifier(max_depth=5, min_samples_split=10)"
      ]
     },
     "execution_count": 36,
     "metadata": {},
     "output_type": "execute_result"
    }
   ],
   "source": [
    "rf = RandomForestClassifier(n_estimators=n_estimators, max_depth=max_depth, min_samples_split=min_samples_split)\n",
    "rf.fit(X_train_split, y_train_split)"
   ]
  },
  {
   "cell_type": "code",
   "execution_count": 37,
   "id": "976f7542",
   "metadata": {
    "execution": {
     "iopub.execute_input": "2023-05-17T21:45:53.576112Z",
     "iopub.status.busy": "2023-05-17T21:45:53.575679Z",
     "iopub.status.idle": "2023-05-17T21:46:38.571266Z",
     "shell.execute_reply": "2023-05-17T21:46:38.569958Z"
    },
    "papermill": {
     "duration": 45.016437,
     "end_time": "2023-05-17T21:46:38.574107",
     "exception": false,
     "start_time": "2023-05-17T21:45:53.557670",
     "status": "completed"
    },
    "tags": []
   },
   "outputs": [],
   "source": [
    "val_predictions = rf.predict(X_val_split)"
   ]
  },
  {
   "cell_type": "code",
   "execution_count": 38,
   "id": "5ee7ad6d",
   "metadata": {
    "execution": {
     "iopub.execute_input": "2023-05-17T21:46:38.609014Z",
     "iopub.status.busy": "2023-05-17T21:46:38.608556Z",
     "iopub.status.idle": "2023-05-17T21:46:38.617368Z",
     "shell.execute_reply": "2023-05-17T21:46:38.615994Z"
    },
    "papermill": {
     "duration": 0.029154,
     "end_time": "2023-05-17T21:46:38.619858",
     "exception": false,
     "start_time": "2023-05-17T21:46:38.590704",
     "status": "completed"
    },
    "tags": []
   },
   "outputs": [
    {
     "name": "stdout",
     "output_type": "stream",
     "text": [
      "RLMSE: 5.51266486003536\n"
     ]
    }
   ],
   "source": [
    "# Calculate the mean squared error (MSE)\n",
    "mse = mean_squared_error(y_val_split, val_predictions)\n",
    "\n",
    "# Take the natural logarithm of the MSE\n",
    "ln_mse = np.log(mse)\n",
    "\n",
    "# Calculate the mean of the squared logarithmic errors\n",
    "mean_squared_ln_error = np.mean(ln_mse)\n",
    "\n",
    "# Take the square root of the mean squared logarithmic error to get RLMSE\n",
    "rlmse = np.sqrt(mean_squared_ln_error)\n",
    "\n",
    "print(\"RLMSE:\", rlmse)"
   ]
  },
  {
   "cell_type": "code",
   "execution_count": 39,
   "id": "fbc1f069",
   "metadata": {
    "execution": {
     "iopub.execute_input": "2023-05-17T21:46:38.654926Z",
     "iopub.status.busy": "2023-05-17T21:46:38.654531Z",
     "iopub.status.idle": "2023-05-17T21:46:38.661134Z",
     "shell.execute_reply": "2023-05-17T21:46:38.659746Z"
    },
    "papermill": {
     "duration": 0.027172,
     "end_time": "2023-05-17T21:46:38.663677",
     "exception": false,
     "start_time": "2023-05-17T21:46:38.636505",
     "status": "completed"
    },
    "tags": []
   },
   "outputs": [],
   "source": [
    "def calculate_rlmse(true_values, predicted_values):\n",
    "    # Calculate the mean squared error (MSE)\n",
    "    mse = np.mean((y_val_split, val_predictions) ** 2)\n",
    "    \n",
    "    # Take the natural logarithm of the MSE\n",
    "    ln_mse = np.log(mse)\n",
    "    \n",
    "    # Calculate the mean of the squared logarithmic errors\n",
    "    mean_squared_ln_error = np.mean(ln_mse)\n",
    "    \n",
    "    # Take the square root of the mean squared logarithmic error to get RLMSE\n",
    "    rlmse = np.sqrt(mean_squared_ln_error)\n",
    "    \n",
    "    return rlmse"
   ]
  },
  {
   "cell_type": "code",
   "execution_count": 40,
   "id": "ff204920",
   "metadata": {
    "execution": {
     "iopub.execute_input": "2023-05-17T21:46:38.699962Z",
     "iopub.status.busy": "2023-05-17T21:46:38.699571Z",
     "iopub.status.idle": "2023-05-17T21:46:38.708392Z",
     "shell.execute_reply": "2023-05-17T21:46:38.707030Z"
    },
    "papermill": {
     "duration": 0.029461,
     "end_time": "2023-05-17T21:46:38.710785",
     "exception": false,
     "start_time": "2023-05-17T21:46:38.681324",
     "status": "completed"
    },
    "tags": []
   },
   "outputs": [
    {
     "name": "stdout",
     "output_type": "stream",
     "text": [
      "Validation Accuracy: 0.040301384264937797\n"
     ]
    }
   ],
   "source": [
    "accuracy = accuracy_score(y_val_split, val_predictions)\n",
    "print(\"Validation Accuracy:\", accuracy)"
   ]
  },
  {
   "cell_type": "code",
   "execution_count": 41,
   "id": "1c288fee",
   "metadata": {
    "execution": {
     "iopub.execute_input": "2023-05-17T21:46:38.746022Z",
     "iopub.status.busy": "2023-05-17T21:46:38.745592Z",
     "iopub.status.idle": "2023-05-17T21:46:38.805529Z",
     "shell.execute_reply": "2023-05-17T21:46:38.804263Z"
    },
    "papermill": {
     "duration": 0.080925,
     "end_time": "2023-05-17T21:46:38.808376",
     "exception": false,
     "start_time": "2023-05-17T21:46:38.727451",
     "status": "completed"
    },
    "tags": []
   },
   "outputs": [],
   "source": [
    "submission = pd.DataFrame({\"car_id\": test_data[\"car_id\"], \"predicted_price\": predictions})\n",
    "submission.to_csv(\"submission.csv\", index=False)"
   ]
  }
 ],
 "metadata": {
  "kernelspec": {
   "display_name": "Python 3",
   "language": "python",
   "name": "python3"
  },
  "language_info": {
   "codemirror_mode": {
    "name": "ipython",
    "version": 3
   },
   "file_extension": ".py",
   "mimetype": "text/x-python",
   "name": "python",
   "nbconvert_exporter": "python",
   "pygments_lexer": "ipython3",
   "version": "3.10.10"
  },
  "papermill": {
   "default_parameters": {},
   "duration": 472.291724,
   "end_time": "2023-05-17T21:46:40.050325",
   "environment_variables": {},
   "exception": null,
   "input_path": "__notebook__.ipynb",
   "output_path": "__notebook__.ipynb",
   "parameters": {},
   "start_time": "2023-05-17T21:38:47.758601",
   "version": "2.4.0"
  }
 },
 "nbformat": 4,
 "nbformat_minor": 5
}
