{
 "cells": [
  {
   "cell_type": "code",
   "execution_count": null,
   "id": "7b1a44cf",
   "metadata": {
    "papermill": {
     "duration": 0.005363,
     "end_time": "2023-05-07T04:54:59.007309",
     "exception": false,
     "start_time": "2023-05-07T04:54:59.001946",
     "status": "completed"
    },
    "tags": []
   },
   "outputs": [],
   "source": []
  },
  {
   "cell_type": "code",
   "execution_count": 1,
   "id": "498fe762",
   "metadata": {
    "_cell_guid": "b1076dfc-b9ad-4769-8c92-a6c4dae69d19",
    "_uuid": "8f2839f25d086af736a60e9eeb907d3b93b6e0e5",
    "execution": {
     "iopub.execute_input": "2023-05-07T04:54:59.017401Z",
     "iopub.status.busy": "2023-05-07T04:54:59.016962Z",
     "iopub.status.idle": "2023-05-07T04:54:59.033424Z",
     "shell.execute_reply": "2023-05-07T04:54:59.031922Z"
    },
    "papermill": {
     "duration": 0.023939,
     "end_time": "2023-05-07T04:54:59.035523",
     "exception": false,
     "start_time": "2023-05-07T04:54:59.011584",
     "status": "completed"
    },
    "tags": []
   },
   "outputs": [
    {
     "name": "stdout",
     "output_type": "stream",
     "text": [
      "/kaggle/input/titanic/train.csv\n",
      "/kaggle/input/titanic/test.csv\n",
      "/kaggle/input/titanic/gender_submission.csv\n"
     ]
    }
   ],
   "source": [
    "# This Python 3 environment comes with many helpful analytics libraries installed\n",
    "# It is defined by the kaggle/python Docker image: https://github.com/kaggle/docker-python\n",
    "# For example, here's several helpful packages to load\n",
    "\n",
    "import numpy as np # linear algebra\n",
    "import pandas as pd # data processing, CSV file I/O (e.g. pd.read_csv)\n",
    "\n",
    "# Input data files are available in the read-only \"../input/\" directory\n",
    "# For example, running this (by clicking run or pressing Shift+Enter) will list all files under the input directory\n",
    "\n",
    "import os\n",
    "for dirname, _, filenames in os.walk('/kaggle/input'):\n",
    "    for filename in filenames:\n",
    "        print(os.path.join(dirname, filename))\n",
    "\n",
    "# You can write up to 20GB to the current directory (/kaggle/working/) that gets preserved as output when you create a version using \"Save & Run All\" \n",
    "# You can also write temporary files to /kaggle/temp/, but they won't be saved outside of the current session"
   ]
  },
  {
   "cell_type": "code",
   "execution_count": 2,
   "id": "1a815cba",
   "metadata": {
    "execution": {
     "iopub.execute_input": "2023-05-07T04:54:59.045344Z",
     "iopub.status.busy": "2023-05-07T04:54:59.044486Z",
     "iopub.status.idle": "2023-05-07T04:54:59.092674Z",
     "shell.execute_reply": "2023-05-07T04:54:59.091696Z"
    },
    "papermill": {
     "duration": 0.055661,
     "end_time": "2023-05-07T04:54:59.095188",
     "exception": false,
     "start_time": "2023-05-07T04:54:59.039527",
     "status": "completed"
    },
    "tags": []
   },
   "outputs": [
    {
     "data": {
      "text/html": [
       "<div>\n",
       "<style scoped>\n",
       "    .dataframe tbody tr th:only-of-type {\n",
       "        vertical-align: middle;\n",
       "    }\n",
       "\n",
       "    .dataframe tbody tr th {\n",
       "        vertical-align: top;\n",
       "    }\n",
       "\n",
       "    .dataframe thead th {\n",
       "        text-align: right;\n",
       "    }\n",
       "</style>\n",
       "<table border=\"1\" class=\"dataframe\">\n",
       "  <thead>\n",
       "    <tr style=\"text-align: right;\">\n",
       "      <th></th>\n",
       "      <th>PassengerId</th>\n",
       "      <th>Survived</th>\n",
       "      <th>Pclass</th>\n",
       "      <th>Name</th>\n",
       "      <th>Sex</th>\n",
       "      <th>Age</th>\n",
       "      <th>SibSp</th>\n",
       "      <th>Parch</th>\n",
       "      <th>Ticket</th>\n",
       "      <th>Fare</th>\n",
       "      <th>Cabin</th>\n",
       "      <th>Embarked</th>\n",
       "    </tr>\n",
       "  </thead>\n",
       "  <tbody>\n",
       "    <tr>\n",
       "      <th>0</th>\n",
       "      <td>1</td>\n",
       "      <td>0</td>\n",
       "      <td>3</td>\n",
       "      <td>Braund, Mr. Owen Harris</td>\n",
       "      <td>male</td>\n",
       "      <td>22.0</td>\n",
       "      <td>1</td>\n",
       "      <td>0</td>\n",
       "      <td>A/5 21171</td>\n",
       "      <td>7.2500</td>\n",
       "      <td>NaN</td>\n",
       "      <td>S</td>\n",
       "    </tr>\n",
       "    <tr>\n",
       "      <th>1</th>\n",
       "      <td>2</td>\n",
       "      <td>1</td>\n",
       "      <td>1</td>\n",
       "      <td>Cumings, Mrs. John Bradley (Florence Briggs Th...</td>\n",
       "      <td>female</td>\n",
       "      <td>38.0</td>\n",
       "      <td>1</td>\n",
       "      <td>0</td>\n",
       "      <td>PC 17599</td>\n",
       "      <td>71.2833</td>\n",
       "      <td>C85</td>\n",
       "      <td>C</td>\n",
       "    </tr>\n",
       "    <tr>\n",
       "      <th>2</th>\n",
       "      <td>3</td>\n",
       "      <td>1</td>\n",
       "      <td>3</td>\n",
       "      <td>Heikkinen, Miss. Laina</td>\n",
       "      <td>female</td>\n",
       "      <td>26.0</td>\n",
       "      <td>0</td>\n",
       "      <td>0</td>\n",
       "      <td>STON/O2. 3101282</td>\n",
       "      <td>7.9250</td>\n",
       "      <td>NaN</td>\n",
       "      <td>S</td>\n",
       "    </tr>\n",
       "    <tr>\n",
       "      <th>3</th>\n",
       "      <td>4</td>\n",
       "      <td>1</td>\n",
       "      <td>1</td>\n",
       "      <td>Futrelle, Mrs. Jacques Heath (Lily May Peel)</td>\n",
       "      <td>female</td>\n",
       "      <td>35.0</td>\n",
       "      <td>1</td>\n",
       "      <td>0</td>\n",
       "      <td>113803</td>\n",
       "      <td>53.1000</td>\n",
       "      <td>C123</td>\n",
       "      <td>S</td>\n",
       "    </tr>\n",
       "    <tr>\n",
       "      <th>4</th>\n",
       "      <td>5</td>\n",
       "      <td>0</td>\n",
       "      <td>3</td>\n",
       "      <td>Allen, Mr. William Henry</td>\n",
       "      <td>male</td>\n",
       "      <td>35.0</td>\n",
       "      <td>0</td>\n",
       "      <td>0</td>\n",
       "      <td>373450</td>\n",
       "      <td>8.0500</td>\n",
       "      <td>NaN</td>\n",
       "      <td>S</td>\n",
       "    </tr>\n",
       "  </tbody>\n",
       "</table>\n",
       "</div>"
      ],
      "text/plain": [
       "   PassengerId  Survived  Pclass  \\\n",
       "0            1         0       3   \n",
       "1            2         1       1   \n",
       "2            3         1       3   \n",
       "3            4         1       1   \n",
       "4            5         0       3   \n",
       "\n",
       "                                                Name     Sex   Age  SibSp  \\\n",
       "0                            Braund, Mr. Owen Harris    male  22.0      1   \n",
       "1  Cumings, Mrs. John Bradley (Florence Briggs Th...  female  38.0      1   \n",
       "2                             Heikkinen, Miss. Laina  female  26.0      0   \n",
       "3       Futrelle, Mrs. Jacques Heath (Lily May Peel)  female  35.0      1   \n",
       "4                           Allen, Mr. William Henry    male  35.0      0   \n",
       "\n",
       "   Parch            Ticket     Fare Cabin Embarked  \n",
       "0      0         A/5 21171   7.2500   NaN        S  \n",
       "1      0          PC 17599  71.2833   C85        C  \n",
       "2      0  STON/O2. 3101282   7.9250   NaN        S  \n",
       "3      0            113803  53.1000  C123        S  \n",
       "4      0            373450   8.0500   NaN        S  "
      ]
     },
     "execution_count": 2,
     "metadata": {},
     "output_type": "execute_result"
    }
   ],
   "source": [
    "train_data = pd.read_csv(\"/kaggle/input/titanic/train.csv\")\n",
    "train_data.head()"
   ]
  },
  {
   "cell_type": "code",
   "execution_count": 3,
   "id": "2aa4370a",
   "metadata": {
    "execution": {
     "iopub.execute_input": "2023-05-07T04:54:59.105138Z",
     "iopub.status.busy": "2023-05-07T04:54:59.104837Z",
     "iopub.status.idle": "2023-05-07T04:54:59.133676Z",
     "shell.execute_reply": "2023-05-07T04:54:59.132614Z"
    },
    "papermill": {
     "duration": 0.036632,
     "end_time": "2023-05-07T04:54:59.136284",
     "exception": false,
     "start_time": "2023-05-07T04:54:59.099652",
     "status": "completed"
    },
    "tags": []
   },
   "outputs": [
    {
     "data": {
      "text/html": [
       "<div>\n",
       "<style scoped>\n",
       "    .dataframe tbody tr th:only-of-type {\n",
       "        vertical-align: middle;\n",
       "    }\n",
       "\n",
       "    .dataframe tbody tr th {\n",
       "        vertical-align: top;\n",
       "    }\n",
       "\n",
       "    .dataframe thead th {\n",
       "        text-align: right;\n",
       "    }\n",
       "</style>\n",
       "<table border=\"1\" class=\"dataframe\">\n",
       "  <thead>\n",
       "    <tr style=\"text-align: right;\">\n",
       "      <th></th>\n",
       "      <th>PassengerId</th>\n",
       "      <th>Pclass</th>\n",
       "      <th>Name</th>\n",
       "      <th>Sex</th>\n",
       "      <th>Age</th>\n",
       "      <th>SibSp</th>\n",
       "      <th>Parch</th>\n",
       "      <th>Ticket</th>\n",
       "      <th>Fare</th>\n",
       "      <th>Cabin</th>\n",
       "      <th>Embarked</th>\n",
       "    </tr>\n",
       "  </thead>\n",
       "  <tbody>\n",
       "    <tr>\n",
       "      <th>0</th>\n",
       "      <td>892</td>\n",
       "      <td>3</td>\n",
       "      <td>Kelly, Mr. James</td>\n",
       "      <td>male</td>\n",
       "      <td>34.5</td>\n",
       "      <td>0</td>\n",
       "      <td>0</td>\n",
       "      <td>330911</td>\n",
       "      <td>7.8292</td>\n",
       "      <td>NaN</td>\n",
       "      <td>Q</td>\n",
       "    </tr>\n",
       "    <tr>\n",
       "      <th>1</th>\n",
       "      <td>893</td>\n",
       "      <td>3</td>\n",
       "      <td>Wilkes, Mrs. James (Ellen Needs)</td>\n",
       "      <td>female</td>\n",
       "      <td>47.0</td>\n",
       "      <td>1</td>\n",
       "      <td>0</td>\n",
       "      <td>363272</td>\n",
       "      <td>7.0000</td>\n",
       "      <td>NaN</td>\n",
       "      <td>S</td>\n",
       "    </tr>\n",
       "    <tr>\n",
       "      <th>2</th>\n",
       "      <td>894</td>\n",
       "      <td>2</td>\n",
       "      <td>Myles, Mr. Thomas Francis</td>\n",
       "      <td>male</td>\n",
       "      <td>62.0</td>\n",
       "      <td>0</td>\n",
       "      <td>0</td>\n",
       "      <td>240276</td>\n",
       "      <td>9.6875</td>\n",
       "      <td>NaN</td>\n",
       "      <td>Q</td>\n",
       "    </tr>\n",
       "    <tr>\n",
       "      <th>3</th>\n",
       "      <td>895</td>\n",
       "      <td>3</td>\n",
       "      <td>Wirz, Mr. Albert</td>\n",
       "      <td>male</td>\n",
       "      <td>27.0</td>\n",
       "      <td>0</td>\n",
       "      <td>0</td>\n",
       "      <td>315154</td>\n",
       "      <td>8.6625</td>\n",
       "      <td>NaN</td>\n",
       "      <td>S</td>\n",
       "    </tr>\n",
       "    <tr>\n",
       "      <th>4</th>\n",
       "      <td>896</td>\n",
       "      <td>3</td>\n",
       "      <td>Hirvonen, Mrs. Alexander (Helga E Lindqvist)</td>\n",
       "      <td>female</td>\n",
       "      <td>22.0</td>\n",
       "      <td>1</td>\n",
       "      <td>1</td>\n",
       "      <td>3101298</td>\n",
       "      <td>12.2875</td>\n",
       "      <td>NaN</td>\n",
       "      <td>S</td>\n",
       "    </tr>\n",
       "  </tbody>\n",
       "</table>\n",
       "</div>"
      ],
      "text/plain": [
       "   PassengerId  Pclass                                          Name     Sex  \\\n",
       "0          892       3                              Kelly, Mr. James    male   \n",
       "1          893       3              Wilkes, Mrs. James (Ellen Needs)  female   \n",
       "2          894       2                     Myles, Mr. Thomas Francis    male   \n",
       "3          895       3                              Wirz, Mr. Albert    male   \n",
       "4          896       3  Hirvonen, Mrs. Alexander (Helga E Lindqvist)  female   \n",
       "\n",
       "    Age  SibSp  Parch   Ticket     Fare Cabin Embarked  \n",
       "0  34.5      0      0   330911   7.8292   NaN        Q  \n",
       "1  47.0      1      0   363272   7.0000   NaN        S  \n",
       "2  62.0      0      0   240276   9.6875   NaN        Q  \n",
       "3  27.0      0      0   315154   8.6625   NaN        S  \n",
       "4  22.0      1      1  3101298  12.2875   NaN        S  "
      ]
     },
     "execution_count": 3,
     "metadata": {},
     "output_type": "execute_result"
    }
   ],
   "source": [
    "test_data = pd.read_csv(\"/kaggle/input/titanic/test.csv\")\n",
    "test_data.head()"
   ]
  },
  {
   "cell_type": "code",
   "execution_count": 4,
   "id": "b452d30e",
   "metadata": {
    "execution": {
     "iopub.execute_input": "2023-05-07T04:54:59.147140Z",
     "iopub.status.busy": "2023-05-07T04:54:59.146885Z",
     "iopub.status.idle": "2023-05-07T04:54:59.161033Z",
     "shell.execute_reply": "2023-05-07T04:54:59.159840Z"
    },
    "papermill": {
     "duration": 0.024074,
     "end_time": "2023-05-07T04:54:59.165083",
     "exception": false,
     "start_time": "2023-05-07T04:54:59.141009",
     "status": "completed"
    },
    "tags": []
   },
   "outputs": [
    {
     "name": "stdout",
     "output_type": "stream",
     "text": [
      "% of women who survived : 0.7420382165605095\n"
     ]
    }
   ],
   "source": [
    "women = train_data.loc[train_data.Sex == 'female'][\"Survived\"]\n",
    "rate_women = sum(women)/len(women)\n",
    "\n",
    "print(\"% of women who survived :\", rate_women)"
   ]
  },
  {
   "cell_type": "code",
   "execution_count": 5,
   "id": "3cc979ba",
   "metadata": {
    "execution": {
     "iopub.execute_input": "2023-05-07T04:54:59.176016Z",
     "iopub.status.busy": "2023-05-07T04:54:59.174951Z",
     "iopub.status.idle": "2023-05-07T04:54:59.182134Z",
     "shell.execute_reply": "2023-05-07T04:54:59.180829Z"
    },
    "papermill": {
     "duration": 0.014814,
     "end_time": "2023-05-07T04:54:59.184316",
     "exception": false,
     "start_time": "2023-05-07T04:54:59.169502",
     "status": "completed"
    },
    "tags": []
   },
   "outputs": [
    {
     "name": "stdout",
     "output_type": "stream",
     "text": [
      "% of men who survived : 0.18890814558058924\n"
     ]
    }
   ],
   "source": [
    "men = train_data.loc[train_data.Sex == 'male'][\"Survived\"]\n",
    "rate_men = sum(men)/len(men)\n",
    "\n",
    "print(\"% of men who survived :\", rate_men)"
   ]
  },
  {
   "cell_type": "markdown",
   "id": "b37036dd",
   "metadata": {
    "papermill": {
     "duration": 0.004391,
     "end_time": "2023-05-07T04:54:59.193581",
     "exception": false,
     "start_time": "2023-05-07T04:54:59.189190",
     "status": "completed"
    },
    "tags": []
   },
   "source": [
    "> We are going to use the random forest model, in this we vote on whether the indivisual survived.\n",
    "Finally make a democratic decision with the most vote wins."
   ]
  },
  {
   "cell_type": "code",
   "execution_count": 6,
   "id": "931dd439",
   "metadata": {
    "execution": {
     "iopub.execute_input": "2023-05-07T04:54:59.204430Z",
     "iopub.status.busy": "2023-05-07T04:54:59.203546Z",
     "iopub.status.idle": "2023-05-07T04:55:01.506956Z",
     "shell.execute_reply": "2023-05-07T04:55:01.505882Z"
    },
    "papermill": {
     "duration": 2.311979,
     "end_time": "2023-05-07T04:55:01.509995",
     "exception": false,
     "start_time": "2023-05-07T04:54:59.198016",
     "status": "completed"
    },
    "tags": []
   },
   "outputs": [],
   "source": [
    "from sklearn.ensemble import RandomForestClassifier\n",
    "\n",
    "#importing random forest classifier from the scikit-learn library"
   ]
  },
  {
   "cell_type": "code",
   "execution_count": 7,
   "id": "a02db11f",
   "metadata": {
    "execution": {
     "iopub.execute_input": "2023-05-07T04:55:01.527115Z",
     "iopub.status.busy": "2023-05-07T04:55:01.526379Z",
     "iopub.status.idle": "2023-05-07T04:55:01.532980Z",
     "shell.execute_reply": "2023-05-07T04:55:01.531995Z"
    },
    "papermill": {
     "duration": 0.018107,
     "end_time": "2023-05-07T04:55:01.535837",
     "exception": false,
     "start_time": "2023-05-07T04:55:01.517730",
     "status": "completed"
    },
    "tags": []
   },
   "outputs": [],
   "source": [
    "s = train_data[\"Survived\"]\n",
    "\n",
    "#Define the target variable for the training dataset as the \"Survived\" column of the train_data DataFrame.\n"
   ]
  },
  {
   "cell_type": "code",
   "execution_count": 8,
   "id": "9d7e1a13",
   "metadata": {
    "execution": {
     "iopub.execute_input": "2023-05-07T04:55:01.551384Z",
     "iopub.status.busy": "2023-05-07T04:55:01.550990Z",
     "iopub.status.idle": "2023-05-07T04:55:01.572368Z",
     "shell.execute_reply": "2023-05-07T04:55:01.571455Z"
    },
    "papermill": {
     "duration": 0.032032,
     "end_time": "2023-05-07T04:55:01.575140",
     "exception": false,
     "start_time": "2023-05-07T04:55:01.543108",
     "status": "completed"
    },
    "tags": []
   },
   "outputs": [],
   "source": [
    "features = [\"Pclass\", \"Sex\", \"SibSp\", \"Parch\", \"Embarked\"]\n",
    "\n",
    "#Define the list of features to use for training the model.\n",
    "\n",
    "X = pd.get_dummies(train_data[features])\n",
    "\n",
    "#Create a new DataFrame X with one-hot encoded features for the training dataset."
   ]
  },
  {
   "cell_type": "code",
   "execution_count": 9,
   "id": "6f579b3e",
   "metadata": {
    "execution": {
     "iopub.execute_input": "2023-05-07T04:55:01.591038Z",
     "iopub.status.busy": "2023-05-07T04:55:01.590671Z",
     "iopub.status.idle": "2023-05-07T04:55:01.603057Z",
     "shell.execute_reply": "2023-05-07T04:55:01.602159Z"
    },
    "papermill": {
     "duration": 0.023534,
     "end_time": "2023-05-07T04:55:01.606108",
     "exception": false,
     "start_time": "2023-05-07T04:55:01.582574",
     "status": "completed"
    },
    "tags": []
   },
   "outputs": [],
   "source": [
    "X_test = pd.get_dummies(test_data[features])\n",
    "\n",
    "#Create a new DataFrame X_test with one-hot encoded features for the test dataset."
   ]
  },
  {
   "cell_type": "code",
   "execution_count": 10,
   "id": "ca875b88",
   "metadata": {
    "execution": {
     "iopub.execute_input": "2023-05-07T04:55:01.621817Z",
     "iopub.status.busy": "2023-05-07T04:55:01.621478Z",
     "iopub.status.idle": "2023-05-07T04:55:01.872151Z",
     "shell.execute_reply": "2023-05-07T04:55:01.871165Z"
    },
    "papermill": {
     "duration": 0.261932,
     "end_time": "2023-05-07T04:55:01.875263",
     "exception": false,
     "start_time": "2023-05-07T04:55:01.613331",
     "status": "completed"
    },
    "tags": []
   },
   "outputs": [
    {
     "data": {
      "text/plain": [
       "RandomForestClassifier(max_depth=5, random_state=1)"
      ]
     },
     "execution_count": 10,
     "metadata": {},
     "output_type": "execute_result"
    }
   ],
   "source": [
    "model = RandomForestClassifier(n_estimators = 100, max_depth = 5, random_state = 1)\n",
    "model.fit(X,s)\n",
    "# In the code you provided, the random forest classifier is instantiated with 100 trees (n_estimators=100), a maximum depth of 5 (max_depth=5), and a random seed of 1 (random_state=1). \n",
    "#These values were likely chosen based on experimentation and tuning to find the best combination of performance and model complexity for the specific problem at hand."
   ]
  },
  {
   "cell_type": "code",
   "execution_count": 11,
   "id": "63760139",
   "metadata": {
    "execution": {
     "iopub.execute_input": "2023-05-07T04:55:01.895168Z",
     "iopub.status.busy": "2023-05-07T04:55:01.894784Z",
     "iopub.status.idle": "2023-05-07T04:55:02.108343Z",
     "shell.execute_reply": "2023-05-07T04:55:02.107207Z"
    },
    "papermill": {
     "duration": 0.225364,
     "end_time": "2023-05-07T04:55:02.110975",
     "exception": false,
     "start_time": "2023-05-07T04:55:01.885611",
     "status": "completed"
    },
    "tags": []
   },
   "outputs": [
    {
     "data": {
      "text/plain": [
       "RandomForestClassifier(max_depth=5, random_state=1)"
      ]
     },
     "execution_count": 11,
     "metadata": {},
     "output_type": "execute_result"
    }
   ],
   "source": [
    "model.fit(X,s)\n",
    "\n",
    "# The model will train on training data(X, s)"
   ]
  },
  {
   "cell_type": "code",
   "execution_count": 12,
   "id": "a7b97031",
   "metadata": {
    "execution": {
     "iopub.execute_input": "2023-05-07T04:55:02.124681Z",
     "iopub.status.busy": "2023-05-07T04:55:02.122856Z",
     "iopub.status.idle": "2023-05-07T04:55:02.146511Z",
     "shell.execute_reply": "2023-05-07T04:55:02.145623Z"
    },
    "papermill": {
     "duration": 0.032447,
     "end_time": "2023-05-07T04:55:02.148713",
     "exception": false,
     "start_time": "2023-05-07T04:55:02.116266",
     "status": "completed"
    },
    "tags": []
   },
   "outputs": [],
   "source": [
    "predictions = model.predict(X_test)\n",
    "\n",
    "# Making predictions out of train data."
   ]
  },
  {
   "cell_type": "code",
   "execution_count": 13,
   "id": "9923f2c0",
   "metadata": {
    "execution": {
     "iopub.execute_input": "2023-05-07T04:55:02.160450Z",
     "iopub.status.busy": "2023-05-07T04:55:02.160126Z",
     "iopub.status.idle": "2023-05-07T04:55:02.166138Z",
     "shell.execute_reply": "2023-05-07T04:55:02.165250Z"
    },
    "papermill": {
     "duration": 0.014648,
     "end_time": "2023-05-07T04:55:02.168296",
     "exception": false,
     "start_time": "2023-05-07T04:55:02.153648",
     "status": "completed"
    },
    "tags": []
   },
   "outputs": [],
   "source": [
    "output = pd.DataFrame({'PassengerId': test_data.PassengerId, 'Survived': predictions})"
   ]
  },
  {
   "cell_type": "markdown",
   "id": "41b62716",
   "metadata": {
    "papermill": {
     "duration": 0.004635,
     "end_time": "2023-05-07T04:55:02.177892",
     "exception": false,
     "start_time": "2023-05-07T04:55:02.173257",
     "status": "completed"
    },
    "tags": []
   },
   "source": [
    "Creating a new DataFrame output with the passenger IDs from the test dataset and the predicted survival outcomes."
   ]
  },
  {
   "cell_type": "code",
   "execution_count": 14,
   "id": "1945e5d6",
   "metadata": {
    "execution": {
     "iopub.execute_input": "2023-05-07T04:55:02.188810Z",
     "iopub.status.busy": "2023-05-07T04:55:02.188546Z",
     "iopub.status.idle": "2023-05-07T04:55:02.196458Z",
     "shell.execute_reply": "2023-05-07T04:55:02.195592Z"
    },
    "papermill": {
     "duration": 0.015651,
     "end_time": "2023-05-07T04:55:02.198440",
     "exception": false,
     "start_time": "2023-05-07T04:55:02.182789",
     "status": "completed"
    },
    "tags": []
   },
   "outputs": [],
   "source": [
    "output.to_csv('submission.csv', index = False)\n",
    "\n",
    "#Data frame to CSV file: submission.csv"
   ]
  },
  {
   "cell_type": "code",
   "execution_count": 15,
   "id": "7447ff54",
   "metadata": {
    "execution": {
     "iopub.execute_input": "2023-05-07T04:55:02.210278Z",
     "iopub.status.busy": "2023-05-07T04:55:02.208784Z",
     "iopub.status.idle": "2023-05-07T04:55:02.214699Z",
     "shell.execute_reply": "2023-05-07T04:55:02.213404Z"
    },
    "papermill": {
     "duration": 0.013604,
     "end_time": "2023-05-07T04:55:02.216931",
     "exception": false,
     "start_time": "2023-05-07T04:55:02.203327",
     "status": "completed"
    },
    "tags": []
   },
   "outputs": [
    {
     "name": "stdout",
     "output_type": "stream",
     "text": [
      "Your submission is saved successfully!!\n"
     ]
    }
   ],
   "source": [
    "print(\"Your submission is saved successfully!!\")"
   ]
  },
  {
   "cell_type": "code",
   "execution_count": null,
   "id": "fa5d388c",
   "metadata": {
    "papermill": {
     "duration": 0.004493,
     "end_time": "2023-05-07T04:55:02.226216",
     "exception": false,
     "start_time": "2023-05-07T04:55:02.221723",
     "status": "completed"
    },
    "tags": []
   },
   "outputs": [],
   "source": []
  }
 ],
 "metadata": {
  "kernelspec": {
   "display_name": "Python 3",
   "language": "python",
   "name": "python3"
  },
  "language_info": {
   "codemirror_mode": {
    "name": "ipython",
    "version": 3
   },
   "file_extension": ".py",
   "mimetype": "text/x-python",
   "name": "python",
   "nbconvert_exporter": "python",
   "pygments_lexer": "ipython3",
   "version": "3.7.12"
  },
  "papermill": {
   "default_parameters": {},
   "duration": 16.507361,
   "end_time": "2023-05-07T04:55:02.750269",
   "environment_variables": {},
   "exception": null,
   "input_path": "__notebook__.ipynb",
   "output_path": "__notebook__.ipynb",
   "parameters": {},
   "start_time": "2023-05-07T04:54:46.242908",
   "version": "2.4.0"
  }
 },
 "nbformat": 4,
 "nbformat_minor": 5
}
