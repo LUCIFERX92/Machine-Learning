{
 "cells": [
  {
   "cell_type": "code",
   "execution_count": 1,
   "id": "b3110277",
   "metadata": {
    "_cell_guid": "b1076dfc-b9ad-4769-8c92-a6c4dae69d19",
    "_uuid": "8f2839f25d086af736a60e9eeb907d3b93b6e0e5",
    "execution": {
     "iopub.execute_input": "2023-05-03T17:35:47.483808Z",
     "iopub.status.busy": "2023-05-03T17:35:47.482998Z",
     "iopub.status.idle": "2023-05-03T17:35:47.530368Z",
     "shell.execute_reply": "2023-05-03T17:35:47.529416Z"
    },
    "papermill": {
     "duration": 0.059324,
     "end_time": "2023-05-03T17:35:47.532656",
     "exception": false,
     "start_time": "2023-05-03T17:35:47.473332",
     "status": "completed"
    },
    "tags": []
   },
   "outputs": [
    {
     "name": "stdout",
     "output_type": "stream",
     "text": [
      "/kaggle/input/random-linear-regression/train.csv\n",
      "/kaggle/input/random-linear-regression/test.csv\n"
     ]
    }
   ],
   "source": [
    "# This Python 3 environment comes with many helpful analytics libraries installed\n",
    "# It is defined by the kaggle/python Docker image: https://github.com/kaggle/docker-python\n",
    "# For example, here's several helpful packages to load\n",
    "\n",
    "import numpy as np # linear algebra\n",
    "import pandas as pd # data processing, CSV file I/O (e.g. pd.read_csv)\n",
    "\n",
    "# Input data files are available in the read-only \"../input/\" directory\n",
    "# For example, running this (by clicking run or pressing Shift+Enter) will list all files under the input directory\n",
    "\n",
    "import os\n",
    "for dirname, _, filenames in os.walk('/kaggle/input'):\n",
    "    for filename in filenames:\n",
    "        print(os.path.join(dirname, filename))\n",
    "\n",
    "# You can write up to 20GB to the current directory (/kaggle/working/) that gets preserved as output when you create a version using \"Save & Run All\" \n",
    "# You can also write temporary files to /kaggle/temp/, but they won't be saved outside of the current session"
   ]
  },
  {
   "cell_type": "markdown",
   "id": "ab653e56",
   "metadata": {
    "papermill": {
     "duration": 0.006834,
     "end_time": "2023-05-03T17:35:47.546945",
     "exception": false,
     "start_time": "2023-05-03T17:35:47.540111",
     "status": "completed"
    },
    "tags": []
   },
   "source": [
    "# Importing Dependencies"
   ]
  },
  {
   "cell_type": "markdown",
   "id": "c118f1ac",
   "metadata": {
    "papermill": {
     "duration": 0.006762,
     "end_time": "2023-05-03T17:35:47.560768",
     "exception": false,
     "start_time": "2023-05-03T17:35:47.554006",
     "status": "completed"
    },
    "tags": []
   },
   "source": [
    "**Imporing Libraries**"
   ]
  },
  {
   "cell_type": "markdown",
   "id": "d8491806",
   "metadata": {
    "papermill": {
     "duration": 0.006781,
     "end_time": "2023-05-03T17:35:47.574644",
     "exception": false,
     "start_time": "2023-05-03T17:35:47.567863",
     "status": "completed"
    },
    "tags": []
   },
   "source": [
    "1. NumPy (import numpy as np): NumPy is a powerful library for numerical computing in Python. It provides support for large, multi-dimensional arrays and matrices, and includes a number of mathematical functions for performing operations on these arrays.\n",
    "\n",
    "2. pandas (import pandas as pd): pandas is a library for data manipulation and analysis in Python. It provides data structures for efficiently storing and querying large datasets, and includes functionality for slicing, indexing, grouping, and merging data.\n",
    "\n",
    "3. Matplotlib (import matplotlib.pyplot as plt): Matplotlib is a library for creating static, interactive, and animated visualizations in Python. It provides a range of plotting functions for creating line plots, scatter plots, bar plots, heatmaps, and more.\n",
    "\n",
    "4. Seaborn (import seaborn as sns): Seaborn is a library that provides a high-level interface for creating statistical graphics in Python. It builds on top of Matplotlib and provides a range of advanced visualization techniques, including heatmaps, kernel density estimation plots, and regression plots.\n",
    "\n",
    "To use these libraries, you simply need to import them into your Python code, using the import statement as shown in the example. Once you have imported the library, you can then use its functionality to perform a wide range of tasks, such as data manipulation, analysis, and visualization."
   ]
  },
  {
   "cell_type": "code",
   "execution_count": 2,
   "id": "60e75ee4",
   "metadata": {
    "execution": {
     "iopub.execute_input": "2023-05-03T17:35:47.591395Z",
     "iopub.status.busy": "2023-05-03T17:35:47.590491Z",
     "iopub.status.idle": "2023-05-03T17:35:48.864868Z",
     "shell.execute_reply": "2023-05-03T17:35:48.863836Z"
    },
    "papermill": {
     "duration": 1.285432,
     "end_time": "2023-05-03T17:35:48.867371",
     "exception": false,
     "start_time": "2023-05-03T17:35:47.581939",
     "status": "completed"
    },
    "tags": []
   },
   "outputs": [
    {
     "name": "stderr",
     "output_type": "stream",
     "text": [
      "/opt/conda/lib/python3.10/site-packages/scipy/__init__.py:146: UserWarning: A NumPy version >=1.16.5 and <1.23.0 is required for this version of SciPy (detected version 1.23.5\n",
      "  warnings.warn(f\"A NumPy version >={np_minversion} and <{np_maxversion}\"\n"
     ]
    }
   ],
   "source": [
    "import numpy as np\n",
    "import pandas as pd\n",
    "import matplotlib.pyplot as plt\n",
    "import seaborn as sns"
   ]
  },
  {
   "cell_type": "markdown",
   "id": "f3ae52a2",
   "metadata": {
    "papermill": {
     "duration": 0.007131,
     "end_time": "2023-05-03T17:35:48.882200",
     "exception": false,
     "start_time": "2023-05-03T17:35:48.875069",
     "status": "completed"
    },
    "tags": []
   },
   "source": [
    "**Importing Functions**"
   ]
  },
  {
   "cell_type": "markdown",
   "id": "1b9ad259",
   "metadata": {
    "papermill": {
     "duration": 0.007044,
     "end_time": "2023-05-03T17:35:48.896802",
     "exception": false,
     "start_time": "2023-05-03T17:35:48.889758",
     "status": "completed"
    },
    "tags": []
   },
   "source": [
    "1. LinearRegression is a class for fitting a linear regression model to a dataset.\n",
    "\n",
    "2. mean_absolute_error is a function from scikit-learn's metrics module that computes the mean absolute error between predicted and true target values for a regression problem.\n",
    "\n",
    "3. mean_squared_error is a function from scikit-learn's metrics module that computes the mean squared error between predicted and true target values for a regression problem.\n",
    "\n",
    "4. r2_score is a function from scikit-learn's metrics module that compute the R^2 (coefficient of determination) regression score function for evaluating the performance of a regression model.\n",
    "\n",
    "These functions are commonly used when evaluating the performance of a Linear Regression model, by computing error and accuracy metrics on a test set or a held-out portion of the data."
   ]
  },
  {
   "cell_type": "code",
   "execution_count": 3,
   "id": "68656be9",
   "metadata": {
    "execution": {
     "iopub.execute_input": "2023-05-03T17:35:48.913847Z",
     "iopub.status.busy": "2023-05-03T17:35:48.913357Z",
     "iopub.status.idle": "2023-05-03T17:35:49.282411Z",
     "shell.execute_reply": "2023-05-03T17:35:49.281207Z"
    },
    "papermill": {
     "duration": 0.380931,
     "end_time": "2023-05-03T17:35:49.285175",
     "exception": false,
     "start_time": "2023-05-03T17:35:48.904244",
     "status": "completed"
    },
    "tags": []
   },
   "outputs": [],
   "source": [
    "from sklearn.linear_model import LinearRegression #Linear Regression Model\n",
    "\n",
    "from sklearn.metrics import mean_absolute_error, mean_squared_error, r2_score \n"
   ]
  },
  {
   "cell_type": "markdown",
   "id": "8dbc4ed9",
   "metadata": {
    "papermill": {
     "duration": 0.007265,
     "end_time": "2023-05-03T17:35:49.299827",
     "exception": false,
     "start_time": "2023-05-03T17:35:49.292562",
     "status": "completed"
    },
    "tags": []
   },
   "source": [
    "# Load the data into a pandas DataFrame:"
   ]
  },
  {
   "cell_type": "code",
   "execution_count": 4,
   "id": "e0efadfc",
   "metadata": {
    "execution": {
     "iopub.execute_input": "2023-05-03T17:35:49.316102Z",
     "iopub.status.busy": "2023-05-03T17:35:49.315662Z",
     "iopub.status.idle": "2023-05-03T17:35:49.465754Z",
     "shell.execute_reply": "2023-05-03T17:35:49.464715Z"
    },
    "papermill": {
     "duration": 0.160773,
     "end_time": "2023-05-03T17:35:49.468066",
     "exception": false,
     "start_time": "2023-05-03T17:35:49.307293",
     "status": "completed"
    },
    "tags": []
   },
   "outputs": [
    {
     "data": {
      "text/html": [
       "<div>\n",
       "<style scoped>\n",
       "    .dataframe tbody tr th:only-of-type {\n",
       "        vertical-align: middle;\n",
       "    }\n",
       "\n",
       "    .dataframe tbody tr th {\n",
       "        vertical-align: top;\n",
       "    }\n",
       "\n",
       "    .dataframe thead th {\n",
       "        text-align: right;\n",
       "    }\n",
       "</style>\n",
       "<table border=\"1\" class=\"dataframe\">\n",
       "  <thead>\n",
       "    <tr style=\"text-align: right;\">\n",
       "      <th></th>\n",
       "      <th>x</th>\n",
       "      <th>y</th>\n",
       "    </tr>\n",
       "  </thead>\n",
       "  <tbody>\n",
       "    <tr>\n",
       "      <th>0</th>\n",
       "      <td>24.0</td>\n",
       "      <td>21.549452</td>\n",
       "    </tr>\n",
       "    <tr>\n",
       "      <th>1</th>\n",
       "      <td>50.0</td>\n",
       "      <td>47.464463</td>\n",
       "    </tr>\n",
       "    <tr>\n",
       "      <th>2</th>\n",
       "      <td>15.0</td>\n",
       "      <td>17.218656</td>\n",
       "    </tr>\n",
       "    <tr>\n",
       "      <th>3</th>\n",
       "      <td>38.0</td>\n",
       "      <td>36.586398</td>\n",
       "    </tr>\n",
       "    <tr>\n",
       "      <th>4</th>\n",
       "      <td>87.0</td>\n",
       "      <td>87.288984</td>\n",
       "    </tr>\n",
       "  </tbody>\n",
       "</table>\n",
       "</div>"
      ],
      "text/plain": [
       "      x          y\n",
       "0  24.0  21.549452\n",
       "1  50.0  47.464463\n",
       "2  15.0  17.218656\n",
       "3  38.0  36.586398\n",
       "4  87.0  87.288984"
      ]
     },
     "execution_count": 4,
     "metadata": {},
     "output_type": "execute_result"
    }
   ],
   "source": [
    "train_data = pd.read_csv(\"/kaggle/input/random-linear-regression/train.csv\")\n",
    "train_data.head()"
   ]
  },
  {
   "cell_type": "markdown",
   "id": "f507aa17",
   "metadata": {
    "papermill": {
     "duration": 0.007142,
     "end_time": "2023-05-03T17:35:49.482759",
     "exception": false,
     "start_time": "2023-05-03T17:35:49.475617",
     "status": "completed"
    },
    "tags": []
   },
   "source": [
    " You can displays the first few rows of the DataFrame using the head() method."
   ]
  },
  {
   "cell_type": "code",
   "execution_count": 5,
   "id": "4592d70e",
   "metadata": {
    "execution": {
     "iopub.execute_input": "2023-05-03T17:35:49.500896Z",
     "iopub.status.busy": "2023-05-03T17:35:49.500118Z",
     "iopub.status.idle": "2023-05-03T17:35:49.517535Z",
     "shell.execute_reply": "2023-05-03T17:35:49.516492Z"
    },
    "papermill": {
     "duration": 0.02885,
     "end_time": "2023-05-03T17:35:49.519654",
     "exception": false,
     "start_time": "2023-05-03T17:35:49.490804",
     "status": "completed"
    },
    "tags": []
   },
   "outputs": [
    {
     "data": {
      "text/html": [
       "<div>\n",
       "<style scoped>\n",
       "    .dataframe tbody tr th:only-of-type {\n",
       "        vertical-align: middle;\n",
       "    }\n",
       "\n",
       "    .dataframe tbody tr th {\n",
       "        vertical-align: top;\n",
       "    }\n",
       "\n",
       "    .dataframe thead th {\n",
       "        text-align: right;\n",
       "    }\n",
       "</style>\n",
       "<table border=\"1\" class=\"dataframe\">\n",
       "  <thead>\n",
       "    <tr style=\"text-align: right;\">\n",
       "      <th></th>\n",
       "      <th>x</th>\n",
       "      <th>y</th>\n",
       "    </tr>\n",
       "  </thead>\n",
       "  <tbody>\n",
       "    <tr>\n",
       "      <th>0</th>\n",
       "      <td>77</td>\n",
       "      <td>79.775152</td>\n",
       "    </tr>\n",
       "    <tr>\n",
       "      <th>1</th>\n",
       "      <td>21</td>\n",
       "      <td>23.177279</td>\n",
       "    </tr>\n",
       "    <tr>\n",
       "      <th>2</th>\n",
       "      <td>22</td>\n",
       "      <td>25.609262</td>\n",
       "    </tr>\n",
       "    <tr>\n",
       "      <th>3</th>\n",
       "      <td>20</td>\n",
       "      <td>17.857388</td>\n",
       "    </tr>\n",
       "    <tr>\n",
       "      <th>4</th>\n",
       "      <td>36</td>\n",
       "      <td>41.849864</td>\n",
       "    </tr>\n",
       "  </tbody>\n",
       "</table>\n",
       "</div>"
      ],
      "text/plain": [
       "    x          y\n",
       "0  77  79.775152\n",
       "1  21  23.177279\n",
       "2  22  25.609262\n",
       "3  20  17.857388\n",
       "4  36  41.849864"
      ]
     },
     "execution_count": 5,
     "metadata": {},
     "output_type": "execute_result"
    }
   ],
   "source": [
    "test_data = pd.read_csv(\"/kaggle/input/random-linear-regression/test.csv\")\n",
    "test_data.head()"
   ]
  },
  {
   "cell_type": "markdown",
   "id": "a753be09",
   "metadata": {
    "papermill": {
     "duration": 0.007592,
     "end_time": "2023-05-03T17:35:49.535379",
     "exception": false,
     "start_time": "2023-05-03T17:35:49.527787",
     "status": "completed"
    },
    "tags": []
   },
   "source": [
    "# Explore & Clean the data"
   ]
  },
  {
   "cell_type": "code",
   "execution_count": 6,
   "id": "ed9b8b20",
   "metadata": {
    "execution": {
     "iopub.execute_input": "2023-05-03T17:35:49.552685Z",
     "iopub.status.busy": "2023-05-03T17:35:49.552275Z",
     "iopub.status.idle": "2023-05-03T17:35:49.563347Z",
     "shell.execute_reply": "2023-05-03T17:35:49.562267Z"
    },
    "papermill": {
     "duration": 0.022023,
     "end_time": "2023-05-03T17:35:49.565336",
     "exception": false,
     "start_time": "2023-05-03T17:35:49.543313",
     "status": "completed"
    },
    "tags": []
   },
   "outputs": [
    {
     "data": {
      "text/plain": [
       "<bound method DataFrame.info of         x          y\n",
       "0    24.0  21.549452\n",
       "1    50.0  47.464463\n",
       "2    15.0  17.218656\n",
       "3    38.0  36.586398\n",
       "4    87.0  87.288984\n",
       "..    ...        ...\n",
       "695  58.0  58.595006\n",
       "696  93.0  94.625094\n",
       "697  82.0  88.603770\n",
       "698  66.0  63.648685\n",
       "699  97.0  94.975266\n",
       "\n",
       "[700 rows x 2 columns]>"
      ]
     },
     "execution_count": 6,
     "metadata": {},
     "output_type": "execute_result"
    }
   ],
   "source": [
    "train_data.info"
   ]
  },
  {
   "cell_type": "code",
   "execution_count": 7,
   "id": "dd57e7a2",
   "metadata": {
    "execution": {
     "iopub.execute_input": "2023-05-03T17:35:49.583204Z",
     "iopub.status.busy": "2023-05-03T17:35:49.582560Z",
     "iopub.status.idle": "2023-05-03T17:35:49.593834Z",
     "shell.execute_reply": "2023-05-03T17:35:49.592920Z"
    },
    "papermill": {
     "duration": 0.023226,
     "end_time": "2023-05-03T17:35:49.596264",
     "exception": false,
     "start_time": "2023-05-03T17:35:49.573038",
     "status": "completed"
    },
    "tags": []
   },
   "outputs": [],
   "source": [
    "# Remove any missing value or lacked data.\n",
    "\n",
    "train_data.dropna(inplace = True )"
   ]
  },
  {
   "cell_type": "markdown",
   "id": "47e517f9",
   "metadata": {
    "papermill": {
     "duration": 0.007799,
     "end_time": "2023-05-03T17:35:49.612155",
     "exception": false,
     "start_time": "2023-05-03T17:35:49.604356",
     "status": "completed"
    },
    "tags": []
   },
   "source": [
    "# Data visualization"
   ]
  },
  {
   "cell_type": "markdown",
   "id": "bb51980a",
   "metadata": {
    "papermill": {
     "duration": 0.007428,
     "end_time": "2023-05-03T17:35:49.627478",
     "exception": false,
     "start_time": "2023-05-03T17:35:49.620050",
     "status": "completed"
    },
    "tags": []
   },
   "source": [
    "**The code snippet written below uses matplotlib and pandas libraries to create a scatterplot for train_data DataFrame. It first uses the scatter() method from pyplot module of matplotlib to create a scatter plot of x-values train_data.x against y-values train_data.y. Then it names the X-axis using xlabel() method and Y-axis using the ylabel() method. The title() method is used to specify the title of the plot. Finally, the show() method is used to display the plot.**\n",
    "\n",
    "**In summary, this code creates a scatter plot to visualize the relationship between two variables (x and y) in train_data DataFrame using matplotlib and pandas**."
   ]
  },
  {
   "cell_type": "code",
   "execution_count": 8,
   "id": "98690366",
   "metadata": {
    "execution": {
     "iopub.execute_input": "2023-05-03T17:35:49.645271Z",
     "iopub.status.busy": "2023-05-03T17:35:49.644608Z",
     "iopub.status.idle": "2023-05-03T17:35:49.908947Z",
     "shell.execute_reply": "2023-05-03T17:35:49.907899Z"
    },
    "papermill": {
     "duration": 0.276026,
     "end_time": "2023-05-03T17:35:49.911135",
     "exception": false,
     "start_time": "2023-05-03T17:35:49.635109",
     "status": "completed"
    },
    "tags": []
   },
   "outputs": [
    {
     "data": {
      "image/png": "[encoded data removed]",
      "text/plain": [
       "<Figure size 640x480 with 1 Axes>"
      ]
     },
     "metadata": {},
     "output_type": "display_data"
    }
   ],
   "source": [
    "plt.scatter(train_data.x, train_data.y)\n",
    "plt.xlabel(\"x\")\n",
    "plt.ylabel(\"y\")\n",
    "plt.title(\"Plot betwwen values of X and Y\")\n",
    "plt.show()"
   ]
  },
  {
   "cell_type": "markdown",
   "id": "95ae588d",
   "metadata": {
    "papermill": {
     "duration": 0.007887,
     "end_time": "2023-05-03T17:35:49.927137",
     "exception": false,
     "start_time": "2023-05-03T17:35:49.919250",
     "status": "completed"
    },
    "tags": []
   },
   "source": [
    "# ML MODEL"
   ]
  },
  {
   "cell_type": "markdown",
   "id": "89168e7a",
   "metadata": {
    "papermill": {
     "duration": 0.008042,
     "end_time": "2023-05-03T17:35:49.943489",
     "exception": false,
     "start_time": "2023-05-03T17:35:49.935447",
     "status": "completed"
    },
    "tags": []
   },
   "source": [
    "The code snippet written below is preparing the data for a linear regression model using the Scikit-Learn library. Specifically, it is using the LinearRegression class to create a model and then preparing the data needed for training the model.\n",
    "\n",
    "First, train_data.x.values is used to extract the x-values from the train_data DataFrame, and .reshape(-1,1) is used to reshape the resulting 1D-array into a 2D array of size (n,1), where n is the number of data points. This is necessary because Scikit-Learn requires the input feature data to be in a 2D array.\n",
    "\n",
    "Next, train_data.y.values is used to extract the y-values from the train_data DataFrame, and again .reshape(-1,1) is used to reshape the resulting 1D-array into a 2D array of size (n,1).\n",
    "\n",
    "Finally, x_train and y_train are the resulting input features and target variables, respectively, that can be used to train the linear regression model."
   ]
  },
  {
   "cell_type": "code",
   "execution_count": 9,
   "id": "020eee6e",
   "metadata": {
    "execution": {
     "iopub.execute_input": "2023-05-03T17:35:49.962801Z",
     "iopub.status.busy": "2023-05-03T17:35:49.962150Z",
     "iopub.status.idle": "2023-05-03T17:35:49.967407Z",
     "shell.execute_reply": "2023-05-03T17:35:49.966714Z"
    },
    "papermill": {
     "duration": 0.017199,
     "end_time": "2023-05-03T17:35:49.969359",
     "exception": false,
     "start_time": "2023-05-03T17:35:49.952160",
     "status": "completed"
    },
    "tags": []
   },
   "outputs": [],
   "source": [
    "model = LinearRegression()\n",
    "x_train = train_data.x.values.reshape(-1,1) \n",
    "# Extract the x values from the train_data  and reshape them into a 2D array\n",
    "\n",
    "y_train = train_data.x.values.reshape(-1,1)\n",
    "# Extract the y values from train_data and reshape them into 2D array"
   ]
  },
  {
   "cell_type": "code",
   "execution_count": 10,
   "id": "83688d5c",
   "metadata": {
    "execution": {
     "iopub.execute_input": "2023-05-03T17:35:49.987786Z",
     "iopub.status.busy": "2023-05-03T17:35:49.987179Z",
     "iopub.status.idle": "2023-05-03T17:35:49.993219Z",
     "shell.execute_reply": "2023-05-03T17:35:49.991987Z"
    },
    "papermill": {
     "duration": 0.017625,
     "end_time": "2023-05-03T17:35:49.995187",
     "exception": false,
     "start_time": "2023-05-03T17:35:49.977562",
     "status": "completed"
    },
    "tags": []
   },
   "outputs": [
    {
     "name": "stdout",
     "output_type": "stream",
     "text": [
      "[[24.]\n",
      " [50.]\n",
      " [15.]\n",
      " [38.]\n",
      " [87.]\n",
      " [36.]\n",
      " [12.]\n",
      " [81.]\n",
      " [25.]\n",
      " [ 5.]]\n"
     ]
    }
   ],
   "source": [
    "print(x_train [:10])"
   ]
  },
  {
   "cell_type": "code",
   "execution_count": 11,
   "id": "f56c8783",
   "metadata": {
    "execution": {
     "iopub.execute_input": "2023-05-03T17:35:50.014379Z",
     "iopub.status.busy": "2023-05-03T17:35:50.013087Z",
     "iopub.status.idle": "2023-05-03T17:35:50.040110Z",
     "shell.execute_reply": "2023-05-03T17:35:50.039008Z"
    },
    "papermill": {
     "duration": 0.038741,
     "end_time": "2023-05-03T17:35:50.042380",
     "exception": false,
     "start_time": "2023-05-03T17:35:50.003639",
     "status": "completed"
    },
    "scrolled": true,
    "tags": []
   },
   "outputs": [
    {
     "data": {
      "text/html": [
       "<style>#sk-container-id-1 {color: black;background-color: white;}#sk-container-id-1 pre{padding: 0;}#sk-container-id-1 div.sk-toggleable {background-color: white;}#sk-container-id-1 label.sk-toggleable__label {cursor: pointer;display: block;width: 100%;margin-bottom: 0;padding: 0.3em;box-sizing: border-box;text-align: center;}#sk-container-id-1 label.sk-toggleable__label-arrow:before {content: \"▸\";float: left;margin-right: 0.25em;color: #696969;}#sk-container-id-1 label.sk-toggleable__label-arrow:hover:before {color: black;}#sk-container-id-1 div.sk-estimator:hover label.sk-toggleable__label-arrow:before {color: black;}#sk-container-id-1 div.sk-toggleable__content {max-height: 0;max-width: 0;overflow: hidden;text-align: left;background-color: #f0f8ff;}#sk-container-id-1 div.sk-toggleable__content pre {margin: 0.2em;color: black;border-radius: 0.25em;background-color: #f0f8ff;}#sk-container-id-1 input.sk-toggleable__control:checked~div.sk-toggleable__content {max-height: 200px;max-width: 100%;overflow: auto;}#sk-container-id-1 input.sk-toggleable__control:checked~label.sk-toggleable__label-arrow:before {content: \"▾\";}#sk-container-id-1 div.sk-estimator input.sk-toggleable__control:checked~label.sk-toggleable__label {background-color: #d4ebff;}#sk-container-id-1 div.sk-label input.sk-toggleable__control:checked~label.sk-toggleable__label {background-color: #d4ebff;}#sk-container-id-1 input.sk-hidden--visually {border: 0;clip: rect(1px 1px 1px 1px);clip: rect(1px, 1px, 1px, 1px);height: 1px;margin: -1px;overflow: hidden;padding: 0;position: absolute;width: 1px;}#sk-container-id-1 div.sk-estimator {font-family: monospace;background-color: #f0f8ff;border: 1px dotted black;border-radius: 0.25em;box-sizing: border-box;margin-bottom: 0.5em;}#sk-container-id-1 div.sk-estimator:hover {background-color: #d4ebff;}#sk-container-id-1 div.sk-parallel-item::after {content: \"\";width: 100%;border-bottom: 1px solid gray;flex-grow: 1;}#sk-container-id-1 div.sk-label:hover label.sk-toggleable__label {background-color: #d4ebff;}#sk-container-id-1 div.sk-serial::before {content: \"\";position: absolute;border-left: 1px solid gray;box-sizing: border-box;top: 0;bottom: 0;left: 50%;z-index: 0;}#sk-container-id-1 div.sk-serial {display: flex;flex-direction: column;align-items: center;background-color: white;padding-right: 0.2em;padding-left: 0.2em;position: relative;}#sk-container-id-1 div.sk-item {position: relative;z-index: 1;}#sk-container-id-1 div.sk-parallel {display: flex;align-items: stretch;justify-content: center;background-color: white;position: relative;}#sk-container-id-1 div.sk-item::before, #sk-container-id-1 div.sk-parallel-item::before {content: \"\";position: absolute;border-left: 1px solid gray;box-sizing: border-box;top: 0;bottom: 0;left: 50%;z-index: -1;}#sk-container-id-1 div.sk-parallel-item {display: flex;flex-direction: column;z-index: 1;position: relative;background-color: white;}#sk-container-id-1 div.sk-parallel-item:first-child::after {align-self: flex-end;width: 50%;}#sk-container-id-1 div.sk-parallel-item:last-child::after {align-self: flex-start;width: 50%;}#sk-container-id-1 div.sk-parallel-item:only-child::after {width: 0;}#sk-container-id-1 div.sk-dashed-wrapped {border: 1px dashed gray;margin: 0 0.4em 0.5em 0.4em;box-sizing: border-box;padding-bottom: 0.4em;background-color: white;}#sk-container-id-1 div.sk-label label {font-family: monospace;font-weight: bold;display: inline-block;line-height: 1.2em;}#sk-container-id-1 div.sk-label-container {text-align: center;}#sk-container-id-1 div.sk-container {/* jupyter's `normalize.less` sets `[hidden] { display: none; }` but bootstrap.min.css set `[hidden] { display: none !important; }` so we also need the `!important` here to be able to override the default hidden behavior on the sphinx rendered scikit-learn.org. See: https://github.com/scikit-learn/scikit-learn/issues/21755 */display: inline-block !important;position: relative;}#sk-container-id-1 div.sk-text-repr-fallback {display: none;}</style><div id=\"sk-container-id-1\" class=\"sk-top-container\"><div class=\"sk-text-repr-fallback\"><pre>LinearRegression()</pre><b>In a Jupyter environment, please rerun this cell to show the HTML representation or trust the notebook. <br />On GitHub, the HTML representation is unable to render, please try loading this page with nbviewer.org.</b></div><div class=\"sk-container\" hidden><div class=\"sk-item\"><div class=\"sk-estimator sk-toggleable\"><input class=\"sk-toggleable__control sk-hidden--visually\" id=\"sk-estimator-id-1\" type=\"checkbox\" checked><label for=\"sk-estimator-id-1\" class=\"sk-toggleable__label sk-toggleable__label-arrow\">LinearRegression</label><div class=\"sk-toggleable__content\"><pre>LinearRegression()</pre></div></div></div></div></div>"
      ],
      "text/plain": [
       "LinearRegression()"
      ]
     },
     "execution_count": 11,
     "metadata": {},
     "output_type": "execute_result"
    }
   ],
   "source": [
    "model.fit(x_train, y_train)\n",
    "\n",
    "# Training the data, running the model: for the values of x and y, out of train data."
   ]
  },
  {
   "cell_type": "markdown",
   "id": "9ad8ff0f",
   "metadata": {
    "papermill": {
     "duration": 0.00853,
     "end_time": "2023-05-03T17:35:50.059702",
     "exception": false,
     "start_time": "2023-05-03T17:35:50.051172",
     "status": "completed"
    },
    "tags": []
   },
   "source": [
    "Finding the value of Cofficient and intercept from the straight line equation: ax + c\n",
    "a = cofficient\n",
    "c = intercept"
   ]
  },
  {
   "cell_type": "code",
   "execution_count": 12,
   "id": "30d33241",
   "metadata": {
    "execution": {
     "iopub.execute_input": "2023-05-03T17:35:50.078630Z",
     "iopub.status.busy": "2023-05-03T17:35:50.078240Z",
     "iopub.status.idle": "2023-05-03T17:35:50.084141Z",
     "shell.execute_reply": "2023-05-03T17:35:50.083108Z"
    },
    "papermill": {
     "duration": 0.017871,
     "end_time": "2023-05-03T17:35:50.086270",
     "exception": false,
     "start_time": "2023-05-03T17:35:50.068399",
     "status": "completed"
    },
    "tags": []
   },
   "outputs": [
    {
     "name": "stdout",
     "output_type": "stream",
     "text": [
      "[[1.]]\n",
      "[-1.42108547e-14]\n"
     ]
    }
   ],
   "source": [
    "print(model.coef_)\n",
    "print(model.intercept_)"
   ]
  },
  {
   "cell_type": "markdown",
   "id": "8b34d5c9",
   "metadata": {
    "papermill": {
     "duration": 0.008406,
     "end_time": "2023-05-03T17:35:50.103413",
     "exception": false,
     "start_time": "2023-05-03T17:35:50.095007",
     "status": "completed"
    },
    "tags": []
   },
   "source": [
    "You can interpret the **coefficients** as the amount by which the target variable changes when the corresponding input feature is increased by one unit (holding all other inputs constant).\n",
    "\n",
    "**Intercept** means where the line cuts the y- axis."
   ]
  },
  {
   "cell_type": "markdown",
   "id": "39343076",
   "metadata": {
    "papermill": {
     "duration": 0.008219,
     "end_time": "2023-05-03T17:35:50.120329",
     "exception": false,
     "start_time": "2023-05-03T17:35:50.112110",
     "status": "completed"
    },
    "tags": []
   },
   "source": [
    "# Testing: Accuracy and Precision"
   ]
  },
  {
   "cell_type": "markdown",
   "id": "48fc41fc",
   "metadata": {
    "papermill": {
     "duration": 0.008246,
     "end_time": "2023-05-03T17:35:50.137268",
     "exception": false,
     "start_time": "2023-05-03T17:35:50.129022",
     "status": "completed"
    },
    "tags": []
   },
   "source": [
    "In the code written below:\n",
    "\n",
    "First, we have two variables x_test and y_test, which are the input data and corresponding target data, respectively, for the test dataset. These variables are created by reshaping the x and y values from the test data.\n",
    "\n",
    "Next, we use the trained model to make predictions on the x_test data using the predict method. The predicted values are stored in the y_pred variable.\n",
    "\n",
    "Finally, we can use the predicted values y_pred and the true target values y_test to evaluate the performance of the model on the test dataset, typically by computing some metric such as accuracy, precision, recall, or F1 score."
   ]
  },
  {
   "cell_type": "code",
   "execution_count": 13,
   "id": "ddcae30f",
   "metadata": {
    "execution": {
     "iopub.execute_input": "2023-05-03T17:35:50.157064Z",
     "iopub.status.busy": "2023-05-03T17:35:50.156055Z",
     "iopub.status.idle": "2023-05-03T17:35:50.161309Z",
     "shell.execute_reply": "2023-05-03T17:35:50.160587Z"
    },
    "papermill": {
     "duration": 0.017275,
     "end_time": "2023-05-03T17:35:50.163304",
     "exception": false,
     "start_time": "2023-05-03T17:35:50.146029",
     "status": "completed"
    },
    "tags": []
   },
   "outputs": [],
   "source": [
    "x_test = test_data.x.values.reshape(-1, 1)\n",
    "y_test = test_data.y.values.reshape(-1, 1)\n",
    "\n",
    "y_pred = model.predict(x_test)"
   ]
  },
  {
   "cell_type": "code",
   "execution_count": 14,
   "id": "d30b2619",
   "metadata": {
    "execution": {
     "iopub.execute_input": "2023-05-03T17:35:50.182730Z",
     "iopub.status.busy": "2023-05-03T17:35:50.182052Z",
     "iopub.status.idle": "2023-05-03T17:35:50.187500Z",
     "shell.execute_reply": "2023-05-03T17:35:50.186733Z"
    },
    "papermill": {
     "duration": 0.017492,
     "end_time": "2023-05-03T17:35:50.189610",
     "exception": false,
     "start_time": "2023-05-03T17:35:50.172118",
     "status": "completed"
    },
    "tags": []
   },
   "outputs": [
    {
     "name": "stdout",
     "output_type": "stream",
     "text": [
      "[[77.]\n",
      " [21.]\n",
      " [22.]\n",
      " [20.]\n",
      " [36.]\n",
      " [15.]\n",
      " [62.]\n",
      " [95.]\n",
      " [20.]\n",
      " [ 5.]]\n"
     ]
    }
   ],
   "source": [
    "print(y_pred[:10])\n",
    "\n",
    "# Printing the 10 predicted values."
   ]
  },
  {
   "cell_type": "code",
   "execution_count": 15,
   "id": "e1188027",
   "metadata": {
    "execution": {
     "iopub.execute_input": "2023-05-03T17:35:50.209516Z",
     "iopub.status.busy": "2023-05-03T17:35:50.208841Z",
     "iopub.status.idle": "2023-05-03T17:35:50.214310Z",
     "shell.execute_reply": "2023-05-03T17:35:50.213170Z"
    },
    "papermill": {
     "duration": 0.017734,
     "end_time": "2023-05-03T17:35:50.216377",
     "exception": false,
     "start_time": "2023-05-03T17:35:50.198643",
     "status": "completed"
    },
    "tags": []
   },
   "outputs": [
    {
     "name": "stdout",
     "output_type": "stream",
     "text": [
      "[[79.77515201]\n",
      " [23.17727887]\n",
      " [25.60926156]\n",
      " [17.85738813]\n",
      " [41.84986439]\n",
      " [ 9.80523488]\n",
      " [58.87465933]\n",
      " [97.61793701]\n",
      " [18.39512747]\n",
      " [ 8.74674765]]\n"
     ]
    }
   ],
   "source": [
    "print(y_test[:10])\n",
    "\n",
    "# printing 10 test values to compare."
   ]
  },
  {
   "cell_type": "markdown",
   "id": "8422a828",
   "metadata": {
    "papermill": {
     "duration": 0.008583,
     "end_time": "2023-05-03T17:35:50.234042",
     "exception": false,
     "start_time": "2023-05-03T17:35:50.225459",
     "status": "completed"
    },
    "tags": []
   },
   "source": [
    "# Different methods for checking how good our model performs"
   ]
  },
  {
   "cell_type": "code",
   "execution_count": 16,
   "id": "43b3118a",
   "metadata": {
    "execution": {
     "iopub.execute_input": "2023-05-03T17:35:50.254200Z",
     "iopub.status.busy": "2023-05-03T17:35:50.253484Z",
     "iopub.status.idle": "2023-05-03T17:35:50.259593Z",
     "shell.execute_reply": "2023-05-03T17:35:50.258876Z"
    },
    "papermill": {
     "duration": 0.018498,
     "end_time": "2023-05-03T17:35:50.261520",
     "exception": false,
     "start_time": "2023-05-03T17:35:50.243022",
     "status": "completed"
    },
    "tags": []
   },
   "outputs": [
    {
     "data": {
      "text/plain": [
       "0.9888372867055718"
      ]
     },
     "execution_count": 16,
     "metadata": {},
     "output_type": "execute_result"
    }
   ],
   "source": [
    "r2_score(y_test, y_pred)"
   ]
  },
  {
   "cell_type": "code",
   "execution_count": 17,
   "id": "e51021d3",
   "metadata": {
    "execution": {
     "iopub.execute_input": "2023-05-03T17:35:50.281926Z",
     "iopub.status.busy": "2023-05-03T17:35:50.281167Z",
     "iopub.status.idle": "2023-05-03T17:35:50.287465Z",
     "shell.execute_reply": "2023-05-03T17:35:50.286738Z"
    },
    "papermill": {
     "duration": 0.018559,
     "end_time": "2023-05-03T17:35:50.289385",
     "exception": false,
     "start_time": "2023-05-03T17:35:50.270826",
     "status": "completed"
    },
    "tags": []
   },
   "outputs": [
    {
     "data": {
      "text/plain": [
       "2.41353840749"
      ]
     },
     "execution_count": 17,
     "metadata": {},
     "output_type": "execute_result"
    }
   ],
   "source": [
    "mean_absolute_error(y_test , y_pred)"
   ]
  },
  {
   "cell_type": "code",
   "execution_count": 18,
   "id": "294856e5",
   "metadata": {
    "execution": {
     "iopub.execute_input": "2023-05-03T17:35:50.309937Z",
     "iopub.status.busy": "2023-05-03T17:35:50.309520Z",
     "iopub.status.idle": "2023-05-03T17:35:50.316004Z",
     "shell.execute_reply": "2023-05-03T17:35:50.315198Z"
    },
    "papermill": {
     "duration": 0.019006,
     "end_time": "2023-05-03T17:35:50.318007",
     "exception": false,
     "start_time": "2023-05-03T17:35:50.299001",
     "status": "completed"
    },
    "tags": []
   },
   "outputs": [
    {
     "data": {
      "text/plain": [
       "9.402731033132728"
      ]
     },
     "execution_count": 18,
     "metadata": {},
     "output_type": "execute_result"
    }
   ],
   "source": [
    "mean_squared_error(y_test , y_pred)"
   ]
  },
  {
   "cell_type": "markdown",
   "id": "ee191d7c",
   "metadata": {
    "papermill": {
     "duration": 0.008924,
     "end_time": "2023-05-03T17:35:50.336357",
     "exception": false,
     "start_time": "2023-05-03T17:35:50.327433",
     "status": "completed"
    },
    "tags": []
   },
   "source": [
    "# Final Linear Regression Visualization"
   ]
  },
  {
   "cell_type": "code",
   "execution_count": 19,
   "id": "22e5921d",
   "metadata": {
    "execution": {
     "iopub.execute_input": "2023-05-03T17:35:50.357566Z",
     "iopub.status.busy": "2023-05-03T17:35:50.356579Z",
     "iopub.status.idle": "2023-05-03T17:35:50.561579Z",
     "shell.execute_reply": "2023-05-03T17:35:50.560741Z"
    },
    "papermill": {
     "duration": 0.217814,
     "end_time": "2023-05-03T17:35:50.563555",
     "exception": false,
     "start_time": "2023-05-03T17:35:50.345741",
     "status": "completed"
    },
    "tags": []
   },
   "outputs": [
    {
     "data": {
      "image/png": "[encoded data removed]",
      "text/plain": [
       "<Figure size 640x480 with 1 Axes>"
      ]
     },
     "metadata": {},
     "output_type": "display_data"
    }
   ],
   "source": [
    "y_test = test_data.y.values.reshape(-1,1)\n",
    "\n",
    "plt.scatter(x_train,y_train)\n",
    "\n",
    "y_head = model.predict(y_test)\n",
    "\n",
    "plt.plot(y_test, y_head, color=\"red\")\n",
    "plt.show()"
   ]
  },
  {
   "cell_type": "markdown",
   "id": "c425a388",
   "metadata": {
    "papermill": {
     "duration": 0.009474,
     "end_time": "2023-05-03T17:35:50.582712",
     "exception": false,
     "start_time": "2023-05-03T17:35:50.573238",
     "status": "completed"
    },
    "tags": []
   },
   "source": [
    "# PLEASEEEEE UPPPP VOTTTTTEE!!!"
   ]
  }
 ],
 "metadata": {
  "kernelspec": {
   "display_name": "Python 3",
   "language": "python",
   "name": "python3"
  },
  "language_info": {
   "codemirror_mode": {
    "name": "ipython",
    "version": 3
   },
   "file_extension": ".py",
   "mimetype": "text/x-python",
   "name": "python",
   "nbconvert_exporter": "python",
   "pygments_lexer": "ipython3",
   "version": "3.10.10"
  },
  "papermill": {
   "default_parameters": {},
   "duration": 14.692752,
   "end_time": "2023-05-03T17:35:51.614516",
   "environment_variables": {},
   "exception": null,
   "input_path": "__notebook__.ipynb",
   "output_path": "__notebook__.ipynb",
   "parameters": {},
   "start_time": "2023-05-03T17:35:36.921764",
   "version": "2.4.0"
  }
 },
 "nbformat": 4,
 "nbformat_minor": 5
}
