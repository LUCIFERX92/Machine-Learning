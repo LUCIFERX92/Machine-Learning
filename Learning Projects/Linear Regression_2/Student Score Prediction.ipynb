{
 "cells": [
  {
   "cell_type": "code",
   "execution_count": 1,
   "id": "9b5c5f24",
   "metadata": {
    "_cell_guid": "b1076dfc-b9ad-4769-8c92-a6c4dae69d19",
    "_uuid": "8f2839f25d086af736a60e9eeb907d3b93b6e0e5",
    "execution": {
     "iopub.execute_input": "2023-05-14T11:04:41.017230Z",
     "iopub.status.busy": "2023-05-14T11:04:41.016707Z",
     "iopub.status.idle": "2023-05-14T11:04:41.035675Z",
     "shell.execute_reply": "2023-05-14T11:04:41.034368Z"
    },
    "papermill": {
     "duration": 0.032441,
     "end_time": "2023-05-14T11:04:41.038575",
     "exception": false,
     "start_time": "2023-05-14T11:04:41.006134",
     "status": "completed"
    },
    "tags": []
   },
   "outputs": [
    {
     "name": "stdout",
     "output_type": "stream",
     "text": [
      "/kaggle/input/students-score-dataset-linear-regression/student_scores.csv\n"
     ]
    }
   ],
   "source": [
    "# This Python 3 environment comes with many helpful analytics libraries installed\n",
    "# It is defined by the kaggle/python Docker image: https://github.com/kaggle/docker-python\n",
    "# For example, here's several helpful packages to load\n",
    "\n",
    "import numpy as np # linear algebra\n",
    "import pandas as pd # data processing, CSV file I/O (e.g. pd.read_csv)\n",
    "\n",
    "# Input data files are available in the read-only \"../input/\" directory\n",
    "# For example, running this (by clicking run or pressing Shift+Enter) will list all files under the input directory\n",
    "\n",
    "import os\n",
    "for dirname, _, filenames in os.walk('/kaggle/input'):\n",
    "    for filename in filenames:\n",
    "        print(os.path.join(dirname, filename))\n",
    "\n",
    "# You can write up to 20GB to the current directory (/kaggle/working/) that gets preserved as output when you create a version using \"Save & Run All\" \n",
    "# You can also write temporary files to /kaggle/temp/, but they won't be saved outside of the current session"
   ]
  },
  {
   "cell_type": "code",
   "execution_count": 2,
   "id": "d59fa713",
   "metadata": {
    "execution": {
     "iopub.execute_input": "2023-05-14T11:04:41.058495Z",
     "iopub.status.busy": "2023-05-14T11:04:41.057549Z",
     "iopub.status.idle": "2023-05-14T11:04:42.508448Z",
     "shell.execute_reply": "2023-05-14T11:04:42.507561Z"
    },
    "papermill": {
     "duration": 1.463836,
     "end_time": "2023-05-14T11:04:42.511290",
     "exception": false,
     "start_time": "2023-05-14T11:04:41.047454",
     "status": "completed"
    },
    "tags": []
   },
   "outputs": [
    {
     "name": "stderr",
     "output_type": "stream",
     "text": [
      "/opt/conda/lib/python3.10/site-packages/scipy/__init__.py:146: UserWarning: A NumPy version >=1.16.5 and <1.23.0 is required for this version of SciPy (detected version 1.23.5\n",
      "  warnings.warn(f\"A NumPy version >={np_minversion} and <{np_maxversion}\"\n"
     ]
    }
   ],
   "source": [
    "import numpy as np\n",
    "import pandas as pd\n",
    "import matplotlib.pyplot as plt\n",
    "import seaborn as sns\n"
   ]
  },
  {
   "cell_type": "code",
   "execution_count": 3,
   "id": "42e4cd97",
   "metadata": {
    "execution": {
     "iopub.execute_input": "2023-05-14T11:04:42.529949Z",
     "iopub.status.busy": "2023-05-14T11:04:42.528994Z",
     "iopub.status.idle": "2023-05-14T11:04:42.945575Z",
     "shell.execute_reply": "2023-05-14T11:04:42.944074Z"
    },
    "papermill": {
     "duration": 0.429593,
     "end_time": "2023-05-14T11:04:42.948925",
     "exception": false,
     "start_time": "2023-05-14T11:04:42.519332",
     "status": "completed"
    },
    "tags": []
   },
   "outputs": [],
   "source": [
    "from sklearn.linear_model import LinearRegression\n",
    "from sklearn.metrics import mean_squared_error, r2_score, mean_absolute_error\n",
    "from sklearn.model_selection import train_test_split"
   ]
  },
  {
   "cell_type": "code",
   "execution_count": 4,
   "id": "4bd7d905",
   "metadata": {
    "execution": {
     "iopub.execute_input": "2023-05-14T11:04:42.967945Z",
     "iopub.status.busy": "2023-05-14T11:04:42.967478Z",
     "iopub.status.idle": "2023-05-14T11:04:43.018666Z",
     "shell.execute_reply": "2023-05-14T11:04:43.017324Z"
    },
    "papermill": {
     "duration": 0.064949,
     "end_time": "2023-05-14T11:04:43.022412",
     "exception": false,
     "start_time": "2023-05-14T11:04:42.957463",
     "status": "completed"
    },
    "tags": []
   },
   "outputs": [
    {
     "data": {
      "text/html": [
       "<div>\n",
       "<style scoped>\n",
       "    .dataframe tbody tr th:only-of-type {\n",
       "        vertical-align: middle;\n",
       "    }\n",
       "\n",
       "    .dataframe tbody tr th {\n",
       "        vertical-align: top;\n",
       "    }\n",
       "\n",
       "    .dataframe thead th {\n",
       "        text-align: right;\n",
       "    }\n",
       "</style>\n",
       "<table border=\"1\" class=\"dataframe\">\n",
       "  <thead>\n",
       "    <tr style=\"text-align: right;\">\n",
       "      <th></th>\n",
       "      <th>Hours</th>\n",
       "      <th>Scores</th>\n",
       "    </tr>\n",
       "  </thead>\n",
       "  <tbody>\n",
       "    <tr>\n",
       "      <th>0</th>\n",
       "      <td>2.5</td>\n",
       "      <td>21</td>\n",
       "    </tr>\n",
       "    <tr>\n",
       "      <th>1</th>\n",
       "      <td>5.1</td>\n",
       "      <td>47</td>\n",
       "    </tr>\n",
       "    <tr>\n",
       "      <th>2</th>\n",
       "      <td>3.2</td>\n",
       "      <td>27</td>\n",
       "    </tr>\n",
       "    <tr>\n",
       "      <th>3</th>\n",
       "      <td>8.5</td>\n",
       "      <td>75</td>\n",
       "    </tr>\n",
       "    <tr>\n",
       "      <th>4</th>\n",
       "      <td>3.5</td>\n",
       "      <td>30</td>\n",
       "    </tr>\n",
       "  </tbody>\n",
       "</table>\n",
       "</div>"
      ],
      "text/plain": [
       "   Hours  Scores\n",
       "0    2.5      21\n",
       "1    5.1      47\n",
       "2    3.2      27\n",
       "3    8.5      75\n",
       "4    3.5      30"
      ]
     },
     "execution_count": 4,
     "metadata": {},
     "output_type": "execute_result"
    }
   ],
   "source": [
    "data = pd.read_csv(\"/kaggle/input/students-score-dataset-linear-regression/student_scores.csv\")\n",
    "data.head()"
   ]
  },
  {
   "cell_type": "code",
   "execution_count": 5,
   "id": "4ac6fe5e",
   "metadata": {
    "execution": {
     "iopub.execute_input": "2023-05-14T11:04:43.043941Z",
     "iopub.status.busy": "2023-05-14T11:04:43.042956Z",
     "iopub.status.idle": "2023-05-14T11:04:43.070645Z",
     "shell.execute_reply": "2023-05-14T11:04:43.069100Z"
    },
    "papermill": {
     "duration": 0.040939,
     "end_time": "2023-05-14T11:04:43.073383",
     "exception": false,
     "start_time": "2023-05-14T11:04:43.032444",
     "status": "completed"
    },
    "tags": []
   },
   "outputs": [
    {
     "data": {
      "text/html": [
       "<div>\n",
       "<style scoped>\n",
       "    .dataframe tbody tr th:only-of-type {\n",
       "        vertical-align: middle;\n",
       "    }\n",
       "\n",
       "    .dataframe tbody tr th {\n",
       "        vertical-align: top;\n",
       "    }\n",
       "\n",
       "    .dataframe thead th {\n",
       "        text-align: right;\n",
       "    }\n",
       "</style>\n",
       "<table border=\"1\" class=\"dataframe\">\n",
       "  <thead>\n",
       "    <tr style=\"text-align: right;\">\n",
       "      <th></th>\n",
       "      <th>Hours</th>\n",
       "      <th>Scores</th>\n",
       "    </tr>\n",
       "  </thead>\n",
       "  <tbody>\n",
       "    <tr>\n",
       "      <th>count</th>\n",
       "      <td>25.000000</td>\n",
       "      <td>25.000000</td>\n",
       "    </tr>\n",
       "    <tr>\n",
       "      <th>mean</th>\n",
       "      <td>5.012000</td>\n",
       "      <td>51.480000</td>\n",
       "    </tr>\n",
       "    <tr>\n",
       "      <th>std</th>\n",
       "      <td>2.525094</td>\n",
       "      <td>25.286887</td>\n",
       "    </tr>\n",
       "    <tr>\n",
       "      <th>min</th>\n",
       "      <td>1.100000</td>\n",
       "      <td>17.000000</td>\n",
       "    </tr>\n",
       "    <tr>\n",
       "      <th>25%</th>\n",
       "      <td>2.700000</td>\n",
       "      <td>30.000000</td>\n",
       "    </tr>\n",
       "    <tr>\n",
       "      <th>50%</th>\n",
       "      <td>4.800000</td>\n",
       "      <td>47.000000</td>\n",
       "    </tr>\n",
       "    <tr>\n",
       "      <th>75%</th>\n",
       "      <td>7.400000</td>\n",
       "      <td>75.000000</td>\n",
       "    </tr>\n",
       "    <tr>\n",
       "      <th>max</th>\n",
       "      <td>9.200000</td>\n",
       "      <td>95.000000</td>\n",
       "    </tr>\n",
       "  </tbody>\n",
       "</table>\n",
       "</div>"
      ],
      "text/plain": [
       "           Hours     Scores\n",
       "count  25.000000  25.000000\n",
       "mean    5.012000  51.480000\n",
       "std     2.525094  25.286887\n",
       "min     1.100000  17.000000\n",
       "25%     2.700000  30.000000\n",
       "50%     4.800000  47.000000\n",
       "75%     7.400000  75.000000\n",
       "max     9.200000  95.000000"
      ]
     },
     "execution_count": 5,
     "metadata": {},
     "output_type": "execute_result"
    }
   ],
   "source": [
    "data.describe()"
   ]
  },
  {
   "cell_type": "code",
   "execution_count": 6,
   "id": "fea56b7a",
   "metadata": {
    "execution": {
     "iopub.execute_input": "2023-05-14T11:04:43.093598Z",
     "iopub.status.busy": "2023-05-14T11:04:43.093087Z",
     "iopub.status.idle": "2023-05-14T11:04:43.099909Z",
     "shell.execute_reply": "2023-05-14T11:04:43.098467Z"
    },
    "papermill": {
     "duration": 0.020352,
     "end_time": "2023-05-14T11:04:43.102480",
     "exception": false,
     "start_time": "2023-05-14T11:04:43.082128",
     "status": "completed"
    },
    "tags": []
   },
   "outputs": [],
   "source": [
    "data.dropna(inplace=True)"
   ]
  },
  {
   "cell_type": "code",
   "execution_count": 7,
   "id": "15d0141e",
   "metadata": {
    "execution": {
     "iopub.execute_input": "2023-05-14T11:04:43.123225Z",
     "iopub.status.busy": "2023-05-14T11:04:43.121961Z",
     "iopub.status.idle": "2023-05-14T11:04:43.134116Z",
     "shell.execute_reply": "2023-05-14T11:04:43.132833Z"
    },
    "papermill": {
     "duration": 0.025332,
     "end_time": "2023-05-14T11:04:43.136931",
     "exception": false,
     "start_time": "2023-05-14T11:04:43.111599",
     "status": "completed"
    },
    "tags": []
   },
   "outputs": [
    {
     "data": {
      "text/plain": [
       "<bound method DataFrame.info of     Hours  Scores\n",
       "0     2.5      21\n",
       "1     5.1      47\n",
       "2     3.2      27\n",
       "3     8.5      75\n",
       "4     3.5      30\n",
       "5     1.5      20\n",
       "6     9.2      88\n",
       "7     5.5      60\n",
       "8     8.3      81\n",
       "9     2.7      25\n",
       "10    7.7      85\n",
       "11    5.9      62\n",
       "12    4.5      41\n",
       "13    3.3      42\n",
       "14    1.1      17\n",
       "15    8.9      95\n",
       "16    2.5      30\n",
       "17    1.9      24\n",
       "18    6.1      67\n",
       "19    7.4      69\n",
       "20    2.7      30\n",
       "21    4.8      54\n",
       "22    3.8      35\n",
       "23    6.9      76\n",
       "24    7.8      86>"
      ]
     },
     "execution_count": 7,
     "metadata": {},
     "output_type": "execute_result"
    }
   ],
   "source": [
    "data.info"
   ]
  },
  {
   "cell_type": "code",
   "execution_count": 8,
   "id": "8398b90d",
   "metadata": {
    "execution": {
     "iopub.execute_input": "2023-05-14T11:04:43.157479Z",
     "iopub.status.busy": "2023-05-14T11:04:43.156985Z",
     "iopub.status.idle": "2023-05-14T11:04:43.504439Z",
     "shell.execute_reply": "2023-05-14T11:04:43.502946Z"
    },
    "papermill": {
     "duration": 0.36152,
     "end_time": "2023-05-14T11:04:43.507510",
     "exception": false,
     "start_time": "2023-05-14T11:04:43.145990",
     "status": "completed"
    },
    "tags": []
   },
   "outputs": [
    {
     "data": {
      "text/plain": [
       "<AxesSubplot: xlabel='Hours', ylabel='Scores'>"
      ]
     },
     "execution_count": 8,
     "metadata": {},
     "output_type": "execute_result"
    },
    {
     "data": {
      "image/png": "[encoded data removed]",
      "text/plain": [
       "<Figure size 640x480 with 1 Axes>"
      ]
     },
     "metadata": {},
     "output_type": "display_data"
    }
   ],
   "source": [
    "sns.scatterplot(x='Hours', y='Scores', data=data)"
   ]
  },
  {
   "cell_type": "code",
   "execution_count": 9,
   "id": "64d0f74b",
   "metadata": {
    "execution": {
     "iopub.execute_input": "2023-05-14T11:04:43.529915Z",
     "iopub.status.busy": "2023-05-14T11:04:43.528869Z",
     "iopub.status.idle": "2023-05-14T11:04:43.536964Z",
     "shell.execute_reply": "2023-05-14T11:04:43.535642Z"
    },
    "papermill": {
     "duration": 0.022482,
     "end_time": "2023-05-14T11:04:43.539617",
     "exception": false,
     "start_time": "2023-05-14T11:04:43.517135",
     "status": "completed"
    },
    "tags": []
   },
   "outputs": [],
   "source": [
    "train_data, test_data = train_test_split(data, test_size = 0.33, random_state = 42)"
   ]
  },
  {
   "cell_type": "code",
   "execution_count": 10,
   "id": "273469f5",
   "metadata": {
    "execution": {
     "iopub.execute_input": "2023-05-14T11:04:43.561459Z",
     "iopub.status.busy": "2023-05-14T11:04:43.560331Z",
     "iopub.status.idle": "2023-05-14T11:04:43.570555Z",
     "shell.execute_reply": "2023-05-14T11:04:43.569031Z"
    },
    "papermill": {
     "duration": 0.025378,
     "end_time": "2023-05-14T11:04:43.574657",
     "exception": false,
     "start_time": "2023-05-14T11:04:43.549279",
     "status": "completed"
    },
    "tags": []
   },
   "outputs": [
    {
     "name": "stdout",
     "output_type": "stream",
     "text": [
      "    Hours  Scores\n",
      "5     1.5      20\n",
      "2     3.2      27\n",
      "12    4.5      41\n",
      "15    8.9      95\n",
      "3     8.5      75\n",
      "4     3.5      30\n",
      "20    2.7      30\n",
      "17    1.9      24\n",
      "21    4.8      54\n",
      "18    6.1      67\n",
      "24    7.8      86\n",
      "7     5.5      60\n",
      "10    7.7      85\n",
      "14    1.1      17\n",
      "19    7.4      69\n",
      "6     9.2      88\n"
     ]
    }
   ],
   "source": [
    "print(train_data)"
   ]
  },
  {
   "cell_type": "code",
   "execution_count": 11,
   "id": "12d8b399",
   "metadata": {
    "execution": {
     "iopub.execute_input": "2023-05-14T11:04:43.597192Z",
     "iopub.status.busy": "2023-05-14T11:04:43.596723Z",
     "iopub.status.idle": "2023-05-14T11:04:43.604927Z",
     "shell.execute_reply": "2023-05-14T11:04:43.603686Z"
    },
    "papermill": {
     "duration": 0.022734,
     "end_time": "2023-05-14T11:04:43.607714",
     "exception": false,
     "start_time": "2023-05-14T11:04:43.584980",
     "status": "completed"
    },
    "tags": []
   },
   "outputs": [
    {
     "name": "stdout",
     "output_type": "stream",
     "text": [
      "    Hours  Scores\n",
      "8     8.3      81\n",
      "16    2.5      30\n",
      "0     2.5      21\n",
      "23    6.9      76\n",
      "11    5.9      62\n",
      "9     2.7      25\n",
      "13    3.3      42\n",
      "1     5.1      47\n",
      "22    3.8      35\n"
     ]
    }
   ],
   "source": [
    "print(test_data)"
   ]
  },
  {
   "cell_type": "code",
   "execution_count": 12,
   "id": "b0849b06",
   "metadata": {
    "execution": {
     "iopub.execute_input": "2023-05-14T11:04:43.628506Z",
     "iopub.status.busy": "2023-05-14T11:04:43.628087Z",
     "iopub.status.idle": "2023-05-14T11:04:43.633990Z",
     "shell.execute_reply": "2023-05-14T11:04:43.632685Z"
    },
    "papermill": {
     "duration": 0.019529,
     "end_time": "2023-05-14T11:04:43.636698",
     "exception": false,
     "start_time": "2023-05-14T11:04:43.617169",
     "status": "completed"
    },
    "tags": []
   },
   "outputs": [],
   "source": [
    "x_train = train_data[\"Hours\"]\n",
    "y_train = train_data[\"Scores\"]"
   ]
  },
  {
   "cell_type": "code",
   "execution_count": 13,
   "id": "4f531dc7",
   "metadata": {
    "execution": {
     "iopub.execute_input": "2023-05-14T11:04:43.657853Z",
     "iopub.status.busy": "2023-05-14T11:04:43.657463Z",
     "iopub.status.idle": "2023-05-14T11:04:43.664411Z",
     "shell.execute_reply": "2023-05-14T11:04:43.663222Z"
    },
    "papermill": {
     "duration": 0.021251,
     "end_time": "2023-05-14T11:04:43.667458",
     "exception": false,
     "start_time": "2023-05-14T11:04:43.646207",
     "status": "completed"
    },
    "tags": []
   },
   "outputs": [
    {
     "name": "stdout",
     "output_type": "stream",
     "text": [
      "5     1.5\n",
      "2     3.2\n",
      "12    4.5\n",
      "15    8.9\n",
      "3     8.5\n",
      "4     3.5\n",
      "20    2.7\n",
      "17    1.9\n",
      "21    4.8\n",
      "18    6.1\n",
      "24    7.8\n",
      "7     5.5\n",
      "10    7.7\n",
      "14    1.1\n",
      "19    7.4\n",
      "6     9.2\n",
      "Name: Hours, dtype: float64\n"
     ]
    }
   ],
   "source": [
    "print(x_train)"
   ]
  },
  {
   "cell_type": "code",
   "execution_count": 14,
   "id": "0c302465",
   "metadata": {
    "execution": {
     "iopub.execute_input": "2023-05-14T11:04:43.688375Z",
     "iopub.status.busy": "2023-05-14T11:04:43.687962Z",
     "iopub.status.idle": "2023-05-14T11:04:43.694076Z",
     "shell.execute_reply": "2023-05-14T11:04:43.692731Z"
    },
    "papermill": {
     "duration": 0.019782,
     "end_time": "2023-05-14T11:04:43.696683",
     "exception": false,
     "start_time": "2023-05-14T11:04:43.676901",
     "status": "completed"
    },
    "tags": []
   },
   "outputs": [
    {
     "name": "stdout",
     "output_type": "stream",
     "text": [
      "5     20\n",
      "2     27\n",
      "12    41\n",
      "15    95\n",
      "3     75\n",
      "4     30\n",
      "20    30\n",
      "17    24\n",
      "21    54\n",
      "18    67\n",
      "24    86\n",
      "7     60\n",
      "10    85\n",
      "14    17\n",
      "19    69\n",
      "6     88\n",
      "Name: Scores, dtype: int64\n"
     ]
    }
   ],
   "source": [
    "print(y_train)"
   ]
  },
  {
   "cell_type": "code",
   "execution_count": 15,
   "id": "750268bc",
   "metadata": {
    "execution": {
     "iopub.execute_input": "2023-05-14T11:04:43.717281Z",
     "iopub.status.busy": "2023-05-14T11:04:43.716873Z",
     "iopub.status.idle": "2023-05-14T11:04:43.722563Z",
     "shell.execute_reply": "2023-05-14T11:04:43.721389Z"
    },
    "papermill": {
     "duration": 0.018637,
     "end_time": "2023-05-14T11:04:43.724972",
     "exception": false,
     "start_time": "2023-05-14T11:04:43.706335",
     "status": "completed"
    },
    "tags": []
   },
   "outputs": [],
   "source": [
    "x_train = train_data.Hours.values.reshape(-1,1)\n",
    "y_train = train_data.Scores.values.reshape(-1,1)"
   ]
  },
  {
   "cell_type": "code",
   "execution_count": 16,
   "id": "c72780b2",
   "metadata": {
    "execution": {
     "iopub.execute_input": "2023-05-14T11:04:43.745956Z",
     "iopub.status.busy": "2023-05-14T11:04:43.745228Z",
     "iopub.status.idle": "2023-05-14T11:04:43.775330Z",
     "shell.execute_reply": "2023-05-14T11:04:43.773921Z"
    },
    "papermill": {
     "duration": 0.043452,
     "end_time": "2023-05-14T11:04:43.777870",
     "exception": false,
     "start_time": "2023-05-14T11:04:43.734418",
     "status": "completed"
    },
    "tags": []
   },
   "outputs": [
    {
     "data": {
      "text/html": [
       "<style>#sk-container-id-1 {color: black;background-color: white;}#sk-container-id-1 pre{padding: 0;}#sk-container-id-1 div.sk-toggleable {background-color: white;}#sk-container-id-1 label.sk-toggleable__label {cursor: pointer;display: block;width: 100%;margin-bottom: 0;padding: 0.3em;box-sizing: border-box;text-align: center;}#sk-container-id-1 label.sk-toggleable__label-arrow:before {content: \"▸\";float: left;margin-right: 0.25em;color: #696969;}#sk-container-id-1 label.sk-toggleable__label-arrow:hover:before {color: black;}#sk-container-id-1 div.sk-estimator:hover label.sk-toggleable__label-arrow:before {color: black;}#sk-container-id-1 div.sk-toggleable__content {max-height: 0;max-width: 0;overflow: hidden;text-align: left;background-color: #f0f8ff;}#sk-container-id-1 div.sk-toggleable__content pre {margin: 0.2em;color: black;border-radius: 0.25em;background-color: #f0f8ff;}#sk-container-id-1 input.sk-toggleable__control:checked~div.sk-toggleable__content {max-height: 200px;max-width: 100%;overflow: auto;}#sk-container-id-1 input.sk-toggleable__control:checked~label.sk-toggleable__label-arrow:before {content: \"▾\";}#sk-container-id-1 div.sk-estimator input.sk-toggleable__control:checked~label.sk-toggleable__label {background-color: #d4ebff;}#sk-container-id-1 div.sk-label input.sk-toggleable__control:checked~label.sk-toggleable__label {background-color: #d4ebff;}#sk-container-id-1 input.sk-hidden--visually {border: 0;clip: rect(1px 1px 1px 1px);clip: rect(1px, 1px, 1px, 1px);height: 1px;margin: -1px;overflow: hidden;padding: 0;position: absolute;width: 1px;}#sk-container-id-1 div.sk-estimator {font-family: monospace;background-color: #f0f8ff;border: 1px dotted black;border-radius: 0.25em;box-sizing: border-box;margin-bottom: 0.5em;}#sk-container-id-1 div.sk-estimator:hover {background-color: #d4ebff;}#sk-container-id-1 div.sk-parallel-item::after {content: \"\";width: 100%;border-bottom: 1px solid gray;flex-grow: 1;}#sk-container-id-1 div.sk-label:hover label.sk-toggleable__label {background-color: #d4ebff;}#sk-container-id-1 div.sk-serial::before {content: \"\";position: absolute;border-left: 1px solid gray;box-sizing: border-box;top: 0;bottom: 0;left: 50%;z-index: 0;}#sk-container-id-1 div.sk-serial {display: flex;flex-direction: column;align-items: center;background-color: white;padding-right: 0.2em;padding-left: 0.2em;position: relative;}#sk-container-id-1 div.sk-item {position: relative;z-index: 1;}#sk-container-id-1 div.sk-parallel {display: flex;align-items: stretch;justify-content: center;background-color: white;position: relative;}#sk-container-id-1 div.sk-item::before, #sk-container-id-1 div.sk-parallel-item::before {content: \"\";position: absolute;border-left: 1px solid gray;box-sizing: border-box;top: 0;bottom: 0;left: 50%;z-index: -1;}#sk-container-id-1 div.sk-parallel-item {display: flex;flex-direction: column;z-index: 1;position: relative;background-color: white;}#sk-container-id-1 div.sk-parallel-item:first-child::after {align-self: flex-end;width: 50%;}#sk-container-id-1 div.sk-parallel-item:last-child::after {align-self: flex-start;width: 50%;}#sk-container-id-1 div.sk-parallel-item:only-child::after {width: 0;}#sk-container-id-1 div.sk-dashed-wrapped {border: 1px dashed gray;margin: 0 0.4em 0.5em 0.4em;box-sizing: border-box;padding-bottom: 0.4em;background-color: white;}#sk-container-id-1 div.sk-label label {font-family: monospace;font-weight: bold;display: inline-block;line-height: 1.2em;}#sk-container-id-1 div.sk-label-container {text-align: center;}#sk-container-id-1 div.sk-container {/* jupyter's `normalize.less` sets `[hidden] { display: none; }` but bootstrap.min.css set `[hidden] { display: none !important; }` so we also need the `!important` here to be able to override the default hidden behavior on the sphinx rendered scikit-learn.org. See: https://github.com/scikit-learn/scikit-learn/issues/21755 */display: inline-block !important;position: relative;}#sk-container-id-1 div.sk-text-repr-fallback {display: none;}</style><div id=\"sk-container-id-1\" class=\"sk-top-container\"><div class=\"sk-text-repr-fallback\"><pre>LinearRegression()</pre><b>In a Jupyter environment, please rerun this cell to show the HTML representation or trust the notebook. <br />On GitHub, the HTML representation is unable to render, please try loading this page with nbviewer.org.</b></div><div class=\"sk-container\" hidden><div class=\"sk-item\"><div class=\"sk-estimator sk-toggleable\"><input class=\"sk-toggleable__control sk-hidden--visually\" id=\"sk-estimator-id-1\" type=\"checkbox\" checked><label for=\"sk-estimator-id-1\" class=\"sk-toggleable__label sk-toggleable__label-arrow\">LinearRegression</label><div class=\"sk-toggleable__content\"><pre>LinearRegression()</pre></div></div></div></div></div>"
      ],
      "text/plain": [
       "LinearRegression()"
      ]
     },
     "execution_count": 16,
     "metadata": {},
     "output_type": "execute_result"
    }
   ],
   "source": [
    "model = LinearRegression()\n",
    "model.fit(x_train, y_train)"
   ]
  },
  {
   "cell_type": "code",
   "execution_count": 17,
   "id": "ab887c9f",
   "metadata": {
    "execution": {
     "iopub.execute_input": "2023-05-14T11:04:43.799947Z",
     "iopub.status.busy": "2023-05-14T11:04:43.799388Z",
     "iopub.status.idle": "2023-05-14T11:04:43.806380Z",
     "shell.execute_reply": "2023-05-14T11:04:43.805224Z"
    },
    "papermill": {
     "duration": 0.020841,
     "end_time": "2023-05-14T11:04:43.808648",
     "exception": false,
     "start_time": "2023-05-14T11:04:43.787807",
     "status": "completed"
    },
    "tags": []
   },
   "outputs": [],
   "source": [
    "x_test = test_data[\"Hours\"]\n",
    "y_train = test_data[\"Scores\"]\n",
    "x_test = test_data.Hours.values.reshape(-1,1)\n",
    "y_test = test_data.Scores.values.reshape(-1,1)"
   ]
  },
  {
   "cell_type": "code",
   "execution_count": 18,
   "id": "ee8db59c",
   "metadata": {
    "execution": {
     "iopub.execute_input": "2023-05-14T11:04:43.830381Z",
     "iopub.status.busy": "2023-05-14T11:04:43.829952Z",
     "iopub.status.idle": "2023-05-14T11:04:43.835479Z",
     "shell.execute_reply": "2023-05-14T11:04:43.834337Z"
    },
    "papermill": {
     "duration": 0.01908,
     "end_time": "2023-05-14T11:04:43.837744",
     "exception": false,
     "start_time": "2023-05-14T11:04:43.818664",
     "status": "completed"
    },
    "tags": []
   },
   "outputs": [],
   "source": [
    "y_pred = model.predict(x_test)"
   ]
  },
  {
   "cell_type": "code",
   "execution_count": 19,
   "id": "fb3779df",
   "metadata": {
    "execution": {
     "iopub.execute_input": "2023-05-14T11:04:43.859096Z",
     "iopub.status.busy": "2023-05-14T11:04:43.858704Z",
     "iopub.status.idle": "2023-05-14T11:04:43.864852Z",
     "shell.execute_reply": "2023-05-14T11:04:43.863669Z"
    },
    "papermill": {
     "duration": 0.019365,
     "end_time": "2023-05-14T11:04:43.866990",
     "exception": false,
     "start_time": "2023-05-14T11:04:43.847625",
     "status": "completed"
    },
    "tags": []
   },
   "outputs": [
    {
     "name": "stdout",
     "output_type": "stream",
     "text": [
      "[[83.50244409]\n",
      " [27.53075726]\n",
      " [27.53075726]\n",
      " [69.99203692]\n",
      " [60.34174609]\n",
      " [29.46081542]\n",
      " [35.25098992]\n",
      " [52.62151342]\n",
      " [40.07613534]]\n"
     ]
    }
   ],
   "source": [
    "print(y_pred)"
   ]
  },
  {
   "cell_type": "code",
   "execution_count": 20,
   "id": "6464ad26",
   "metadata": {
    "execution": {
     "iopub.execute_input": "2023-05-14T11:04:43.888904Z",
     "iopub.status.busy": "2023-05-14T11:04:43.888465Z",
     "iopub.status.idle": "2023-05-14T11:04:43.894837Z",
     "shell.execute_reply": "2023-05-14T11:04:43.893521Z"
    },
    "papermill": {
     "duration": 0.020493,
     "end_time": "2023-05-14T11:04:43.897319",
     "exception": false,
     "start_time": "2023-05-14T11:04:43.876826",
     "status": "completed"
    },
    "tags": []
   },
   "outputs": [
    {
     "name": "stdout",
     "output_type": "stream",
     "text": [
      "[[81]\n",
      " [30]\n",
      " [21]\n",
      " [76]\n",
      " [62]\n",
      " [25]\n",
      " [42]\n",
      " [47]\n",
      " [35]]\n"
     ]
    }
   ],
   "source": [
    "print(y_test)"
   ]
  },
  {
   "cell_type": "code",
   "execution_count": 21,
   "id": "dff2bd6e",
   "metadata": {
    "execution": {
     "iopub.execute_input": "2023-05-14T11:04:43.919604Z",
     "iopub.status.busy": "2023-05-14T11:04:43.918580Z",
     "iopub.status.idle": "2023-05-14T11:04:43.925536Z",
     "shell.execute_reply": "2023-05-14T11:04:43.924352Z"
    },
    "papermill": {
     "duration": 0.020362,
     "end_time": "2023-05-14T11:04:43.927705",
     "exception": false,
     "start_time": "2023-05-14T11:04:43.907343",
     "status": "completed"
    },
    "tags": []
   },
   "outputs": [
    {
     "name": "stdout",
     "output_type": "stream",
     "text": [
      "Accuracy Score: 94.35488190277577\n"
     ]
    }
   ],
   "source": [
    "Accuracy = r2_score(y_test, y_pred)\n",
    "print(\"Accuracy Score:\", Accuracy*100)"
   ]
  },
  {
   "cell_type": "code",
   "execution_count": 22,
   "id": "5a810606",
   "metadata": {
    "execution": {
     "iopub.execute_input": "2023-05-14T11:04:43.949848Z",
     "iopub.status.busy": "2023-05-14T11:04:43.949120Z",
     "iopub.status.idle": "2023-05-14T11:04:43.956861Z",
     "shell.execute_reply": "2023-05-14T11:04:43.955729Z"
    },
    "papermill": {
     "duration": 0.021759,
     "end_time": "2023-05-14T11:04:43.959338",
     "exception": false,
     "start_time": "2023-05-14T11:04:43.937579",
     "status": "completed"
    },
    "tags": []
   },
   "outputs": [
    {
     "data": {
      "text/plain": [
       "24.074686364260987"
      ]
     },
     "execution_count": 22,
     "metadata": {},
     "output_type": "execute_result"
    }
   ],
   "source": [
    "mean_squared_error(y_test, y_pred)"
   ]
  },
  {
   "cell_type": "code",
   "execution_count": 23,
   "id": "bd06618b",
   "metadata": {
    "execution": {
     "iopub.execute_input": "2023-05-14T11:04:43.981581Z",
     "iopub.status.busy": "2023-05-14T11:04:43.981188Z",
     "iopub.status.idle": "2023-05-14T11:04:43.989548Z",
     "shell.execute_reply": "2023-05-14T11:04:43.988371Z"
    },
    "papermill": {
     "duration": 0.022308,
     "end_time": "2023-05-14T11:04:43.991987",
     "exception": false,
     "start_time": "2023-05-14T11:04:43.969679",
     "status": "completed"
    },
    "tags": []
   },
   "outputs": [
    {
     "data": {
      "text/plain": [
       "4.564015037730867"
      ]
     },
     "execution_count": 23,
     "metadata": {},
     "output_type": "execute_result"
    }
   ],
   "source": [
    "mean_absolute_error(y_test, y_pred)"
   ]
  }
 ],
 "metadata": {
  "kernelspec": {
   "display_name": "Python 3",
   "language": "python",
   "name": "python3"
  },
  "language_info": {
   "codemirror_mode": {
    "name": "ipython",
    "version": 3
   },
   "file_extension": ".py",
   "mimetype": "text/x-python",
   "name": "python",
   "nbconvert_exporter": "python",
   "pygments_lexer": "ipython3",
   "version": "3.10.10"
  },
  "papermill": {
   "default_parameters": {},
   "duration": 17.721384,
   "end_time": "2023-05-14T11:04:45.126800",
   "environment_variables": {},
   "exception": null,
   "input_path": "__notebook__.ipynb",
   "output_path": "__notebook__.ipynb",
   "parameters": {},
   "start_time": "2023-05-14T11:04:27.405416",
   "version": "2.4.0"
  }
 },
 "nbformat": 4,
 "nbformat_minor": 5
}
